{
 "cells": [
  {
   "cell_type": "code",
   "execution_count": null,
   "metadata": {},
   "outputs": [],
   "source": [
    "import os\n",
    "import os.path as op\n",
    "import numpy as np\n",
    "import pandas as pd\n",
    "import matplotlib\n",
    "import matplotlib.pyplot as plt\n",
    "import skimage.io\n",
    "import skimage.filters\n",
    "import skimage.morphology\n",
    "from skimage.filters import try_all_threshold\n",
    "import matplotlib.image as mpimg\n",
    "from scipy import ndimage as ndi\n",
    "from skimage import exposure"
   ]
  },
  {
   "cell_type": "code",
   "execution_count": null,
   "metadata": {
    "collapsed": true
   },
   "outputs": [],
   "source": [
    "# use this when working on desktop\n",
    "path = '/Desktop/temp_images/NP_penetration/' # The folder where the .tiff files are located\n",
    "filename = '5p_40nm_brain_1_striatum_100x_z_stack_2'"
   ]
  },
  {
   "cell_type": "code",
   "execution_count": null,
   "metadata": {
    "collapsed": true
   },
   "outputs": [],
   "source": [
    "# use this when working on laptop\n",
    "path = '/Desktop/IHC_Data/NP_penetration/'\n",
    "filename = '5p_100nm_brain_1_striatum_100x_z_stack_2'"
   ]
  },
  {
   "cell_type": "code",
   "execution_count": null,
   "metadata": {},
   "outputs": [],
   "source": [
    "img = skimage.io.imread(os.path.expanduser('~')+path+filename+'.tif')\n",
    "print(img.shape)\n",
    "print(img.dtype)"
   ]
  },
  {
   "cell_type": "code",
   "execution_count": null,
   "metadata": {},
   "outputs": [],
   "source": [
    "DAPI = img[0::2]\n",
    "NP = img[1::2]\n",
    "\n",
    "print(DAPI.shape)\n",
    "print(NP.shape)"
   ]
  },
  {
   "cell_type": "code",
   "execution_count": null,
   "metadata": {},
   "outputs": [],
   "source": [
    "def show_plane(ax, plane, cmap=\"gray\", title=None):\n",
    "    ax.imshow(plane, cmap=cmap)\n",
    "    ax.axis(\"off\")\n",
    "\n",
    "    if title:\n",
    "        ax.set_title(title)\n",
    "\n",
    "\n",
    "(n_plane, n_row, n_col) = DAPI.shape\n",
    "_, (a, b, c) = plt.subplots(ncols=3, figsize=(15, 5))\n",
    "\n",
    "show_plane(a, DAPI[n_plane // 2], title=f'Plane = {n_plane // 2}')\n",
    "show_plane(b, DAPI[:, 770, :], title=f'Row = {770}')\n",
    "show_plane(c, DAPI[:, :, n_col // 2], title=f'Column = {n_col // 2}')"
   ]
  },
  {
   "cell_type": "code",
   "execution_count": null,
   "metadata": {
    "collapsed": true
   },
   "outputs": [],
   "source": [
    "## For now, just using this function to adjust brightness and make the images more viewer friendly\n",
    "\n",
    "def plot_hist(ax, data, title=None):\n",
    "    # Helper function for plotting histograms\n",
    "    ax.hist(data.ravel(), bins=256)\n",
    "    ax.ticklabel_format(axis=\"y\", style=\"scientific\", scilimits=(0, 0))\n",
    "\n",
    "    if title:\n",
    "        ax.set_title(title)\n",
    "\n",
    "\n",
    "gamma_low_val = 0.5\n",
    "gamma_low = exposure.adjust_gamma(DAPI, gamma=gamma_low_val)\n",
    "\n",
    "_, ((a, b), (d, e)) = plt.subplots(nrows=2, ncols=2, figsize=(12, 8))\n",
    "\n",
    "show_plane(a, DAPI[14], title='Original')\n",
    "show_plane(b, gamma_low[14], title=f'Gamma = {gamma_low_val}')\n",
    "\n",
    "plot_hist(d, DAPI)\n",
    "plot_hist(e, gamma_low)"
   ]
  },
  {
   "cell_type": "code",
   "execution_count": null,
   "metadata": {
    "collapsed": true
   },
   "outputs": [],
   "source": [
    "## This function can be used to look through subsequent steps of the entire volume of the z-stack\n",
    "\n",
    "def display(im3d, cmap=\"gray\", step=2):\n",
    "    _, axes = plt.subplots(nrows=5, ncols=5, figsize=(12, 15))\n",
    "\n",
    "    vmin = im3d.min()\n",
    "    vmax = im3d.max()\n",
    "\n",
    "    for ax, image in zip(axes.flatten(), im3d[::step]):\n",
    "        ax.imshow(image, cmap=cmap, vmin=vmin, vmax=vmax)\n",
    "        ax.set_xticks([])\n",
    "        ax.set_yticks([])\n",
    "\n",
    "\n",
    "display(gamma_low)"
   ]
  },
  {
   "cell_type": "code",
   "execution_count": null,
   "metadata": {},
   "outputs": [],
   "source": [
    "DAPI_intensities = np.sum(np.sum(DAPI, axis=1), axis=1)\n",
    "NP_intensities = np.sum(np.sum(NP, axis=1), axis=1)\n",
    "DAPI_intensities.shape\n",
    "NP_intensities.shape"
   ]
  },
  {
   "cell_type": "code",
   "execution_count": null,
   "metadata": {
    "collapsed": true
   },
   "outputs": [],
   "source": []
  },
  {
   "cell_type": "code",
   "execution_count": null,
   "metadata": {},
   "outputs": [],
   "source": [
    "z = np.arange(len(DAPI_intensities))\n",
    "\n",
    "plt.rcdefaults()\n",
    "fig, ax = plt.subplots()\n",
    "\n",
    "ax.barh(z, DAPI_intensities, align='center')\n",
    "ax.set_ylabel('relative z position [um]')\n",
    "ax.set_xlabel('Sum of DAPI intensities')\n",
    "ax.set_title('Sum of intensities in the DAPI channel vs. z-position')\n",
    "\n",
    "plt.show()"
   ]
  },
  {
   "cell_type": "code",
   "execution_count": null,
   "metadata": {},
   "outputs": [],
   "source": [
    "plt.rcdefaults()\n",
    "fig, ax = plt.subplots()\n",
    "\n",
    "ax.barh(z, NP_intensities, align='center', color='firebrick')\n",
    "ax.set_ylabel('relative z position [um]')\n",
    "ax.set_xlabel('Sum of NP intensities')\n",
    "ax.set_title('Sum of intensities in the NP channel vs. z-position')\n",
    "#ax.axes.set_xlim(1600000, 3200000)\n",
    "ax.ticklabel_format(axis='x', style='sci', scilimits=(4,4))\n",
    "\n",
    "plt.show()"
   ]
  },
  {
   "cell_type": "code",
   "execution_count": null,
   "metadata": {
    "collapsed": true
   },
   "outputs": [],
   "source": [
    "\"\"\"\" Currently working on how to decide where we've officially \"entered\" a z-plane within the slice.\n",
    "    Definitely not sure if this is a proper way to do it, but I first just want to subtract out the average DAPI\n",
    "    intensity that exists in the first 4 and last 4 z-planes, where I know we're not in the slice and all signal \n",
    "    should be attributed to background.\"\"\"\n",
    "\n",
    "subtract_val = np.mean(np.array([np.mean(np.mean(DAPI, axis=1), axis=1)[0:4],np.mean(np.mean(DAPI, axis=1), axis=1)[-4:]]))\n",
    "DAPI_int_adj = DAPI_intensities-(subtract_val*1024*1024)"
   ]
  },
  {
   "cell_type": "code",
   "execution_count": null,
   "metadata": {
    "collapsed": true
   },
   "outputs": [],
   "source": [
    "plt.rcdefaults()\n",
    "fig, ax = plt.subplots()\n",
    "\n",
    "ax.barh(z, DAPI_int_adj, align='center')\n",
    "ax.set_ylabel('relative z position [um]')\n",
    "ax.set_xlabel('Sum of adjusted DAPI intensities')\n",
    "ax.set_title('Sum of adjusted intensities in the DAPI channel vs. z-position')\n",
    "\n",
    "plt.show()"
   ]
  },
  {
   "cell_type": "markdown",
   "metadata": {},
   "source": [
    "Now I'm going to use a series of processing steps to determine the number of blobs (in this case cell nuclei) present in each z stack. I've played around in ImageJ to figure out the properties that work best for this particular image. Hopefully it is easily adaptable to other images within the set."
   ]
  },
  {
   "cell_type": "code",
   "execution_count": null,
   "metadata": {},
   "outputs": [],
   "source": [
    "DAPI.shape"
   ]
  },
  {
   "cell_type": "code",
   "execution_count": null,
   "metadata": {},
   "outputs": [],
   "source": [
    "threshold = 38\n",
    "DAPI_binary = DAPI >= threshold\n",
    "DAPI_binary_plot = plt.imshow(1-DAPI_binary[15], cmap='Greys')\n",
    "plt.show()"
   ]
  },
  {
   "cell_type": "code",
   "execution_count": null,
   "metadata": {
    "collapsed": true
   },
   "outputs": [],
   "source": [
    "DAPI_count = np.zeros(DAPI.shape[0])\n",
    "\n",
    "\n",
    "for z in range(0,DAPI.shape[0]):\n",
    "    dilated = skimage.morphology.binary_dilation(DAPI_binary[z])\n",
    "    eroded = skimage.morphology.binary_erosion(dilated)\n",
    "    eroded = ndi.binary_fill_holes(eroded)\n",
    "    DAPI_clean = skimage.morphology.remove_small_objects(eroded, min_size=50)\n",
    "    _, DAPI_count[z] = ndi.label(DAPI_clean)"
   ]
  },
  {
   "cell_type": "code",
   "execution_count": null,
   "metadata": {},
   "outputs": [],
   "source": [
    "z = np.arange(len(DAPI_intensities))\n",
    "\n",
    "def first_nonzero(arr, invalid_val=-1):\n",
    "    mask = arr!=0\n",
    "    return np.where(mask.any(), mask.argmax(), invalid_val)\n",
    "\n",
    "tissue_bottom = 1+first_nonzero(DAPI_count)\n",
    "\n",
    "plt.rcdefaults()\n",
    "fig, ax = plt.subplots()\n",
    "\n",
    "ax.barh(z, DAPI_count, align='center')\n",
    "ax.set_ylabel('relative z position [um]')\n",
    "ax.set_xlabel('# of cell nuclei')\n",
    "ax.set_title('# cell nuclei vs. z-position')\n",
    "\n",
    "plt.show()\n",
    "print('The z-stack first enters the slice at the %dth z-plane' % tissue_bottom)"
   ]
  },
  {
   "cell_type": "markdown",
   "metadata": {},
   "source": [
    "Since we now know the slice in which we enter the tissue, let's now quantify the # of particles at each depth throughout the slice."
   ]
  },
  {
   "cell_type": "code",
   "execution_count": null,
   "metadata": {},
   "outputs": [],
   "source": [
    "NP.shape"
   ]
  },
  {
   "cell_type": "code",
   "execution_count": null,
   "metadata": {},
   "outputs": [],
   "source": [
    "threshold = 54\n",
    "NP_binary = NP >= threshold\n",
    "NP_binary_plot = plt.imshow(1-NP_binary[7], cmap='Greys')\n",
    "plt.show()"
   ]
  },
  {
   "cell_type": "code",
   "execution_count": null,
   "metadata": {
    "collapsed": true
   },
   "outputs": [],
   "source": [
    "NP_count = np.zeros(NP.shape[0])\n",
    "\n",
    "\n",
    "for z in range(0,NP.shape[0]):\n",
    "    dilated = skimage.morphology.binary_dilation(NP_binary[z])\n",
    "    eroded = skimage.morphology.binary_erosion(dilated)\n",
    "    eroded = ndi.binary_fill_holes(eroded)\n",
    "    NP_clean = skimage.morphology.remove_small_objects(eroded, min_size=10)\n",
    "    _, NP_count[z] = ndi.label(NP_clean)"
   ]
  },
  {
   "cell_type": "code",
   "execution_count": null,
   "metadata": {},
   "outputs": [],
   "source": [
    "tissue_bottom"
   ]
  },
  {
   "cell_type": "code",
   "execution_count": null,
   "metadata": {},
   "outputs": [],
   "source": [
    "z = np.arange(len(NP_intensities))\n",
    "\n",
    "plt.rcdefaults()\n",
    "fig, ax = plt.subplots()\n",
    "\n",
    "ax.barh(z, NP_count, align='center', color='firebrick')\n",
    "ax.set_ylabel('relative z position [um]')\n",
    "ax.set_xlabel('# of NPs in z-plane')\n",
    "ax.set_title('# NPs vs. z-position')\n",
    "\n",
    "plt.show()"
   ]
  },
  {
   "cell_type": "code",
   "execution_count": null,
   "metadata": {
    "collapsed": true
   },
   "outputs": [],
   "source": []
  },
  {
   "cell_type": "markdown",
   "metadata": {
    "collapsed": true
   },
   "source": [
    "Now let's use the now defined bottom of the slice to normalize \"relative z position\" to actual tissue depth"
   ]
  },
  {
   "cell_type": "code",
   "execution_count": null,
   "metadata": {},
   "outputs": [],
   "source": [
    "p_depth = -(z-(tissue_bottom-1))\n",
    "\n",
    "plt.rcdefaults()\n",
    "fig, ax = plt.subplots()\n",
    "\n",
    "ax.barh(p_depth, NP_count, align='center', color='firebrick')\n",
    "ax.set_ylabel('penetration depth [um]')\n",
    "ax.set_xlabel('# of NPs')\n",
    "ax.set_title('NP penetration depth')\n",
    "ax.set_ylim(min(p_depth),5)\n",
    "\n",
    "plt.show()"
   ]
  },
  {
   "cell_type": "markdown",
   "metadata": {},
   "source": [
    "Also want to be able to make a dot plot in GraphPad - so want to export a csv that I can manipulate in excel"
   ]
  },
  {
   "cell_type": "code",
   "execution_count": null,
   "metadata": {
    "collapsed": true
   },
   "outputs": [],
   "source": [
    "csv_export = []\n",
    "for depths in range(0,NP_count.size):\n",
    "    if int(NP_count[depths]) != 0:\n",
    "        for n in range(0,int(NP_count[depths])):\n",
    "            csv_export.append(p_depth[depths])\n",
    "\n",
    "export_df = pd.DataFrame(data={\"depths\": csv_export})\n",
    "export_df.to_csv(os.path.expanduser('~')+path+filename+'.csv', sep=',',index=False)"
   ]
  },
  {
   "cell_type": "code",
   "execution_count": null,
   "metadata": {
    "collapsed": true
   },
   "outputs": [],
   "source": []
  },
  {
   "cell_type": "code",
   "execution_count": null,
   "metadata": {
    "collapsed": true
   },
   "outputs": [],
   "source": [
    "export_df"
   ]
  },
  {
   "cell_type": "code",
   "execution_count": null,
   "metadata": {
    "collapsed": true
   },
   "outputs": [],
   "source": []
  },
  {
   "cell_type": "code",
   "execution_count": null,
   "metadata": {
    "collapsed": true
   },
   "outputs": [],
   "source": [
    "DAPI_clean_plot = plt.imshow(1-DAPI_clean[12], cmap='Greys')\n",
    "plt.show()"
   ]
  },
  {
   "cell_type": "code",
   "execution_count": null,
   "metadata": {
    "collapsed": true
   },
   "outputs": [],
   "source": []
  },
  {
   "cell_type": "code",
   "execution_count": null,
   "metadata": {
    "collapsed": true
   },
   "outputs": [],
   "source": [
    "dilated = skimage.morphology.binary_dilation(DAPI_binary[5])\n",
    "DAPI_dilated_plot = plt.imshow(1-dilated, cmap='Greys')\n",
    "\n",
    "plt.show()"
   ]
  },
  {
   "cell_type": "code",
   "execution_count": null,
   "metadata": {
    "collapsed": true
   },
   "outputs": [],
   "source": [
    "eroded = skimage.morphology.binary_erosion(dilated)\n",
    "eroded = ndi.binary_fill_holes(eroded)\n",
    "#DAPI_clean = skimage.morphology.remove_small_objects(eroded, min_size=50)\n",
    "DAPI_erode_plot = plt.imshow(1-eroded, cmap='Greys')\n",
    "plt.show()"
   ]
  },
  {
   "cell_type": "code",
   "execution_count": null,
   "metadata": {
    "collapsed": true
   },
   "outputs": [],
   "source": []
  },
  {
   "cell_type": "code",
   "execution_count": null,
   "metadata": {
    "collapsed": true
   },
   "outputs": [],
   "source": []
  },
  {
   "cell_type": "code",
   "execution_count": null,
   "metadata": {
    "collapsed": true
   },
   "outputs": [],
   "source": []
  },
  {
   "cell_type": "code",
   "execution_count": null,
   "metadata": {
    "collapsed": true
   },
   "outputs": [],
   "source": []
  },
  {
   "cell_type": "code",
   "execution_count": null,
   "metadata": {
    "collapsed": true
   },
   "outputs": [],
   "source": []
  }
 ],
 "metadata": {
  "anaconda-cloud": {},
  "kernelspec": {
   "display_name": "Python 3",
   "language": "python",
   "name": "python3"
  },
  "language_info": {
   "codemirror_mode": {
    "name": "ipython",
    "version": 3
   },
   "file_extension": ".py",
   "mimetype": "text/x-python",
   "name": "python",
   "nbconvert_exporter": "python",
   "pygments_lexer": "ipython3",
   "version": "3.7.4"
  }
 },
 "nbformat": 4,
 "nbformat_minor": 2
}
