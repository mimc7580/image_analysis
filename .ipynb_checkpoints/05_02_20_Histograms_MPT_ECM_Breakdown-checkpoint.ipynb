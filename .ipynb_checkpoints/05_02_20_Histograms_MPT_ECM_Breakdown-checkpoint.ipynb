{
 "cells": [
  {
   "cell_type": "code",
   "execution_count": 1,
   "metadata": {},
   "outputs": [],
   "source": [
    "import os\n",
    "import os.path as op\n",
    "import numpy as np\n",
    "import math\n",
    "import pandas as pd\n",
    "import matplotlib.pyplot as plt\n",
    "import numpy.ma as ma\n",
    "from scipy import stats"
   ]
  },
  {
   "cell_type": "code",
   "execution_count": 2,
   "metadata": {},
   "outputs": [],
   "source": [
    "file_list = [] # This is going to be the list of all filenames that will be included in the analysis\n",
    "\n",
    "path = './OSM_Data/' # The folder where the Deff csv files are located\n",
    "\n",
    "ages = ['P14', 'P21', 'P28', 'P35']\n",
    "slices = 3\n",
    "vids = 5\n",
    "\n",
    "for age in ages:\n",
    "    for slic in range(1, slices+1):\n",
    "        for vid in range(1, vids+1):\n",
    "            file_list.append('{}_40nm_s{}_v{}'.format(age, slic, vid))"
   ]
  },
  {
   "cell_type": "code",
   "execution_count": 3,
   "metadata": {},
   "outputs": [
    {
     "data": {
      "text/plain": [
       "['P14_40nm_s1_v1',\n",
       " 'P14_40nm_s1_v2',\n",
       " 'P14_40nm_s1_v3',\n",
       " 'P14_40nm_s1_v4',\n",
       " 'P14_40nm_s1_v5',\n",
       " 'P14_40nm_s2_v1',\n",
       " 'P14_40nm_s2_v2',\n",
       " 'P14_40nm_s2_v3',\n",
       " 'P14_40nm_s2_v4',\n",
       " 'P14_40nm_s2_v5',\n",
       " 'P14_40nm_s3_v1',\n",
       " 'P14_40nm_s3_v2',\n",
       " 'P14_40nm_s3_v3',\n",
       " 'P14_40nm_s3_v4',\n",
       " 'P14_40nm_s3_v5',\n",
       " 'P21_40nm_s1_v1',\n",
       " 'P21_40nm_s1_v2',\n",
       " 'P21_40nm_s1_v3',\n",
       " 'P21_40nm_s1_v4',\n",
       " 'P21_40nm_s1_v5',\n",
       " 'P21_40nm_s2_v1',\n",
       " 'P21_40nm_s2_v2',\n",
       " 'P21_40nm_s2_v3',\n",
       " 'P21_40nm_s2_v4',\n",
       " 'P21_40nm_s2_v5',\n",
       " 'P21_40nm_s3_v1',\n",
       " 'P21_40nm_s3_v2',\n",
       " 'P21_40nm_s3_v3',\n",
       " 'P21_40nm_s3_v4',\n",
       " 'P21_40nm_s3_v5',\n",
       " 'P28_40nm_s1_v1',\n",
       " 'P28_40nm_s1_v2',\n",
       " 'P28_40nm_s1_v3',\n",
       " 'P28_40nm_s1_v4',\n",
       " 'P28_40nm_s1_v5',\n",
       " 'P28_40nm_s2_v1',\n",
       " 'P28_40nm_s2_v2',\n",
       " 'P28_40nm_s2_v3',\n",
       " 'P28_40nm_s2_v4',\n",
       " 'P28_40nm_s2_v5',\n",
       " 'P28_40nm_s3_v1',\n",
       " 'P28_40nm_s3_v2',\n",
       " 'P28_40nm_s3_v3',\n",
       " 'P28_40nm_s3_v4',\n",
       " 'P28_40nm_s3_v5',\n",
       " 'P35_40nm_s1_v1',\n",
       " 'P35_40nm_s1_v2',\n",
       " 'P35_40nm_s1_v3',\n",
       " 'P35_40nm_s1_v4',\n",
       " 'P35_40nm_s1_v5',\n",
       " 'P35_40nm_s2_v1',\n",
       " 'P35_40nm_s2_v2',\n",
       " 'P35_40nm_s2_v3',\n",
       " 'P35_40nm_s2_v4',\n",
       " 'P35_40nm_s2_v5',\n",
       " 'P35_40nm_s3_v1',\n",
       " 'P35_40nm_s3_v2',\n",
       " 'P35_40nm_s3_v3',\n",
       " 'P35_40nm_s3_v4',\n",
       " 'P35_40nm_s3_v5']"
      ]
     },
     "execution_count": 3,
     "metadata": {},
     "output_type": "execute_result"
    }
   ],
   "source": [
    "file_list"
   ]
  },
  {
   "cell_type": "code",
   "execution_count": 10,
   "metadata": {},
   "outputs": [
    {
     "data": {
      "image/png": "[encoded data removed]",
      "text/plain": [
       "<Figure size 504x288 with 1 Axes>"
      ]
     },
     "metadata": {
      "needs_background": "light"
     },
     "output_type": "display_data"
    }
   ],
   "source": [
    "Deff_vals_P14 = pd.DataFrame()\n",
    "\n",
    "for file in file_list[0:15]:\n",
    "    temp = pd.read_csv(path+'{}_Deff.csv'.format(file))\n",
    "    Deff_vals_P14 = pd.concat([Deff_vals_P14, temp], ignore_index=True)\n",
    "Deff_vals_P14.rename(columns={'0': \"Deff [um^2/s]\"}, inplace=True)\n",
    "Deff_vals_P14['Deff [um^2/s]'] = 10*Deff_vals_P14['Deff [um^2/s]']\n",
    "\n",
    "Deff_vals_P21 = pd.DataFrame()\n",
    "for file in file_list[15:30]:\n",
    "    temp = pd.read_csv(path+'{}_Deff.csv'.format(file))\n",
    "    Deff_vals_P21 = pd.concat([Deff_vals_P21, temp], ignore_index=True)\n",
    "Deff_vals_P21.rename(columns={'0': \"Deff [um^2/s]\"}, inplace=True)\n",
    "Deff_vals_P21['Deff [um^2/s]'] = 10*Deff_vals_P21['Deff [um^2/s]']\n",
    "\n",
    "Deff_vals_P28 = pd.DataFrame()\n",
    "for file in file_list[30:45]:\n",
    "    temp = pd.read_csv(path+'{}_Deff.csv'.format(file))\n",
    "    Deff_vals_P28 = pd.concat([Deff_vals_P28, temp], ignore_index=True)\n",
    "Deff_vals_P28.rename(columns={'0': \"Deff [um^2/s]\"}, inplace=True)\n",
    "Deff_vals_P28['Deff [um^2/s]'] = 10*Deff_vals_P28['Deff [um^2/s]']\n",
    "\n",
    "Deff_vals_P35 = pd.DataFrame()\n",
    "for file in file_list[45:60]:\n",
    "    temp = pd.read_csv(path+'{}_Deff.csv'.format(file))\n",
    "    Deff_vals_P35 = pd.concat([Deff_vals_P35, temp], ignore_index=True)\n",
    "Deff_vals_P35.rename(columns={'0': \"Deff [um^2/s]\"}, inplace=True)\n",
    "Deff_vals_P35['Deff [um^2/s]'] = 10*Deff_vals_P35['Deff [um^2/s]']\n",
    "\n",
    "#P14_40_no_nan = P14_40nm.replace(0,np.nan)\n",
    "#P21_40_no_nan = P21_40nm.replace(0,np.nan)\n",
    "#P28_40_no_nan = P28_40nm.replace(0,np.nan)\n",
    "#P35_40_no_nan = P35_40nm.replace(0,np.nan)\n",
    "\n",
    "#log_Deff_P14_40 = np.log(P14_40_no_nan.dropna())\n",
    "#log_Deff_P21_40 = np.log(P21_40_no_nan.dropna())\n",
    "#log_Deff_P28_40 = np.log(P28_40_no_nan.dropna())\n",
    "#log_Deff_P35_40 = np.log(P35_40_no_nan.dropna())\n",
    "\n",
    "log_Deff_P14 = np.log(Deff_vals_P14)\n",
    "log_Deff_P21 = np.log(Deff_vals_P21)\n",
    "log_Deff_P28 = np.log(Deff_vals_P28)\n",
    "log_Deff_P35 = np.log(Deff_vals_P35)\n",
    "\n",
    "test_bins = np.linspace(-6, 4, 76)\n",
    "\n",
    "P14_hist, P14_bins = np.histogram(log_Deff_P14, bins=test_bins)\n",
    "P21_hist, P21_bins = np.histogram(log_Deff_P21, bins=test_bins)\n",
    "P28_hist, P28_bins = np.histogram(log_Deff_P28, bins=test_bins)\n",
    "P35_hist, P35_bins = np.histogram(log_Deff_P35, bins=test_bins)\n",
    "\n",
    "P14_avg = np.mean(log_Deff_P14)[0]\n",
    "P21_avg = np.mean(log_Deff_P21)[0]\n",
    "P28_avg = np.mean(log_Deff_P28)[0]\n",
    "P35_avg = np.mean(log_Deff_P35)[0]\n",
    "\n",
    "plt.rc('axes', linewidth=2)\n",
    "P14_plot, P21_plot, P28_plot, P35_plot = P14_hist, P21_hist, P28_hist, P35_hist\n",
    "bins = test_bins\n",
    "width = 0.7 * (bins[1] - bins[0])\n",
    "center = (bins[:-1] + bins[1:])/2\n",
    "\n",
    "plt.figure(1, figsize=(7,4)).tight_layout()\n",
    "plt.bar(center, P14_plot, color='grey', align='center', width=width, alpha=0.8, label='P14')\n",
    "plt.axvline(P14_avg, color='grey', linestyle='--', linewidth=3)\n",
    "plt.ylim((0,800))\n",
    "plt.xlabel('log $D_{eff}$', fontsize=20)\n",
    "plt.ylabel('Trajectory Count', fontsize=20)\n",
    "plt.tick_params(axis='both', which='major', labelsize=12)\n",
    "\n",
    "plt.figure(1, figsize=(7,4)).tight_layout()\n",
    "plt.bar(center, P21_plot, color='goldenrod', align='center', width=width, alpha=0.7, label='P21')\n",
    "plt.axvline(P21_avg, color='goldenrod', linestyle='--', linewidth=3)\n",
    "plt.ylim((0,400))\n",
    "plt.xlabel('log $D_{eff}$', fontsize=20)\n",
    "plt.ylabel('Trajectory Count', fontsize=20)\n",
    "plt.tick_params(axis='both', which='major', labelsize=12)\n",
    "\n",
    "plt.figure(1, figsize=(7,4)).tight_layout()\n",
    "plt.bar(center, P28_plot, color='royalblue', align='center', width=width, alpha=0.7, label='P28')\n",
    "plt.axvline(P28_avg, color='royalblue', linestyle='--', linewidth=3)\n",
    "plt.ylim((0,100))\n",
    "plt.xlabel('log $D_{eff}$', fontsize=20)\n",
    "plt.ylabel('Trajectory Count', fontsize=20)\n",
    "plt.tick_params(axis='both', which='major', labelsize=12)\n",
    "\n",
    "plt.figure(1, figsize=(7,4)).tight_layout()\n",
    "plt.bar(center, P35_plot, color='purple', align='center', width=width, alpha=0.7, label='P35')\n",
    "plt.axvline(P35_avg, color='purple', linestyle='--', linewidth=3)\n",
    "plt.ylim((0,100))\n",
    "plt.xlabel('log $D_{eff}$', fontsize=20)\n",
    "plt.ylabel('Trajectory Count', fontsize=20)\n",
    "plt.tick_params(axis='both', which='major', labelsize=12)\n",
    "\n",
    "plt.ylim((0,1400))\n",
    "plt.legend(fontsize='x-large', loc=2)\n",
    "plt.show()"
   ]
  },
  {
   "cell_type": "code",
   "execution_count": 11,
   "metadata": {},
   "outputs": [
    {
     "name": "stdout",
     "output_type": "stream",
     "text": [
      "0.8820395503802898 0.19429553256800025 -0.14889712747255734 -0.6268538547859926\n",
      "2.415821875630063 1.2144551409730384 0.861657751250419 0.5342700507770876\n"
     ]
    }
   ],
   "source": [
    "print(P14_avg, P21_avg, P28_avg, P35_avg)\n",
    "print(np.exp(P14_avg), np.exp(P21_avg), np.exp(P28_avg), np.exp(P35_avg))"
   ]
  },
  {
   "cell_type": "code",
   "execution_count": 26,
   "metadata": {},
   "outputs": [],
   "source": [
    "file_list = [] # This is going to be the list of all filenames that will be included in the analysis\n",
    "\n",
    "path = '~/Desktop/temp_storage/MPT_ECM_Breakdown_Data/csvs/' # The folder where the Deff csv files are located\n",
    "\n",
    "ages = ['ChABC', 'HYase', 'NT']\n",
    "brains = 4\n",
    "\n",
    "for age in ages:\n",
    "    for brain in range(1, brains+1):\n",
    "        file_list.append('{}_brain_{}_stats'.format(age, brain))"
   ]
  },
  {
   "cell_type": "code",
   "execution_count": 27,
   "metadata": {},
   "outputs": [
    {
     "data": {
      "text/plain": [
       "['ChABC_brain_1_stats',\n",
       " 'ChABC_brain_2_stats',\n",
       " 'ChABC_brain_3_stats',\n",
       " 'ChABC_brain_4_stats',\n",
       " 'HYase_brain_1_stats',\n",
       " 'HYase_brain_2_stats',\n",
       " 'HYase_brain_3_stats',\n",
       " 'HYase_brain_4_stats',\n",
       " 'NT_brain_1_stats',\n",
       " 'NT_brain_2_stats',\n",
       " 'NT_brain_3_stats',\n",
       " 'NT_brain_4_stats']"
      ]
     },
     "execution_count": 27,
     "metadata": {},
     "output_type": "execute_result"
    }
   ],
   "source": [
    "file_list"
   ]
  },
  {
   "cell_type": "code",
   "execution_count": null,
   "metadata": {},
   "outputs": [],
   "source": []
  },
  {
   "cell_type": "code",
   "execution_count": 34,
   "metadata": {},
   "outputs": [
    {
     "data": {
      "image/png": "[encoded data removed]",
      "text/plain": [
       "<Figure size 504x288 with 1 Axes>"
      ]
     },
     "metadata": {
      "needs_background": "light"
     },
     "output_type": "display_data"
    }
   ],
   "source": [
    "Deff_vals_ChABC = pd.DataFrame()\n",
    "\n",
    "for file in file_list[0:4]:\n",
    "    temp = pd.read_csv(path+'{}.csv'.format(file))\n",
    "    Deff_vals_ChABC = pd.concat([Deff_vals_ChABC, temp], ignore_index=True)\n",
    "Deff_vals_ChABC.rename(columns={'0': \"Deff [um^2/s]\"}, inplace=True)\n",
    "\n",
    "Deff_vals_HYase = pd.DataFrame()\n",
    "for file in file_list[4:8]:\n",
    "    temp = pd.read_csv(path+'{}.csv'.format(file))\n",
    "    Deff_vals_HYase = pd.concat([Deff_vals_HYase, temp], ignore_index=True)\n",
    "Deff_vals_HYase.rename(columns={'0': \"Deff [um^2/s]\"}, inplace=True)\n",
    "\n",
    "Deff_vals_NT = pd.DataFrame()\n",
    "for file in file_list[8:12]:\n",
    "    temp = pd.read_csv(path+'{}.csv'.format(file))\n",
    "    Deff_vals_NT = pd.concat([Deff_vals_NT, temp], ignore_index=True)\n",
    "Deff_vals_NT.rename(columns={'0': \"Deff [um^2/s]\"}, inplace=True)\n",
    "\n",
    "\n",
    "log_Deff_ChABC = np.log(Deff_vals_ChABC)\n",
    "log_Deff_HYase = np.log(Deff_vals_HYase)\n",
    "log_Deff_NT = np.log(Deff_vals_NT)\n",
    "\n",
    "test_bins = np.linspace(-6, 4, 76)\n",
    "\n",
    "ChABC_hist, ChABC_bins = np.histogram(log_Deff_ChABC, bins=test_bins)\n",
    "HYase_hist, HYase_bins = np.histogram(log_Deff_HYase, bins=test_bins)\n",
    "NT_hist, NT_bins = np.histogram(log_Deff_NT, bins=test_bins)\n",
    "\n",
    "ChABC_avg = np.mean(log_Deff_ChABC)[0]\n",
    "HYase_avg = np.mean(log_Deff_HYase)[0]\n",
    "NT_avg = np.mean(log_Deff_NT)[0]\n",
    "\n",
    "plt.rc('axes', linewidth=2)\n",
    "ChABC_plot, HYase_plot, NT_plot = ChABC_hist, HYase_hist, NT_hist\n",
    "bins = test_bins\n",
    "width = 0.7 * (bins[1] - bins[0])\n",
    "center = (bins[:-1] + bins[1:])/2\n",
    "\n",
    "plt.figure(1, figsize=(7,4)).tight_layout()\n",
    "plt.bar(center, NT_plot, color='royalblue', align='center', width=width, alpha=0.6, label='NT')\n",
    "plt.axvline(NT_avg, color='royalblue', linestyle='--', linewidth=3)\n",
    "plt.ylim((0,800))\n",
    "plt.xlabel('log $D_{eff}$', fontsize=20)\n",
    "plt.ylabel('Trajectory Count', fontsize=20)\n",
    "plt.tick_params(axis='both', which='major', labelsize=12)\n",
    "\n",
    "plt.figure(1, figsize=(7,4)).tight_layout()\n",
    "plt.bar(center, ChABC_plot, color='goldenrod', align='center', width=width, alpha=0.7, label='ChABC')\n",
    "plt.axvline(ChABC_avg, color='goldenrod', linestyle='--', linewidth=3)\n",
    "plt.ylim((0,400))\n",
    "plt.xlabel('log $D_{eff}$', fontsize=20)\n",
    "plt.ylabel('Trajectory Count', fontsize=20)\n",
    "plt.tick_params(axis='both', which='major', labelsize=12)\n",
    "\n",
    "plt.figure(1, figsize=(7,4)).tight_layout()\n",
    "plt.bar(center, HYase_plot, color='grey', align='center', width=width, alpha=0.4, label='HYase')\n",
    "plt.axvline(HYase_avg, color='grey', linestyle='--', linewidth=3)\n",
    "plt.ylim((0,100))\n",
    "plt.xlabel('log $D_{eff}$', fontsize=20)\n",
    "plt.ylabel('Trajectory Count', fontsize=20)\n",
    "plt.tick_params(axis='both', which='major', labelsize=12)\n",
    "\n",
    "plt.ylim((0,4500))\n",
    "plt.legend(fontsize='x-large', loc=2)\n",
    "plt.show()"
   ]
  },
  {
   "cell_type": "code",
   "execution_count": 32,
   "metadata": {},
   "outputs": [
    {
     "name": "stdout",
     "output_type": "stream",
     "text": [
      "0.0697511987351961 -0.04556318651472487 -0.719350833196069\n",
      "1.072241373054693 0.9554592285259496 0.4870683419514455\n"
     ]
    }
   ],
   "source": [
    "print(ChABC_avg, HYase_avg, NT_avg)\n",
    "print(np.exp(ChABC_avg), np.exp(HYase_avg), np.exp(NT_avg))"
   ]
  },
  {
   "cell_type": "code",
   "execution_count": null,
   "metadata": {},
   "outputs": [],
   "source": []
  },
  {
   "cell_type": "code",
   "execution_count": null,
   "metadata": {},
   "outputs": [],
   "source": []
  },
  {
   "cell_type": "code",
   "execution_count": null,
   "metadata": {},
   "outputs": [],
   "source": []
  }
 ],
 "metadata": {
  "kernelspec": {
   "display_name": "Python 3",
   "language": "python",
   "name": "python3"
  },
  "language_info": {
   "codemirror_mode": {
    "name": "ipython",
    "version": 3
   },
   "file_extension": ".py",
   "mimetype": "text/x-python",
   "name": "python",
   "nbconvert_exporter": "python",
   "pygments_lexer": "ipython3",
   "version": "3.7.4"
  }
 },
 "nbformat": 4,
 "nbformat_minor": 2
}
