{
 "cells": [
  {
   "cell_type": "code",
   "execution_count": 48,
   "metadata": {},
   "outputs": [],
   "source": [
    "import os\n",
    "import os.path as op\n",
    "import numpy as np\n",
    "import pandas as pd\n",
    "import matplotlib\n",
    "import matplotlib.pyplot as plt\n",
    "import math\n",
    "from math import sqrt"
   ]
  },
  {
   "cell_type": "code",
   "execution_count": 49,
   "metadata": {},
   "outputs": [],
   "source": [
    "raw_cortex = pd.read_csv('~/Desktop/MPT_data/OGD_Severity_CSVs/OGD 15h/OGD_1_5h_cortex_MSD_ratio.csv', sep='\\t')\n",
    "raw_striatum = pd.read_csv('~/Desktop/MPT_data/OGD_Severity_CSVs/OGD 15h/OGD_1_5h_striatum_MSD_ratio.csv', sep='\\t')"
   ]
  },
  {
   "cell_type": "code",
   "execution_count": 50,
   "metadata": {},
   "outputs": [],
   "source": [
    "bins = ['AD/CD', 'ND', 'DM']\n",
    "binned_data = pd.DataFrame(columns=bins)"
   ]
  },
  {
   "cell_type": "code",
   "execution_count": 51,
   "metadata": {},
   "outputs": [
    {
     "data": {
      "text/html": [
       "<div>\n",
       "<style scoped>\n",
       "    .dataframe tbody tr th:only-of-type {\n",
       "        vertical-align: middle;\n",
       "    }\n",
       "\n",
       "    .dataframe tbody tr th {\n",
       "        vertical-align: top;\n",
       "    }\n",
       "\n",
       "    .dataframe thead th {\n",
       "        text-align: right;\n",
       "    }\n",
       "</style>\n",
       "<table border=\"1\" class=\"dataframe\">\n",
       "  <thead>\n",
       "    <tr style=\"text-align: right;\">\n",
       "      <th></th>\n",
       "      <th>AD/CD</th>\n",
       "      <th>ND</th>\n",
       "      <th>DM</th>\n",
       "    </tr>\n",
       "  </thead>\n",
       "  <tbody>\n",
       "  </tbody>\n",
       "</table>\n",
       "</div>"
      ],
      "text/plain": [
       "Empty DataFrame\n",
       "Columns: [AD/CD, ND, DM]\n",
       "Index: []"
      ]
     },
     "execution_count": 51,
     "metadata": {},
     "output_type": "execute_result"
    }
   ],
   "source": [
    "binned_data"
   ]
  },
  {
   "cell_type": "code",
   "execution_count": 52,
   "metadata": {},
   "outputs": [],
   "source": [
    "ND_count_cortex = 0\n",
    "DM_count_cortex = 0\n",
    "AD_CD_count_cortex = 0\n",
    "ND_count_striatum = 0\n",
    "DM_count_striatum = 0\n",
    "AD_CD_count_striatum = 0\n",
    "\n",
    "for data in range(0,len(raw_cortex)):\n",
    "    if raw_cortex['0'][data] < 0:\n",
    "        DM_count_cortex += 1\n",
    "    elif raw_cortex['0'][data] > 0.1:\n",
    "        AD_CD_count_cortex += 1\n",
    "    else:\n",
    "        ND_count_cortex += 1\n",
    "\n",
    "for data in range(0,len(raw_striatum)):\n",
    "    if raw_striatum['0'][data] < 0:\n",
    "        DM_count_striatum += 1\n",
    "    elif raw_striatum['0'][data] > 0.1:\n",
    "        AD_CD_count_striatum += 1\n",
    "    else:\n",
    "        ND_count_striatum += 1\n",
    "\n",
    "binned_data.loc['cortex'] = [AD_CD_count_cortex, ND_count_cortex, DM_count_cortex]\n",
    "binned_data.loc['striatum'] = [AD_CD_count_striatum, ND_count_striatum, DM_count_striatum]\n",
    "binned_data.loc['combined'] = [AD_CD_count_cortex+AD_CD_count_striatum, ND_count_cortex+ND_count_striatum, DM_count_cortex+DM_count_striatum]\n",
    "binned_data.to_csv('~/Desktop/MPT_data/OGD_Severity_CSVs/OGD 15h/OGD_1_5h_MSD_ratio_binned.csv', mode='w')"
   ]
  },
  {
   "cell_type": "code",
   "execution_count": 53,
   "metadata": {},
   "outputs": [
    {
     "data": {
      "text/html": [
       "<div>\n",
       "<style scoped>\n",
       "    .dataframe tbody tr th:only-of-type {\n",
       "        vertical-align: middle;\n",
       "    }\n",
       "\n",
       "    .dataframe tbody tr th {\n",
       "        vertical-align: top;\n",
       "    }\n",
       "\n",
       "    .dataframe thead th {\n",
       "        text-align: right;\n",
       "    }\n",
       "</style>\n",
       "<table border=\"1\" class=\"dataframe\">\n",
       "  <thead>\n",
       "    <tr style=\"text-align: right;\">\n",
       "      <th></th>\n",
       "      <th>AD/CD</th>\n",
       "      <th>ND</th>\n",
       "      <th>DM</th>\n",
       "    </tr>\n",
       "  </thead>\n",
       "  <tbody>\n",
       "    <tr>\n",
       "      <td>cortex</td>\n",
       "      <td>20684</td>\n",
       "      <td>11877</td>\n",
       "      <td>10960</td>\n",
       "    </tr>\n",
       "    <tr>\n",
       "      <td>striatum</td>\n",
       "      <td>17129</td>\n",
       "      <td>10268</td>\n",
       "      <td>11393</td>\n",
       "    </tr>\n",
       "    <tr>\n",
       "      <td>combined</td>\n",
       "      <td>37813</td>\n",
       "      <td>22145</td>\n",
       "      <td>22353</td>\n",
       "    </tr>\n",
       "  </tbody>\n",
       "</table>\n",
       "</div>"
      ],
      "text/plain": [
       "          AD/CD     ND     DM\n",
       "cortex    20684  11877  10960\n",
       "striatum  17129  10268  11393\n",
       "combined  37813  22145  22353"
      ]
     },
     "execution_count": 53,
     "metadata": {},
     "output_type": "execute_result"
    }
   ],
   "source": [
    "binned_data"
   ]
  }
 ],
 "metadata": {
  "kernelspec": {
   "display_name": "Python 3",
   "language": "python",
   "name": "python3"
  },
  "language_info": {
   "codemirror_mode": {
    "name": "ipython",
    "version": 3
   },
   "file_extension": ".py",
   "mimetype": "text/x-python",
   "name": "python",
   "nbconvert_exporter": "python",
   "pygments_lexer": "ipython3",
   "version": "3.7.4"
  }
 },
 "nbformat": 4,
 "nbformat_minor": 2
}
