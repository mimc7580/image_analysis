{
 "cells": [
  {
   "cell_type": "code",
   "execution_count": 1,
   "metadata": {},
   "outputs": [],
   "source": [
    "import os\n",
    "import os.path as op\n",
    "import numpy as np\n",
    "import pandas as pd\n",
    "import matplotlib\n",
    "import matplotlib.pyplot as plt\n",
    "import math\n",
    "from math import sqrt"
   ]
  },
  {
   "cell_type": "code",
   "execution_count": 27,
   "metadata": {},
   "outputs": [],
   "source": [
    "raw_cortex = pd.read_csv('~/Desktop/MPT_data/OGD_Severity_CSVs/OGD 15h/OGD_1_5h_cortex_alpha.csv', sep='\\t')\n",
    "raw_striatum = pd.read_csv('~/Desktop/MPT_data/OGD_Severity_CSVs/OGD 15h/OGD_1_5h_striatum_alpha.csv', sep='\\t')"
   ]
  },
  {
   "cell_type": "code",
   "execution_count": 28,
   "metadata": {},
   "outputs": [],
   "source": [
    "bins = ['ND', 'DM', 'AD/CD']\n",
    "binned_data = pd.DataFrame(columns=bins)"
   ]
  },
  {
   "cell_type": "code",
   "execution_count": 29,
   "metadata": {},
   "outputs": [],
   "source": [
    "ND_count_cortex = 0\n",
    "DM_count_cortex = 0\n",
    "AD_CD_count_cortex = 0\n",
    "ND_count_striatum = 0\n",
    "DM_count_striatum = 0\n",
    "AD_CD_count_striatum = 0\n",
    "\n",
    "for data in range(0,len(raw_cortex)):\n",
    "    if raw_cortex['0'][data] < 0.75:\n",
    "        AD_CD_count_cortex += 1\n",
    "    elif raw_cortex['0'][data] > 1.25:\n",
    "        DM_count_cortex += 1\n",
    "    else:\n",
    "        ND_count_cortex += 1\n",
    "\n",
    "for data in range(0,len(raw_striatum)):\n",
    "    if raw_striatum['0'][data] < 0.75:\n",
    "        AD_CD_count_striatum += 1\n",
    "    elif raw_striatum['0'][data] > 1.25:\n",
    "        DM_count_striatum += 1\n",
    "    else:\n",
    "        ND_count_striatum += 1\n",
    "\n",
    "binned_data.loc['cortex'] = [ND_count_cortex, DM_count_cortex, AD_CD_count_cortex]\n",
    "binned_data.loc['striatum'] = [ND_count_striatum, DM_count_striatum, AD_CD_count_striatum]\n",
    "binned_data.loc['cobined'] = [ND_count_cortex+ND_count_striatum, DM_count_cortex+DM_count_striatum, AD_CD_count_cortex+AD_CD_count_striatum]\n",
    "binned_data.to_csv('~/Desktop/MPT_data/OGD_Severity_CSVs/OGD 15h/OGD_1_5h_alpha_binned.csv', mode='w')"
   ]
  },
  {
   "cell_type": "code",
   "execution_count": 30,
   "metadata": {},
   "outputs": [
    {
     "data": {
      "text/html": [
       "<div>\n",
       "<style scoped>\n",
       "    .dataframe tbody tr th:only-of-type {\n",
       "        vertical-align: middle;\n",
       "    }\n",
       "\n",
       "    .dataframe tbody tr th {\n",
       "        vertical-align: top;\n",
       "    }\n",
       "\n",
       "    .dataframe thead th {\n",
       "        text-align: right;\n",
       "    }\n",
       "</style>\n",
       "<table border=\"1\" class=\"dataframe\">\n",
       "  <thead>\n",
       "    <tr style=\"text-align: right;\">\n",
       "      <th></th>\n",
       "      <th>ND</th>\n",
       "      <th>DM</th>\n",
       "      <th>AD/CD</th>\n",
       "    </tr>\n",
       "  </thead>\n",
       "  <tbody>\n",
       "    <tr>\n",
       "      <td>cortex</td>\n",
       "      <td>8738</td>\n",
       "      <td>10338</td>\n",
       "      <td>24075</td>\n",
       "    </tr>\n",
       "    <tr>\n",
       "      <td>striatum</td>\n",
       "      <td>8287</td>\n",
       "      <td>10023</td>\n",
       "      <td>20276</td>\n",
       "    </tr>\n",
       "    <tr>\n",
       "      <td>cobined</td>\n",
       "      <td>17025</td>\n",
       "      <td>20361</td>\n",
       "      <td>44351</td>\n",
       "    </tr>\n",
       "  </tbody>\n",
       "</table>\n",
       "</div>"
      ],
      "text/plain": [
       "             ND     DM  AD/CD\n",
       "cortex     8738  10338  24075\n",
       "striatum   8287  10023  20276\n",
       "cobined   17025  20361  44351"
      ]
     },
     "execution_count": 30,
     "metadata": {},
     "output_type": "execute_result"
    }
   ],
   "source": [
    "binned_data"
   ]
  }
 ],
 "metadata": {
  "kernelspec": {
   "display_name": "Python 3",
   "language": "python",
   "name": "python3"
  },
  "language_info": {
   "codemirror_mode": {
    "name": "ipython",
    "version": 3
   },
   "file_extension": ".py",
   "mimetype": "text/x-python",
   "name": "python",
   "nbconvert_exporter": "python",
   "pygments_lexer": "ipython3",
   "version": "3.7.4"
  }
 },
 "nbformat": 4,
 "nbformat_minor": 2
}
