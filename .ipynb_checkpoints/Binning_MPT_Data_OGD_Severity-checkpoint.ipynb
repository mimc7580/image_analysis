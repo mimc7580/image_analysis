{
 "cells": [
  {
   "cell_type": "code",
   "execution_count": 62,
   "metadata": {},
   "outputs": [],
   "source": [
    "import os\n",
    "import os.path as op\n",
    "import numpy as np\n",
    "import pandas as pd\n",
    "import matplotlib\n",
    "import matplotlib.pyplot as plt\n",
    "import math\n",
    "from math import sqrt"
   ]
  },
  {
   "cell_type": "code",
   "execution_count": 63,
   "metadata": {},
   "outputs": [],
   "source": [
    "raw_cortex = pd.read_csv('~/Desktop/temp_storage/Hugo_MPT_Data/NT_csvs/C_C_MSD_ratio.csv', sep='\\t')\n",
    "raw_thalamus = pd.read_csv('~/Desktop/temp_storage/Hugo_MPT_Data/NT_csvs/T_C_MSD_ratio.csv', sep='\\t')\n",
    "raw_hippocampus = pd.read_csv('~/Desktop/temp_storage/Hugo_MPT_Data/NT_csvs/H_C_MSD_ratio.csv', sep='\\t')"
   ]
  },
  {
   "cell_type": "code",
   "execution_count": 64,
   "metadata": {},
   "outputs": [],
   "source": [
    "bins = ['AD/CD', 'ND', 'DM']\n",
    "binned_data = pd.DataFrame(columns=bins)"
   ]
  },
  {
   "cell_type": "code",
   "execution_count": 65,
   "metadata": {},
   "outputs": [
    {
     "data": {
      "text/html": [
       "<div>\n",
       "<style scoped>\n",
       "    .dataframe tbody tr th:only-of-type {\n",
       "        vertical-align: middle;\n",
       "    }\n",
       "\n",
       "    .dataframe tbody tr th {\n",
       "        vertical-align: top;\n",
       "    }\n",
       "\n",
       "    .dataframe thead th {\n",
       "        text-align: right;\n",
       "    }\n",
       "</style>\n",
       "<table border=\"1\" class=\"dataframe\">\n",
       "  <thead>\n",
       "    <tr style=\"text-align: right;\">\n",
       "      <th></th>\n",
       "      <th>AD/CD</th>\n",
       "      <th>ND</th>\n",
       "      <th>DM</th>\n",
       "    </tr>\n",
       "  </thead>\n",
       "  <tbody>\n",
       "  </tbody>\n",
       "</table>\n",
       "</div>"
      ],
      "text/plain": [
       "Empty DataFrame\n",
       "Columns: [AD/CD, ND, DM]\n",
       "Index: []"
      ]
     },
     "execution_count": 65,
     "metadata": {},
     "output_type": "execute_result"
    }
   ],
   "source": [
    "binned_data"
   ]
  },
  {
   "cell_type": "code",
   "execution_count": 66,
   "metadata": {},
   "outputs": [],
   "source": [
    "ND_count_cortex = 0\n",
    "DM_count_cortex = 0\n",
    "AD_CD_count_cortex = 0\n",
    "ND_count_thalamus = 0\n",
    "DM_count_thalamus = 0\n",
    "AD_CD_count_thalamus = 0\n",
    "ND_count_hippocampus = 0\n",
    "DM_count_hippocampus = 0\n",
    "AD_CD_count_hippocampus = 0\n",
    "\n",
    "for data in range(0,len(raw_cortex)):\n",
    "    if raw_cortex['0'][data] < 0:\n",
    "        DM_count_cortex += 1\n",
    "    elif raw_cortex['0'][data] > 0.1:\n",
    "        AD_CD_count_cortex += 1\n",
    "    else:\n",
    "        ND_count_cortex += 1\n",
    "\n",
    "for data in range(0,len(raw_thalamus)):\n",
    "    if raw_thalamus['0'][data] < 0:\n",
    "        DM_count_thalamus += 1\n",
    "    elif raw_thalamus['0'][data] > 0.1:\n",
    "        AD_CD_count_thalamus += 1\n",
    "    else:\n",
    "        ND_count_thalamus += 1\n",
    "\n",
    "for data in range(0,len(raw_hippocampus)):\n",
    "    if raw_hippocampus['0'][data] < 0:\n",
    "        DM_count_hippocampus += 1\n",
    "    elif raw_hippocampus['0'][data] > 0.1:\n",
    "        AD_CD_count_hippocampus += 1\n",
    "    else:\n",
    "        ND_count_hippocampus += 1\n",
    "\n",
    "total_cortex = AD_CD_count_cortex+ND_count_cortex+DM_count_cortex\n",
    "total_thalamus = AD_CD_count_thalamus+ND_count_thalamus+DM_count_thalamus\n",
    "total_hippocampus = AD_CD_count_hippocampus+ND_count_hippocampus+DM_count_hippocampus\n",
    "total_combined = total_cortex+total_thalamus+total_hippocampus\n",
    "\n",
    "binned_data.loc['cortex'] = [AD_CD_count_cortex/total_cortex*100, ND_count_cortex/total_cortex*100, DM_count_cortex/total_cortex*100]\n",
    "binned_data.loc['thalamus'] = [AD_CD_count_thalamus/total_thalamus*100, ND_count_thalamus/total_thalamus*100, DM_count_thalamus/total_thalamus*100]\n",
    "binned_data.loc['hippocampus'] = [AD_CD_count_hippocampus/total_hippocampus*100, ND_count_hippocampus/total_hippocampus*100, DM_count_hippocampus/total_hippocampus*100]\n",
    "binned_data.loc['combined'] = [(AD_CD_count_cortex+AD_CD_count_thalamus+AD_CD_count_hippocampus)/total_combined*100, (ND_count_cortex+ND_count_thalamus+ND_count_hippocampus)/total_combined*100, (DM_count_cortex+DM_count_thalamus+DM_count_hippocampus)/total_combined*100]\n",
    "binned_data.to_csv('~/Desktop/temp_storage/Hugo_MPT_Data/NT_csvs/NT_combined_MSD_ratio_binned.csv', mode='w')"
   ]
  },
  {
   "cell_type": "code",
   "execution_count": 61,
   "metadata": {},
   "outputs": [
    {
     "data": {
      "text/html": [
       "<div>\n",
       "<style scoped>\n",
       "    .dataframe tbody tr th:only-of-type {\n",
       "        vertical-align: middle;\n",
       "    }\n",
       "\n",
       "    .dataframe tbody tr th {\n",
       "        vertical-align: top;\n",
       "    }\n",
       "\n",
       "    .dataframe thead th {\n",
       "        text-align: right;\n",
       "    }\n",
       "</style>\n",
       "<table border=\"1\" class=\"dataframe\">\n",
       "  <thead>\n",
       "    <tr style=\"text-align: right;\">\n",
       "      <th></th>\n",
       "      <th>AD/CD</th>\n",
       "      <th>ND</th>\n",
       "      <th>DM</th>\n",
       "    </tr>\n",
       "  </thead>\n",
       "  <tbody>\n",
       "    <tr>\n",
       "      <td>cortex</td>\n",
       "      <td>53.712534</td>\n",
       "      <td>23.262943</td>\n",
       "      <td>23.024523</td>\n",
       "    </tr>\n",
       "    <tr>\n",
       "      <td>thalamus</td>\n",
       "      <td>49.667616</td>\n",
       "      <td>25.852063</td>\n",
       "      <td>24.480321</td>\n",
       "    </tr>\n",
       "    <tr>\n",
       "      <td>hippocampus</td>\n",
       "      <td>52.238806</td>\n",
       "      <td>27.611940</td>\n",
       "      <td>20.149254</td>\n",
       "    </tr>\n",
       "    <tr>\n",
       "      <td>combined</td>\n",
       "      <td>50.674990</td>\n",
       "      <td>25.314085</td>\n",
       "      <td>24.010925</td>\n",
       "    </tr>\n",
       "  </tbody>\n",
       "</table>\n",
       "</div>"
      ],
      "text/plain": [
       "                 AD/CD         ND         DM\n",
       "cortex       53.712534  23.262943  23.024523\n",
       "thalamus     49.667616  25.852063  24.480321\n",
       "hippocampus  52.238806  27.611940  20.149254\n",
       "combined     50.674990  25.314085  24.010925"
      ]
     },
     "execution_count": 61,
     "metadata": {},
     "output_type": "execute_result"
    }
   ],
   "source": [
    "binned_data"
   ]
  },
  {
   "cell_type": "code",
   "execution_count": 67,
   "metadata": {},
   "outputs": [
    {
     "data": {
      "text/html": [
       "<div>\n",
       "<style scoped>\n",
       "    .dataframe tbody tr th:only-of-type {\n",
       "        vertical-align: middle;\n",
       "    }\n",
       "\n",
       "    .dataframe tbody tr th {\n",
       "        vertical-align: top;\n",
       "    }\n",
       "\n",
       "    .dataframe thead th {\n",
       "        text-align: right;\n",
       "    }\n",
       "</style>\n",
       "<table border=\"1\" class=\"dataframe\">\n",
       "  <thead>\n",
       "    <tr style=\"text-align: right;\">\n",
       "      <th></th>\n",
       "      <th>AD/CD</th>\n",
       "      <th>ND</th>\n",
       "      <th>DM</th>\n",
       "    </tr>\n",
       "  </thead>\n",
       "  <tbody>\n",
       "    <tr>\n",
       "      <td>cortex</td>\n",
       "      <td>39.097870</td>\n",
       "      <td>27.907343</td>\n",
       "      <td>32.994788</td>\n",
       "    </tr>\n",
       "    <tr>\n",
       "      <td>thalamus</td>\n",
       "      <td>46.785590</td>\n",
       "      <td>29.292451</td>\n",
       "      <td>23.921958</td>\n",
       "    </tr>\n",
       "    <tr>\n",
       "      <td>hippocampus</td>\n",
       "      <td>38.956361</td>\n",
       "      <td>28.464545</td>\n",
       "      <td>32.579095</td>\n",
       "    </tr>\n",
       "    <tr>\n",
       "      <td>combined</td>\n",
       "      <td>40.809806</td>\n",
       "      <td>28.436678</td>\n",
       "      <td>30.753515</td>\n",
       "    </tr>\n",
       "  </tbody>\n",
       "</table>\n",
       "</div>"
      ],
      "text/plain": [
       "                 AD/CD         ND         DM\n",
       "cortex       39.097870  27.907343  32.994788\n",
       "thalamus     46.785590  29.292451  23.921958\n",
       "hippocampus  38.956361  28.464545  32.579095\n",
       "combined     40.809806  28.436678  30.753515"
      ]
     },
     "execution_count": 67,
     "metadata": {},
     "output_type": "execute_result"
    }
   ],
   "source": [
    "binned_data"
   ]
  }
 ],
 "metadata": {
  "kernelspec": {
   "display_name": "Python 3",
   "language": "python",
   "name": "python3"
  },
  "language_info": {
   "codemirror_mode": {
    "name": "ipython",
    "version": 3
   },
   "file_extension": ".py",
   "mimetype": "text/x-python",
   "name": "python",
   "nbconvert_exporter": "python",
   "pygments_lexer": "ipython3",
   "version": "3.7.4"
  }
 },
 "nbformat": 4,
 "nbformat_minor": 2
}
