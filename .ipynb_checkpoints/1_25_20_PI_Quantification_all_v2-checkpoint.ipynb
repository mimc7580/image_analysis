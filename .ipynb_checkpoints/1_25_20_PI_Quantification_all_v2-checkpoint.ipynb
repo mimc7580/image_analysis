{
 "cells": [
  {
   "cell_type": "code",
   "execution_count": 1,
   "metadata": {},
   "outputs": [],
   "source": [
    "import os\n",
    "import os.path as op\n",
    "import numpy as np\n",
    "import pandas as pd\n",
    "import matplotlib\n",
    "import matplotlib.pyplot as plt\n",
    "import skimage.io\n",
    "import skimage.filters\n",
    "from skimage.filters import try_all_threshold\n",
    "import matplotlib.image as mpimg\n",
    "from scipy import ndimage as ndi\n",
    "from skimage.transform import resize\n",
    "import skimage.morphology\n",
    "import skimage.feature\n",
    "import math\n",
    "from math import sqrt\n",
    "from skimage.color import rgb2gray\n",
    "from skimage import measure\n",
    "from skimage import data, util"
   ]
  },
  {
   "cell_type": "code",
   "execution_count": 2,
   "metadata": {},
   "outputs": [
    {
     "data": {
      "text/plain": [
       "'/Users/mikemckenna/Desktop/image_analysis'"
      ]
     },
     "execution_count": 2,
     "metadata": {},
     "output_type": "execute_result"
    }
   ],
   "source": [
    "os.getcwd()"
   ]
  },
  {
   "cell_type": "code",
   "execution_count": 3,
   "metadata": {},
   "outputs": [],
   "source": [
    "prefix = ['NT_48h', 'OGD_24h', 'OGD_48h']\n",
    "#conditions = ['NT', 'OGD']\n",
    "#time_points = ['24', '48']\n",
    "regions = ['cortex', 'striatum', 'corpus_callosum']\n",
    "images = 5\n",
    "\n",
    "image_list = []\n",
    "\n",
    "for pref in prefix:\n",
    "    for region in regions:\n",
    "        for num in range(1,images+1):\n",
    "            image_list.append('{}_PI_{}_20x_images_XY{}.tif'.format(pref, region,num))"
   ]
  },
  {
   "cell_type": "code",
   "execution_count": 4,
   "metadata": {},
   "outputs": [
    {
     "data": {
      "text/plain": [
       "['NT_48h_PI_cortex_20x_images_XY1.tif',\n",
       " 'NT_48h_PI_cortex_20x_images_XY2.tif',\n",
       " 'NT_48h_PI_cortex_20x_images_XY3.tif',\n",
       " 'NT_48h_PI_cortex_20x_images_XY4.tif',\n",
       " 'NT_48h_PI_cortex_20x_images_XY5.tif',\n",
       " 'NT_48h_PI_striatum_20x_images_XY1.tif',\n",
       " 'NT_48h_PI_striatum_20x_images_XY2.tif',\n",
       " 'NT_48h_PI_striatum_20x_images_XY3.tif',\n",
       " 'NT_48h_PI_striatum_20x_images_XY4.tif',\n",
       " 'NT_48h_PI_striatum_20x_images_XY5.tif',\n",
       " 'NT_48h_PI_corpus_callosum_20x_images_XY1.tif',\n",
       " 'NT_48h_PI_corpus_callosum_20x_images_XY2.tif',\n",
       " 'NT_48h_PI_corpus_callosum_20x_images_XY3.tif',\n",
       " 'NT_48h_PI_corpus_callosum_20x_images_XY4.tif',\n",
       " 'NT_48h_PI_corpus_callosum_20x_images_XY5.tif',\n",
       " 'OGD_24h_PI_cortex_20x_images_XY1.tif',\n",
       " 'OGD_24h_PI_cortex_20x_images_XY2.tif',\n",
       " 'OGD_24h_PI_cortex_20x_images_XY3.tif',\n",
       " 'OGD_24h_PI_cortex_20x_images_XY4.tif',\n",
       " 'OGD_24h_PI_cortex_20x_images_XY5.tif',\n",
       " 'OGD_24h_PI_striatum_20x_images_XY1.tif',\n",
       " 'OGD_24h_PI_striatum_20x_images_XY2.tif',\n",
       " 'OGD_24h_PI_striatum_20x_images_XY3.tif',\n",
       " 'OGD_24h_PI_striatum_20x_images_XY4.tif',\n",
       " 'OGD_24h_PI_striatum_20x_images_XY5.tif',\n",
       " 'OGD_24h_PI_corpus_callosum_20x_images_XY1.tif',\n",
       " 'OGD_24h_PI_corpus_callosum_20x_images_XY2.tif',\n",
       " 'OGD_24h_PI_corpus_callosum_20x_images_XY3.tif',\n",
       " 'OGD_24h_PI_corpus_callosum_20x_images_XY4.tif',\n",
       " 'OGD_24h_PI_corpus_callosum_20x_images_XY5.tif',\n",
       " 'OGD_48h_PI_cortex_20x_images_XY1.tif',\n",
       " 'OGD_48h_PI_cortex_20x_images_XY2.tif',\n",
       " 'OGD_48h_PI_cortex_20x_images_XY3.tif',\n",
       " 'OGD_48h_PI_cortex_20x_images_XY4.tif',\n",
       " 'OGD_48h_PI_cortex_20x_images_XY5.tif',\n",
       " 'OGD_48h_PI_striatum_20x_images_XY1.tif',\n",
       " 'OGD_48h_PI_striatum_20x_images_XY2.tif',\n",
       " 'OGD_48h_PI_striatum_20x_images_XY3.tif',\n",
       " 'OGD_48h_PI_striatum_20x_images_XY4.tif',\n",
       " 'OGD_48h_PI_striatum_20x_images_XY5.tif',\n",
       " 'OGD_48h_PI_corpus_callosum_20x_images_XY1.tif',\n",
       " 'OGD_48h_PI_corpus_callosum_20x_images_XY2.tif',\n",
       " 'OGD_48h_PI_corpus_callosum_20x_images_XY3.tif',\n",
       " 'OGD_48h_PI_corpus_callosum_20x_images_XY4.tif',\n",
       " 'OGD_48h_PI_corpus_callosum_20x_images_XY5.tif']"
      ]
     },
     "execution_count": 4,
     "metadata": {},
     "output_type": "execute_result"
    }
   ],
   "source": [
    "image_list"
   ]
  },
  {
   "cell_type": "code",
   "execution_count": 5,
   "metadata": {},
   "outputs": [
    {
     "data": {
      "text/plain": [
       "45"
      ]
     },
     "execution_count": 5,
     "metadata": {},
     "output_type": "execute_result"
    }
   ],
   "source": [
    "len(image_list)"
   ]
  },
  {
   "cell_type": "code",
   "execution_count": 8,
   "metadata": {},
   "outputs": [],
   "source": [
    "output_data = pd.DataFrame(columns=['Image', 'DAPI count','DAPI intensity', 'DAPI area', 'PI count', 'PI intensity', 'PI area', 'PI intensity/DAPI count', 'PI w/in DAPI area', 'PI w/in DAPI/DAPI count', '%overlap PI/DAPI', '% cell death'])"
   ]
  },
  {
   "cell_type": "code",
   "execution_count": 9,
   "metadata": {},
   "outputs": [
    {
     "data": {
      "text/html": [
       "<div>\n",
       "<style scoped>\n",
       "    .dataframe tbody tr th:only-of-type {\n",
       "        vertical-align: middle;\n",
       "    }\n",
       "\n",
       "    .dataframe tbody tr th {\n",
       "        vertical-align: top;\n",
       "    }\n",
       "\n",
       "    .dataframe thead th {\n",
       "        text-align: right;\n",
       "    }\n",
       "</style>\n",
       "<table border=\"1\" class=\"dataframe\">\n",
       "  <thead>\n",
       "    <tr style=\"text-align: right;\">\n",
       "      <th></th>\n",
       "      <th>Image</th>\n",
       "      <th>DAPI count</th>\n",
       "      <th>DAPI intensity</th>\n",
       "      <th>DAPI area</th>\n",
       "      <th>PI count</th>\n",
       "      <th>PI intensity</th>\n",
       "      <th>PI area</th>\n",
       "      <th>PI intensity/DAPI count</th>\n",
       "      <th>PI w/in DAPI area</th>\n",
       "      <th>PI w/in DAPI/DAPI count</th>\n",
       "      <th>%overlap PI/DAPI</th>\n",
       "      <th>% cell death</th>\n",
       "    </tr>\n",
       "  </thead>\n",
       "  <tbody>\n",
       "  </tbody>\n",
       "</table>\n",
       "</div>"
      ],
      "text/plain": [
       "Empty DataFrame\n",
       "Columns: [Image, DAPI count, DAPI intensity, DAPI area, PI count, PI intensity, PI area, PI intensity/DAPI count, PI w/in DAPI area, PI w/in DAPI/DAPI count, %overlap PI/DAPI, % cell death]\n",
       "Index: []"
      ]
     },
     "execution_count": 9,
     "metadata": {},
     "output_type": "execute_result"
    }
   ],
   "source": [
    "output_data"
   ]
  },
  {
   "cell_type": "code",
   "execution_count": 10,
   "metadata": {},
   "outputs": [],
   "source": [
    "for image in image_list:\n",
    "    img = skimage.io.imread(image)\n",
    "    DAPI = img[0]\n",
    "    PI = img[1]\n",
    "    #DAPI_filtered = ndi.gaussian_filter(DAPI, sigma=1)\n",
    "    #PI_filtered = ndi.gaussian_filter(PI, sigma=1)\n",
    "    DAPI_thresh = skimage.filters.threshold_otsu(DAPI)\n",
    "    DAPI_binary = DAPI > DAPI_thresh\n",
    "    PI_thresh = skimage.filters.threshold_otsu(PI)\n",
    "    PI_binary = PI > PI_thresh\n",
    "    #DAPI_dilation = skimage.morphology.binary_dilation(DAPI_binary)\n",
    "    DAPI_filled_holes = ndi.binary_fill_holes(DAPI_binary)\n",
    "    DAPI_clean = skimage.morphology.remove_small_objects(DAPI_filled_holes, min_size=20)\n",
    "    #PI_dilation = skimage.morphology.binary_dilation(PI_binary)\n",
    "    #PI_filled_holes = ndi.binary_fill_holes(PI_dilation)\n",
    "    PI_clean = skimage.morphology.remove_small_objects(PI_binary, min_size=20)\n",
    "    labeled_DAPI, _ = ndi.label(DAPI_clean)\n",
    "    labeled_PI, _ = ndi.label(PI_clean)\n",
    "    PI_props = measure.regionprops(labeled_PI)\n",
    "    DAPI_props = measure.regionprops(labeled_DAPI)\n",
    "    \n",
    "    props_DAPI = pd.DataFrame(columns=['centroid x', 'centroid y', 'filled_area', 'area'])\n",
    "\n",
    "    k = 1\n",
    "    for props in DAPI_props:\n",
    "    #Get the properties that I need for areas\n",
    "    #Add them into a pandas dataframe that has the same number of rows as objects detected\n",
    "        centroid = props.centroid\n",
    "        centroid_x = centroid[0]\n",
    "        centroid_y = centroid[1]\n",
    "        fill_area = props.filled_area\n",
    "        area = props.area\n",
    "        props_DAPI.loc[k] = [centroid_x, centroid_y, fill_area, area]\n",
    "        k = k + 1\n",
    "        \n",
    "\n",
    "    props_PI = pd.DataFrame(columns=['centroid x', 'centroid y', 'filled_area', 'area'])\n",
    "\n",
    "    j = 1\n",
    "    for props in PI_props:\n",
    "    #Get the properties that I need for areas\n",
    "    #Add them into a pandas dataframe that has the same number of rows as objects detected\n",
    "        centroid = props.centroid\n",
    "        centroid_x = centroid[0]\n",
    "        centroid_y = centroid[1]\n",
    "        fill_area = props.filled_area\n",
    "        area = props.area\n",
    "        props_PI.loc[j] = [centroid_x, centroid_y, fill_area, area]\n",
    "        j = j + 1\n",
    "    \n",
    "    PI_overlap_sum = 0\n",
    "    DAPI_pixels = 0\n",
    "    i = 0\n",
    "    PI_pixels = 0\n",
    "\n",
    "    for ydim in range(0,512):\n",
    "        for xdim in range(0,512):\n",
    "            if labeled_DAPI[ydim][xdim] != 0:\n",
    "                PI_overlap_sum = PI_overlap_sum + PI[ydim][xdim]\n",
    "                DAPI_pixels = DAPI_pixels+1\n",
    "                i = i + 1\n",
    "                if labeled_PI[ydim][xdim] != 0:\n",
    "                    PI_pixels = PI_pixels + 1\n",
    "                    \n",
    "    dead_count = 0\n",
    "    live_count= 0\n",
    "\n",
    "    for nuc in range(1, len(props_DAPI)+1):\n",
    "        live = 0\n",
    "        dead = 0\n",
    "        for ydim in range(0,512):\n",
    "            for xdim in range(0,512):\n",
    "                if labeled_DAPI[ydim][xdim] == nuc:\n",
    "                    if labeled_PI[ydim][xdim] == 0:\n",
    "                        live = live+1\n",
    "                    else:\n",
    "                        dead = dead+1\n",
    "        if dead/(live+dead) > 0.5:\n",
    "            dead_count = dead_count+1\n",
    "        else:\n",
    "            live_count = live_count+1\n",
    "    \n",
    "    output_data = output_data.append({'Image':image, 'DAPI count':len(props_DAPI), 'PI count':len(props_PI), 'DAPI intensity':DAPI.sum(), 'PI intensity':PI.sum(), 'DAPI area':props_DAPI['area'].sum(), 'PI area':props_PI['area'].sum(), 'PI intensity/DAPI count':PI.sum()/len(props_DAPI), 'PI w/in DAPI area':PI_overlap_sum, 'PI w/in DAPI/DAPI count':PI_overlap_sum/len(props_DAPI), '%overlap PI/DAPI':PI_pixels/DAPI_pixels, '% cell death':dead_count/(dead_count+live_count)}, ignore_index=True)"
   ]
  },
  {
   "cell_type": "code",
   "execution_count": null,
   "metadata": {},
   "outputs": [],
   "source": [
    "output_data"
   ]
  },
  {
   "cell_type": "code",
   "execution_count": 11,
   "metadata": {},
   "outputs": [],
   "source": [
    "output_data.to_csv('1_25_20_PI_quantification.csv', encoding='utf-8', index=False)"
   ]
  }
 ],
 "metadata": {
  "anaconda-cloud": {},
  "kernelspec": {
   "display_name": "Python 3",
   "language": "python",
   "name": "python3"
  },
  "language_info": {
   "codemirror_mode": {
    "name": "ipython",
    "version": 3
   },
   "file_extension": ".py",
   "mimetype": "text/x-python",
   "name": "python",
   "nbconvert_exporter": "python",
   "pygments_lexer": "ipython3",
   "version": "3.7.4"
  }
 },
 "nbformat": 4,
 "nbformat_minor": 1
}
