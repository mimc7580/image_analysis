{
 "cells": [
  {
   "cell_type": "code",
   "execution_count": 1,
   "metadata": {},
   "outputs": [],
   "source": [
    "import os\n",
    "import os.path as op\n",
    "import numpy as np\n",
    "import pandas as pd\n",
    "import matplotlib\n",
    "import matplotlib.pyplot as plt\n",
    "import skimage.io\n",
    "import skimage.filters\n",
    "from skimage.filters import try_all_threshold\n",
    "import matplotlib.image as mpimg\n",
    "from scipy import ndimage as ndi\n",
    "from skimage.transform import resize\n",
    "import skimage.morphology\n",
    "import skimage.feature\n",
    "import math\n",
    "from math import sqrt\n",
    "from skimage.color import rgb2gray\n",
    "from skimage import measure\n",
    "import skan\n",
    "from skan import csr\n",
    "from skan import summarize\n",
    "from skan import draw"
   ]
  },
  {
   "cell_type": "markdown",
   "metadata": {},
   "source": [
    "Use the following cell to set up a list of the images you want the analysis to run through"
   ]
  },
  {
   "cell_type": "code",
   "execution_count": 21,
   "metadata": {},
   "outputs": [],
   "source": [
    "image_list = []\n",
    "names = ['Slide1_section3_60x_zstack6', 'Slide10_section4_60x_zstack', 'Slide10_section5_60x_zstack']\n",
    "#zstacks = 2\n",
    "conversion = 0.5754 #P14/Adult: 0.4143, P21/P28/P35: 0.5754\n",
    "for stack in range(1, 5):\n",
    "    if stack == 1:\n",
    "        image_list.append(names[0])\n",
    "    else:\n",
    "        image_list.append(names[0]+\"{}\".format(stack))\n",
    "        \n",
    "for stack in range(1,8):\n",
    "    image_list.append(names[1]+\"{}\".format(stack))\n",
    "    \n",
    "for stack in range(1,5):\n",
    "    image_list.append(names[2]+\"{}\".format(stack))"
   ]
  },
  {
   "cell_type": "code",
   "execution_count": 2,
   "metadata": {},
   "outputs": [],
   "source": [
    "image_list = ['Slide1_section5_60x_zstack1']"
   ]
  },
  {
   "cell_type": "code",
   "execution_count": 3,
   "metadata": {},
   "outputs": [
    {
     "data": {
      "text/plain": [
       "['Slide1_section5_60x_zstack1']"
      ]
     },
     "execution_count": 3,
     "metadata": {},
     "output_type": "execute_result"
    }
   ],
   "source": [
    "image_list"
   ]
  },
  {
   "cell_type": "code",
   "execution_count": 23,
   "metadata": {},
   "outputs": [
    {
     "name": "stdout",
     "output_type": "stream",
     "text": [
      "(66, 512, 512)\n",
      "uint16\n"
     ]
    },
    {
     "data": {
      "text/plain": [
       "6561690.5"
      ]
     },
     "execution_count": 23,
     "metadata": {},
     "output_type": "execute_result"
    }
   ],
   "source": [
    "img = skimage.io.imread('Slide1_section5_60x_zstack1.tif')\n",
    "print(img.shape)\n",
    "print(img.dtype)\n",
    "DAPI = img[0::3]\n",
    "PNN = img[1::3]\n",
    "PVA = img[2::3]\n",
    "\n",
    "DAPI_MaxIP = np.max(DAPI,axis=0)\n",
    "PNN_MaxIP = np.max(PNN,axis=0)\n",
    "PVA_MaxIP = np.max(PVA,axis=0)\n",
    "\n",
    "avg_intensity = np.sum(PNN)/PNN.shape[0]\n",
    "avg_intensity"
   ]
  },
  {
   "cell_type": "code",
   "execution_count": null,
   "metadata": {},
   "outputs": [],
   "source": []
  },
  {
   "cell_type": "code",
   "execution_count": null,
   "metadata": {},
   "outputs": [],
   "source": []
  },
  {
   "cell_type": "code",
   "execution_count": null,
   "metadata": {},
   "outputs": [],
   "source": []
  }
 ],
 "metadata": {
  "anaconda-cloud": {},
  "kernelspec": {
   "display_name": "Python 3",
   "language": "python",
   "name": "python3"
  },
  "language_info": {
   "codemirror_mode": {
    "name": "ipython",
    "version": 3
   },
   "file_extension": ".py",
   "mimetype": "text/x-python",
   "name": "python",
   "nbconvert_exporter": "python",
   "pygments_lexer": "ipython3",
   "version": "3.7.4"
  }
 },
 "nbformat": 4,
 "nbformat_minor": 1
}
