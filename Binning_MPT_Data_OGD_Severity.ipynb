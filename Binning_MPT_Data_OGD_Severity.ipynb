{
 "cells": [
  {
   "cell_type": "code",
   "execution_count": 1,
   "metadata": {},
   "outputs": [],
   "source": [
    "import os\n",
    "import os.path as op\n",
    "import numpy as np\n",
    "import pandas as pd\n",
    "import matplotlib\n",
    "import matplotlib.pyplot as plt\n",
    "import math\n",
    "from math import sqrt"
   ]
  },
  {
   "cell_type": "code",
   "execution_count": 20,
   "metadata": {},
   "outputs": [],
   "source": [
    "raw_NT_ganglia = pd.read_csv('~/Desktop/temp_storage/R01_MPT_Data/csvs/NT/NT_ganglia_alpha.csv', sep='\\t')\n",
    "raw_NT_hippocampus = pd.read_csv('~/Desktop/temp_storage/R01_MPT_Data/csvs/NT/NT_hippocampus_alpha.csv', sep='\\t')\n",
    "raw_NT_thalamus = pd.read_csv('~/Desktop/temp_storage/R01_MPT_Data/csvs/NT/NT_thalamus_alpha.csv', sep='\\t')\n",
    "\n",
    "raw_OGD_ganglia = pd.read_csv('~/Desktop/temp_storage/R01_MPT_Data/csvs/OGD/OGD_ganglia_alpha.csv', sep='\\t')\n",
    "raw_OGD_hippocampus = pd.read_csv('~/Desktop/temp_storage/R01_MPT_Data/csvs/OGD/OGD_hippocampus_alpha.csv', sep='\\t')\n",
    "raw_OGD_thalamus = pd.read_csv('~/Desktop/temp_storage/R01_MPT_Data/csvs/OGD/OGD_thalamus_alpha.csv', sep='\\t')\n",
    "\n",
    "raw_OGD_AZ_ganglia = pd.read_csv('~/Desktop/temp_storage/R01_MPT_Data/csvs/OGD_AZ/OGD_AZ_ganglia_alpha.csv', sep='\\t')\n",
    "raw_OGD_AZ_hippocampus = pd.read_csv('~/Desktop/temp_storage/R01_MPT_Data/csvs/OGD_AZ/OGD_AZ_hippocampus_alpha.csv', sep='\\t')\n",
    "raw_OGD_AZ_thalamus = pd.read_csv('~/Desktop/temp_storage/R01_MPT_Data/csvs/OGD_AZ/OGD_AZ_thalamus_alpha.csv', sep='\\t')"
   ]
  },
  {
   "cell_type": "code",
   "execution_count": 21,
   "metadata": {},
   "outputs": [],
   "source": [
    "bins = ['AD/CD', 'ND', 'DM']\n",
    "binned_data = pd.DataFrame(columns=bins)"
   ]
  },
  {
   "cell_type": "code",
   "execution_count": 22,
   "metadata": {},
   "outputs": [
    {
     "data": {
      "text/html": [
       "<div>\n",
       "<style scoped>\n",
       "    .dataframe tbody tr th:only-of-type {\n",
       "        vertical-align: middle;\n",
       "    }\n",
       "\n",
       "    .dataframe tbody tr th {\n",
       "        vertical-align: top;\n",
       "    }\n",
       "\n",
       "    .dataframe thead th {\n",
       "        text-align: right;\n",
       "    }\n",
       "</style>\n",
       "<table border=\"1\" class=\"dataframe\">\n",
       "  <thead>\n",
       "    <tr style=\"text-align: right;\">\n",
       "      <th></th>\n",
       "      <th>AD/CD</th>\n",
       "      <th>ND</th>\n",
       "      <th>DM</th>\n",
       "    </tr>\n",
       "  </thead>\n",
       "  <tbody>\n",
       "  </tbody>\n",
       "</table>\n",
       "</div>"
      ],
      "text/plain": [
       "Empty DataFrame\n",
       "Columns: [AD/CD, ND, DM]\n",
       "Index: []"
      ]
     },
     "execution_count": 22,
     "metadata": {},
     "output_type": "execute_result"
    }
   ],
   "source": [
    "binned_data"
   ]
  },
  {
   "cell_type": "code",
   "execution_count": 23,
   "metadata": {},
   "outputs": [],
   "source": [
    "ND_count_OGD_AZ_ganglia = 0\n",
    "DM_count_OGD_AZ_ganglia = 0\n",
    "AD_CD_count_OGD_AZ_ganglia = 0\n",
    "ND_count_OGD_AZ_hippocampus = 0\n",
    "DM_count_OGD_AZ_hippocampus = 0\n",
    "AD_CD_count_OGD_AZ_hippocampus = 0\n",
    "ND_count_OGD_AZ_thalamus = 0\n",
    "DM_count_OGD_AZ_thalamus = 0\n",
    "AD_CD_count_OGD_AZ_thalamus = 0\n",
    "\n",
    "for data in range(0,len(raw_OGD_AZ_ganglia)):\n",
    "    if raw_OGD_AZ_ganglia['0'][data] > 1.25:\n",
    "        DM_count_OGD_AZ_ganglia += 1\n",
    "    elif raw_OGD_AZ_ganglia['0'][data] < 0.75:\n",
    "        AD_CD_count_OGD_AZ_ganglia += 1\n",
    "    else:\n",
    "        ND_count_OGD_AZ_ganglia += 1\n",
    "\n",
    "for data in range(0,len(raw_OGD_AZ_hippocampus)):\n",
    "    if raw_OGD_AZ_hippocampus['0'][data] > 1.25:\n",
    "        DM_count_OGD_AZ_hippocampus += 1\n",
    "    elif raw_OGD_AZ_hippocampus['0'][data] < 0.75:\n",
    "        AD_CD_count_OGD_AZ_hippocampus += 1\n",
    "    else:\n",
    "        ND_count_OGD_AZ_hippocampus += 1\n",
    "\n",
    "for data in range(0,len(raw_OGD_AZ_thalamus)):\n",
    "    if raw_OGD_AZ_thalamus['0'][data] > 1.25:\n",
    "        DM_count_OGD_AZ_thalamus += 1\n",
    "    elif raw_OGD_AZ_thalamus['0'][data] < 0.75:\n",
    "        AD_CD_count_OGD_AZ_thalamus += 1\n",
    "    else:\n",
    "        ND_count_OGD_AZ_thalamus += 1\n",
    "\n",
    "total_OGD_AZ_ganglia = AD_CD_count_OGD_AZ_ganglia+ND_count_OGD_AZ_ganglia+DM_count_OGD_AZ_ganglia\n",
    "total_OGD_AZ_hippocampus = AD_CD_count_OGD_AZ_hippocampus+ND_count_OGD_AZ_hippocampus+DM_count_OGD_AZ_hippocampus\n",
    "total_OGD_AZ_thalamus = AD_CD_count_OGD_AZ_thalamus+ND_count_OGD_AZ_thalamus+DM_count_OGD_AZ_thalamus\n",
    "total_OGD_AZ_combined = total_OGD_AZ_ganglia+total_OGD_AZ_thalamus+total_OGD_AZ_hippocampus\n",
    "\n",
    "binned_data.loc['ganglia'] = [AD_CD_count_OGD_AZ_ganglia/total_OGD_AZ_ganglia*100, ND_count_OGD_AZ_ganglia/total_OGD_AZ_ganglia*100, DM_count_OGD_AZ_ganglia/total_OGD_AZ_ganglia*100]\n",
    "binned_data.loc['hippocampus'] = [AD_CD_count_OGD_AZ_hippocampus/total_OGD_AZ_hippocampus*100, ND_count_OGD_AZ_hippocampus/total_OGD_AZ_hippocampus*100, DM_count_OGD_AZ_hippocampus/total_OGD_AZ_hippocampus*100]\n",
    "binned_data.loc['thalamus'] = [AD_CD_count_OGD_AZ_thalamus/total_OGD_AZ_thalamus*100, ND_count_OGD_AZ_thalamus/total_OGD_AZ_thalamus*100, DM_count_OGD_AZ_thalamus/total_OGD_AZ_thalamus*100]\n",
    "\n",
    "binned_data.loc['combined'] = [(AD_CD_count_OGD_AZ_ganglia+AD_CD_count_OGD_AZ_thalamus+AD_CD_count_OGD_AZ_hippocampus)/total_OGD_AZ_combined*100, (ND_count_OGD_AZ_ganglia+ND_count_OGD_AZ_thalamus+ND_count_OGD_AZ_hippocampus)/total_OGD_AZ_combined*100, (DM_count_OGD_AZ_ganglia+DM_count_OGD_AZ_thalamus+DM_count_OGD_AZ_hippocampus)/total_OGD_AZ_combined*100]\n",
    "binned_data.to_csv('~/Desktop/temp_storage/R01_MPT_Data/csvs/OGD_AZ/OGD_AZ_alpha_binned.csv', mode='w')"
   ]
  },
  {
   "cell_type": "code",
   "execution_count": 61,
   "metadata": {},
   "outputs": [
    {
     "data": {
      "text/html": [
       "<div>\n",
       "<style scoped>\n",
       "    .dataframe tbody tr th:only-of-type {\n",
       "        vertical-align: middle;\n",
       "    }\n",
       "\n",
       "    .dataframe tbody tr th {\n",
       "        vertical-align: top;\n",
       "    }\n",
       "\n",
       "    .dataframe thead th {\n",
       "        text-align: right;\n",
       "    }\n",
       "</style>\n",
       "<table border=\"1\" class=\"dataframe\">\n",
       "  <thead>\n",
       "    <tr style=\"text-align: right;\">\n",
       "      <th></th>\n",
       "      <th>AD/CD</th>\n",
       "      <th>ND</th>\n",
       "      <th>DM</th>\n",
       "    </tr>\n",
       "  </thead>\n",
       "  <tbody>\n",
       "    <tr>\n",
       "      <td>cortex</td>\n",
       "      <td>53.712534</td>\n",
       "      <td>23.262943</td>\n",
       "      <td>23.024523</td>\n",
       "    </tr>\n",
       "    <tr>\n",
       "      <td>thalamus</td>\n",
       "      <td>49.667616</td>\n",
       "      <td>25.852063</td>\n",
       "      <td>24.480321</td>\n",
       "    </tr>\n",
       "    <tr>\n",
       "      <td>hippocampus</td>\n",
       "      <td>52.238806</td>\n",
       "      <td>27.611940</td>\n",
       "      <td>20.149254</td>\n",
       "    </tr>\n",
       "    <tr>\n",
       "      <td>combined</td>\n",
       "      <td>50.674990</td>\n",
       "      <td>25.314085</td>\n",
       "      <td>24.010925</td>\n",
       "    </tr>\n",
       "  </tbody>\n",
       "</table>\n",
       "</div>"
      ],
      "text/plain": [
       "                 AD/CD         ND         DM\n",
       "cortex       53.712534  23.262943  23.024523\n",
       "thalamus     49.667616  25.852063  24.480321\n",
       "hippocampus  52.238806  27.611940  20.149254\n",
       "combined     50.674990  25.314085  24.010925"
      ]
     },
     "execution_count": 61,
     "metadata": {},
     "output_type": "execute_result"
    }
   ],
   "source": [
    "binned_data"
   ]
  },
  {
   "cell_type": "code",
   "execution_count": 67,
   "metadata": {},
   "outputs": [
    {
     "data": {
      "text/html": [
       "<div>\n",
       "<style scoped>\n",
       "    .dataframe tbody tr th:only-of-type {\n",
       "        vertical-align: middle;\n",
       "    }\n",
       "\n",
       "    .dataframe tbody tr th {\n",
       "        vertical-align: top;\n",
       "    }\n",
       "\n",
       "    .dataframe thead th {\n",
       "        text-align: right;\n",
       "    }\n",
       "</style>\n",
       "<table border=\"1\" class=\"dataframe\">\n",
       "  <thead>\n",
       "    <tr style=\"text-align: right;\">\n",
       "      <th></th>\n",
       "      <th>AD/CD</th>\n",
       "      <th>ND</th>\n",
       "      <th>DM</th>\n",
       "    </tr>\n",
       "  </thead>\n",
       "  <tbody>\n",
       "    <tr>\n",
       "      <td>cortex</td>\n",
       "      <td>39.097870</td>\n",
       "      <td>27.907343</td>\n",
       "      <td>32.994788</td>\n",
       "    </tr>\n",
       "    <tr>\n",
       "      <td>thalamus</td>\n",
       "      <td>46.785590</td>\n",
       "      <td>29.292451</td>\n",
       "      <td>23.921958</td>\n",
       "    </tr>\n",
       "    <tr>\n",
       "      <td>hippocampus</td>\n",
       "      <td>38.956361</td>\n",
       "      <td>28.464545</td>\n",
       "      <td>32.579095</td>\n",
       "    </tr>\n",
       "    <tr>\n",
       "      <td>combined</td>\n",
       "      <td>40.809806</td>\n",
       "      <td>28.436678</td>\n",
       "      <td>30.753515</td>\n",
       "    </tr>\n",
       "  </tbody>\n",
       "</table>\n",
       "</div>"
      ],
      "text/plain": [
       "                 AD/CD         ND         DM\n",
       "cortex       39.097870  27.907343  32.994788\n",
       "thalamus     46.785590  29.292451  23.921958\n",
       "hippocampus  38.956361  28.464545  32.579095\n",
       "combined     40.809806  28.436678  30.753515"
      ]
     },
     "execution_count": 67,
     "metadata": {},
     "output_type": "execute_result"
    }
   ],
   "source": [
    "binned_data"
   ]
  }
 ],
 "metadata": {
  "kernelspec": {
   "display_name": "Python 3",
   "language": "python",
   "name": "python3"
  },
  "language_info": {
   "codemirror_mode": {
    "name": "ipython",
    "version": 3
   },
   "file_extension": ".py",
   "mimetype": "text/x-python",
   "name": "python",
   "nbconvert_exporter": "python",
   "pygments_lexer": "ipython3",
   "version": "3.7.4"
  }
 },
 "nbformat": 4,
 "nbformat_minor": 2
}
