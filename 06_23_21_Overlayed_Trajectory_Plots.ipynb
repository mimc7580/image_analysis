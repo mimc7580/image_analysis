{
 "cells": [
  {
   "cell_type": "code",
   "execution_count": 1,
   "metadata": {},
   "outputs": [],
   "source": [
    "import os\n",
    "import os.path as op\n",
    "import numpy as np\n",
    "import math\n",
    "import pandas as pd\n",
    "import matplotlib.pyplot as plt\n",
    "import numpy.ma as ma\n",
    "from scipy import stats"
   ]
  },
  {
   "cell_type": "code",
   "execution_count": 2,
   "metadata": {},
   "outputs": [
    {
     "data": {
      "text/plain": [
       "'/Users/mikemckenna/Desktop/image_analysis'"
      ]
     },
     "execution_count": 2,
     "metadata": {},
     "output_type": "execute_result"
    }
   ],
   "source": [
    "os.getcwd()"
   ]
  },
  {
   "cell_type": "code",
   "execution_count": 6,
   "metadata": {},
   "outputs": [],
   "source": [
    "os.chdir('/Users/mikemckenna/Desktop/MPT_data/WHBS_MPT/')\n",
    "\n",
    "filename = 'P17_14DIV_40nm_cortex_slice_1_vid_3'\n",
    "traj_file = pd.read_csv('msd_{}.csv'.format(filename))"
   ]
  },
  {
   "cell_type": "code",
   "execution_count": 7,
   "metadata": {},
   "outputs": [
    {
     "data": {
      "text/html": [
       "<div>\n",
       "<style scoped>\n",
       "    .dataframe tbody tr th:only-of-type {\n",
       "        vertical-align: middle;\n",
       "    }\n",
       "\n",
       "    .dataframe tbody tr th {\n",
       "        vertical-align: top;\n",
       "    }\n",
       "\n",
       "    .dataframe thead th {\n",
       "        text-align: right;\n",
       "    }\n",
       "</style>\n",
       "<table border=\"1\" class=\"dataframe\">\n",
       "  <thead>\n",
       "    <tr style=\"text-align: right;\">\n",
       "      <th></th>\n",
       "      <th>Unnamed: 0</th>\n",
       "      <th>Frame</th>\n",
       "      <th>Track_ID</th>\n",
       "      <th>X</th>\n",
       "      <th>Y</th>\n",
       "      <th>MSDs</th>\n",
       "      <th>Gauss</th>\n",
       "      <th>Quality</th>\n",
       "      <th>SN_Ratio</th>\n",
       "      <th>Mean_Intensity</th>\n",
       "    </tr>\n",
       "  </thead>\n",
       "  <tbody>\n",
       "    <tr>\n",
       "      <td>0</td>\n",
       "      <td>0</td>\n",
       "      <td>0.0</td>\n",
       "      <td>0.0</td>\n",
       "      <td>276.852</td>\n",
       "      <td>1672.469</td>\n",
       "      <td>0.000000</td>\n",
       "      <td>0.000000</td>\n",
       "      <td>5.371</td>\n",
       "      <td>0.432</td>\n",
       "      <td>804.767</td>\n",
       "    </tr>\n",
       "    <tr>\n",
       "      <td>1</td>\n",
       "      <td>1</td>\n",
       "      <td>1.0</td>\n",
       "      <td>0.0</td>\n",
       "      <td>277.173</td>\n",
       "      <td>1672.586</td>\n",
       "      <td>0.876146</td>\n",
       "      <td>0.819392</td>\n",
       "      <td>6.315</td>\n",
       "      <td>0.607</td>\n",
       "      <td>809.837</td>\n",
       "    </tr>\n",
       "    <tr>\n",
       "      <td>2</td>\n",
       "      <td>2</td>\n",
       "      <td>2.0</td>\n",
       "      <td>0.0</td>\n",
       "      <td>276.931</td>\n",
       "      <td>1672.323</td>\n",
       "      <td>0.880650</td>\n",
       "      <td>0.829152</td>\n",
       "      <td>4.790</td>\n",
       "      <td>0.398</td>\n",
       "      <td>802.783</td>\n",
       "    </tr>\n",
       "    <tr>\n",
       "      <td>3</td>\n",
       "      <td>3</td>\n",
       "      <td>3.0</td>\n",
       "      <td>0.0</td>\n",
       "      <td>276.843</td>\n",
       "      <td>1672.450</td>\n",
       "      <td>0.932555</td>\n",
       "      <td>0.799256</td>\n",
       "      <td>6.990</td>\n",
       "      <td>0.722</td>\n",
       "      <td>815.589</td>\n",
       "    </tr>\n",
       "    <tr>\n",
       "      <td>4</td>\n",
       "      <td>4</td>\n",
       "      <td>4.0</td>\n",
       "      <td>0.0</td>\n",
       "      <td>277.044</td>\n",
       "      <td>1671.872</td>\n",
       "      <td>0.900072</td>\n",
       "      <td>0.720480</td>\n",
       "      <td>5.660</td>\n",
       "      <td>0.601</td>\n",
       "      <td>806.341</td>\n",
       "    </tr>\n",
       "  </tbody>\n",
       "</table>\n",
       "</div>"
      ],
      "text/plain": [
       "   Unnamed: 0  Frame  Track_ID        X         Y      MSDs     Gauss  \\\n",
       "0           0    0.0       0.0  276.852  1672.469  0.000000  0.000000   \n",
       "1           1    1.0       0.0  277.173  1672.586  0.876146  0.819392   \n",
       "2           2    2.0       0.0  276.931  1672.323  0.880650  0.829152   \n",
       "3           3    3.0       0.0  276.843  1672.450  0.932555  0.799256   \n",
       "4           4    4.0       0.0  277.044  1671.872  0.900072  0.720480   \n",
       "\n",
       "   Quality  SN_Ratio  Mean_Intensity  \n",
       "0    5.371     0.432         804.767  \n",
       "1    6.315     0.607         809.837  \n",
       "2    4.790     0.398         802.783  \n",
       "3    6.990     0.722         815.589  \n",
       "4    5.660     0.601         806.341  "
      ]
     },
     "execution_count": 7,
     "metadata": {},
     "output_type": "execute_result"
    }
   ],
   "source": [
    "traj_file[0:5]"
   ]
  },
  {
   "cell_type": "code",
   "execution_count": 8,
   "metadata": {},
   "outputs": [],
   "source": [
    "particles = int(max(traj_file['Track_ID']))"
   ]
  },
  {
   "cell_type": "code",
   "execution_count": 9,
   "metadata": {},
   "outputs": [
    {
     "data": {
      "text/plain": [
       "5055"
      ]
     },
     "execution_count": 9,
     "metadata": {},
     "output_type": "execute_result"
    }
   ],
   "source": [
    "particles"
   ]
  },
  {
   "cell_type": "code",
   "execution_count": 10,
   "metadata": {},
   "outputs": [],
   "source": [
    "def unmask_track(track):\n",
    "    xpos = ma.masked_invalid(track['X'])\n",
    "    msds = ma.masked_invalid(track['MSDs'])\n",
    "    x_mask = ma.getmask(xpos)\n",
    "    msd_mask = ma.getmask(msds)\n",
    "    comp_frame = ma.compressed(ma.masked_where(msd_mask, track['Frame']))\n",
    "    compid = ma.compressed(ma.masked_where(msd_mask, track['Track_ID']))\n",
    "    comp_x = ma.compressed(ma.masked_where(x_mask, track['X']))\n",
    "    comp_y = ma.compressed(ma.masked_where(x_mask, track['Y']))\n",
    "    comp_msd = ma.compressed(ma.masked_where(msd_mask, track['MSDs']))\n",
    "    comp_gauss = ma.compressed(ma.masked_where(msd_mask, track['Gauss']))\n",
    "    comp_qual = ma.compressed(ma.masked_where(x_mask, track['Quality']))\n",
    "    comp_snr = ma.compressed(ma.masked_where(x_mask, track['SN_Ratio']))\n",
    "    comp_meani = ma.compressed(ma.masked_where(x_mask,\n",
    "                                               track['Mean_Intensity']))\n",
    "\n",
    "    data1 = {'Frame': comp_frame,\n",
    "             'Track_ID': compid,\n",
    "             'X': comp_x,\n",
    "             'Y': comp_y,\n",
    "             'MSDs': comp_msd,\n",
    "             'Gauss': comp_gauss,\n",
    "             'Quality': comp_qual,\n",
    "             'SN_Ratio': comp_snr,\n",
    "             'Mean_Intensity': comp_meani\n",
    "             }\n",
    "    comp_track = pd.DataFrame(data=data1)\n",
    "    return comp_track"
   ]
  },
  {
   "cell_type": "code",
   "execution_count": 12,
   "metadata": {},
   "outputs": [],
   "source": [
    "single_track = unmask_track(traj_file)"
   ]
  },
  {
   "cell_type": "code",
   "execution_count": 14,
   "metadata": {},
   "outputs": [
    {
     "data": {
      "text/html": [
       "<div>\n",
       "<style scoped>\n",
       "    .dataframe tbody tr th:only-of-type {\n",
       "        vertical-align: middle;\n",
       "    }\n",
       "\n",
       "    .dataframe tbody tr th {\n",
       "        vertical-align: top;\n",
       "    }\n",
       "\n",
       "    .dataframe thead th {\n",
       "        text-align: right;\n",
       "    }\n",
       "</style>\n",
       "<table border=\"1\" class=\"dataframe\">\n",
       "  <thead>\n",
       "    <tr style=\"text-align: right;\">\n",
       "      <th></th>\n",
       "      <th>Frame</th>\n",
       "      <th>Track_ID</th>\n",
       "      <th>X</th>\n",
       "      <th>Y</th>\n",
       "      <th>MSDs</th>\n",
       "      <th>Gauss</th>\n",
       "      <th>Quality</th>\n",
       "      <th>SN_Ratio</th>\n",
       "      <th>Mean_Intensity</th>\n",
       "    </tr>\n",
       "  </thead>\n",
       "  <tbody>\n",
       "    <tr>\n",
       "      <td>0</td>\n",
       "      <td>0.0</td>\n",
       "      <td>0.0</td>\n",
       "      <td>276.852</td>\n",
       "      <td>1672.469</td>\n",
       "      <td>0.000000</td>\n",
       "      <td>0.000000</td>\n",
       "      <td>5.371</td>\n",
       "      <td>0.432</td>\n",
       "      <td>804.767</td>\n",
       "    </tr>\n",
       "    <tr>\n",
       "      <td>1</td>\n",
       "      <td>1.0</td>\n",
       "      <td>0.0</td>\n",
       "      <td>277.173</td>\n",
       "      <td>1672.586</td>\n",
       "      <td>0.876146</td>\n",
       "      <td>0.819392</td>\n",
       "      <td>6.315</td>\n",
       "      <td>0.607</td>\n",
       "      <td>809.837</td>\n",
       "    </tr>\n",
       "    <tr>\n",
       "      <td>2</td>\n",
       "      <td>2.0</td>\n",
       "      <td>0.0</td>\n",
       "      <td>276.931</td>\n",
       "      <td>1672.323</td>\n",
       "      <td>0.880650</td>\n",
       "      <td>0.829152</td>\n",
       "      <td>4.790</td>\n",
       "      <td>0.398</td>\n",
       "      <td>802.783</td>\n",
       "    </tr>\n",
       "    <tr>\n",
       "      <td>3</td>\n",
       "      <td>3.0</td>\n",
       "      <td>0.0</td>\n",
       "      <td>276.843</td>\n",
       "      <td>1672.450</td>\n",
       "      <td>0.932555</td>\n",
       "      <td>0.799256</td>\n",
       "      <td>6.990</td>\n",
       "      <td>0.722</td>\n",
       "      <td>815.589</td>\n",
       "    </tr>\n",
       "    <tr>\n",
       "      <td>4</td>\n",
       "      <td>4.0</td>\n",
       "      <td>0.0</td>\n",
       "      <td>277.044</td>\n",
       "      <td>1671.872</td>\n",
       "      <td>0.900072</td>\n",
       "      <td>0.720480</td>\n",
       "      <td>5.660</td>\n",
       "      <td>0.601</td>\n",
       "      <td>806.341</td>\n",
       "    </tr>\n",
       "    <tr>\n",
       "      <td>...</td>\n",
       "      <td>...</td>\n",
       "      <td>...</td>\n",
       "      <td>...</td>\n",
       "      <td>...</td>\n",
       "      <td>...</td>\n",
       "      <td>...</td>\n",
       "      <td>...</td>\n",
       "      <td>...</td>\n",
       "      <td>...</td>\n",
       "    </tr>\n",
       "    <tr>\n",
       "      <td>259926</td>\n",
       "      <td>10.0</td>\n",
       "      <td>5055.0</td>\n",
       "      <td>2019.084</td>\n",
       "      <td>36.636</td>\n",
       "      <td>12.873448</td>\n",
       "      <td>0.553438</td>\n",
       "      <td>8.644</td>\n",
       "      <td>0.662</td>\n",
       "      <td>773.116</td>\n",
       "    </tr>\n",
       "    <tr>\n",
       "      <td>259927</td>\n",
       "      <td>11.0</td>\n",
       "      <td>5055.0</td>\n",
       "      <td>2013.978</td>\n",
       "      <td>36.428</td>\n",
       "      <td>5.423430</td>\n",
       "      <td>0.798856</td>\n",
       "      <td>5.388</td>\n",
       "      <td>0.757</td>\n",
       "      <td>762.140</td>\n",
       "    </tr>\n",
       "    <tr>\n",
       "      <td>259928</td>\n",
       "      <td>12.0</td>\n",
       "      <td>5055.0</td>\n",
       "      <td>2018.931</td>\n",
       "      <td>38.073</td>\n",
       "      <td>28.428776</td>\n",
       "      <td>0.428276</td>\n",
       "      <td>7.825</td>\n",
       "      <td>0.965</td>\n",
       "      <td>772.907</td>\n",
       "    </tr>\n",
       "    <tr>\n",
       "      <td>259929</td>\n",
       "      <td>13.0</td>\n",
       "      <td>5055.0</td>\n",
       "      <td>2018.250</td>\n",
       "      <td>35.090</td>\n",
       "      <td>41.429646</td>\n",
       "      <td>0.437087</td>\n",
       "      <td>6.137</td>\n",
       "      <td>0.729</td>\n",
       "      <td>767.008</td>\n",
       "    </tr>\n",
       "    <tr>\n",
       "      <td>259930</td>\n",
       "      <td>14.0</td>\n",
       "      <td>5055.0</td>\n",
       "      <td>2022.125</td>\n",
       "      <td>32.738</td>\n",
       "      <td>63.925160</td>\n",
       "      <td>0.350372</td>\n",
       "      <td>8.402</td>\n",
       "      <td>0.789</td>\n",
       "      <td>772.713</td>\n",
       "    </tr>\n",
       "  </tbody>\n",
       "</table>\n",
       "<p>259931 rows × 9 columns</p>\n",
       "</div>"
      ],
      "text/plain": [
       "        Frame  Track_ID         X         Y       MSDs     Gauss  Quality  \\\n",
       "0         0.0       0.0   276.852  1672.469   0.000000  0.000000    5.371   \n",
       "1         1.0       0.0   277.173  1672.586   0.876146  0.819392    6.315   \n",
       "2         2.0       0.0   276.931  1672.323   0.880650  0.829152    4.790   \n",
       "3         3.0       0.0   276.843  1672.450   0.932555  0.799256    6.990   \n",
       "4         4.0       0.0   277.044  1671.872   0.900072  0.720480    5.660   \n",
       "...       ...       ...       ...       ...        ...       ...      ...   \n",
       "259926   10.0    5055.0  2019.084    36.636  12.873448  0.553438    8.644   \n",
       "259927   11.0    5055.0  2013.978    36.428   5.423430  0.798856    5.388   \n",
       "259928   12.0    5055.0  2018.931    38.073  28.428776  0.428276    7.825   \n",
       "259929   13.0    5055.0  2018.250    35.090  41.429646  0.437087    6.137   \n",
       "259930   14.0    5055.0  2022.125    32.738  63.925160  0.350372    8.402   \n",
       "\n",
       "        SN_Ratio  Mean_Intensity  \n",
       "0          0.432         804.767  \n",
       "1          0.607         809.837  \n",
       "2          0.398         802.783  \n",
       "3          0.722         815.589  \n",
       "4          0.601         806.341  \n",
       "...          ...             ...  \n",
       "259926     0.662         773.116  \n",
       "259927     0.757         762.140  \n",
       "259928     0.965         772.907  \n",
       "259929     0.729         767.008  \n",
       "259930     0.789         772.713  \n",
       "\n",
       "[259931 rows x 9 columns]"
      ]
     },
     "execution_count": 14,
     "metadata": {},
     "output_type": "execute_result"
    }
   ],
   "source": [
    "single_track"
   ]
  },
  {
   "cell_type": "code",
   "execution_count": 15,
   "metadata": {},
   "outputs": [
    {
     "data": {
      "text/plain": [
       "(3291456, 10)"
      ]
     },
     "execution_count": 15,
     "metadata": {},
     "output_type": "execute_result"
    }
   ],
   "source": [
    "traj_file.shape"
   ]
  },
  {
   "cell_type": "code",
   "execution_count": 16,
   "metadata": {},
   "outputs": [
    {
     "data": {
      "text/plain": [
       "(259931, 9)"
      ]
     },
     "execution_count": 16,
     "metadata": {},
     "output_type": "execute_result"
    }
   ],
   "source": [
    "single_track.shape"
   ]
  },
  {
   "cell_type": "code",
   "execution_count": 17,
   "metadata": {},
   "outputs": [],
   "source": [
    "trackids = single_track.Track_ID.unique()"
   ]
  },
  {
   "cell_type": "code",
   "execution_count": 18,
   "metadata": {},
   "outputs": [
    {
     "data": {
      "text/plain": [
       "array([0.000e+00, 1.000e+00, 2.000e+00, ..., 5.053e+03, 5.054e+03,\n",
       "       5.055e+03])"
      ]
     },
     "execution_count": 18,
     "metadata": {},
     "output_type": "execute_result"
    }
   ],
   "source": [
    "trackids"
   ]
  },
  {
   "cell_type": "code",
   "execution_count": null,
   "metadata": {},
   "outputs": [],
   "source": [
    "for particle in range(0, trackids.shape[0]):\n",
    "    corrected"
   ]
  },
  {
   "cell_type": "code",
   "execution_count": null,
   "metadata": {},
   "outputs": [],
   "source": []
  }
 ],
 "metadata": {
  "kernelspec": {
   "display_name": "Python 3",
   "language": "python",
   "name": "python3"
  },
  "language_info": {
   "codemirror_mode": {
    "name": "ipython",
    "version": 3
   },
   "file_extension": ".py",
   "mimetype": "text/x-python",
   "name": "python",
   "nbconvert_exporter": "python",
   "pygments_lexer": "ipython3",
   "version": "3.7.4"
  }
 },
 "nbformat": 4,
 "nbformat_minor": 2
}
