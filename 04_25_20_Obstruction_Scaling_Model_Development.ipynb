{
 "cells": [
  {
   "cell_type": "code",
   "execution_count": 1,
   "metadata": {},
   "outputs": [],
   "source": [
    "import os\n",
    "import os.path as op\n",
    "import numpy as np\n",
    "import math\n",
    "import pandas as pd\n",
    "import matplotlib.pyplot as plt\n",
    "import numpy.ma as ma\n",
    "from scipy import stats"
   ]
  },
  {
   "cell_type": "code",
   "execution_count": 2,
   "metadata": {},
   "outputs": [],
   "source": [
    "file_list = [] # This is going to be the list of all filenames that will be included in the analysis\n",
    "\n",
    "path = './OSM_Data/' # The folder where the Deff csv files are located\n",
    "\n",
    "ages = ['P14', 'P21', 'P28', 'P35']\n",
    "slices = 3\n",
    "vids = 5\n",
    "\n",
    "for age in ages:\n",
    "    for slic in range(1, slices+1):\n",
    "        for vid in range(1, vids+1):\n",
    "            file_list.append('{}_40nm_s{}_v{}'.format(age, slic, vid))"
   ]
  },
  {
   "cell_type": "code",
   "execution_count": 3,
   "metadata": {},
   "outputs": [
    {
     "data": {
      "text/plain": [
       "['P14_40nm_s1_v1',\n",
       " 'P14_40nm_s1_v2',\n",
       " 'P14_40nm_s1_v3',\n",
       " 'P14_40nm_s1_v4',\n",
       " 'P14_40nm_s1_v5',\n",
       " 'P14_40nm_s2_v1',\n",
       " 'P14_40nm_s2_v2',\n",
       " 'P14_40nm_s2_v3',\n",
       " 'P14_40nm_s2_v4',\n",
       " 'P14_40nm_s2_v5',\n",
       " 'P14_40nm_s3_v1',\n",
       " 'P14_40nm_s3_v2',\n",
       " 'P14_40nm_s3_v3',\n",
       " 'P14_40nm_s3_v4',\n",
       " 'P14_40nm_s3_v5',\n",
       " 'P21_40nm_s1_v1',\n",
       " 'P21_40nm_s1_v2',\n",
       " 'P21_40nm_s1_v3',\n",
       " 'P21_40nm_s1_v4',\n",
       " 'P21_40nm_s1_v5',\n",
       " 'P21_40nm_s2_v1',\n",
       " 'P21_40nm_s2_v2',\n",
       " 'P21_40nm_s2_v3',\n",
       " 'P21_40nm_s2_v4',\n",
       " 'P21_40nm_s2_v5',\n",
       " 'P21_40nm_s3_v1',\n",
       " 'P21_40nm_s3_v2',\n",
       " 'P21_40nm_s3_v3',\n",
       " 'P21_40nm_s3_v4',\n",
       " 'P21_40nm_s3_v5',\n",
       " 'P28_40nm_s1_v1',\n",
       " 'P28_40nm_s1_v2',\n",
       " 'P28_40nm_s1_v3',\n",
       " 'P28_40nm_s1_v4',\n",
       " 'P28_40nm_s1_v5',\n",
       " 'P28_40nm_s2_v1',\n",
       " 'P28_40nm_s2_v2',\n",
       " 'P28_40nm_s2_v3',\n",
       " 'P28_40nm_s2_v4',\n",
       " 'P28_40nm_s2_v5',\n",
       " 'P28_40nm_s3_v1',\n",
       " 'P28_40nm_s3_v2',\n",
       " 'P28_40nm_s3_v3',\n",
       " 'P28_40nm_s3_v4',\n",
       " 'P28_40nm_s3_v5',\n",
       " 'P35_40nm_s1_v1',\n",
       " 'P35_40nm_s1_v2',\n",
       " 'P35_40nm_s1_v3',\n",
       " 'P35_40nm_s1_v4',\n",
       " 'P35_40nm_s1_v5',\n",
       " 'P35_40nm_s2_v1',\n",
       " 'P35_40nm_s2_v2',\n",
       " 'P35_40nm_s2_v3',\n",
       " 'P35_40nm_s2_v4',\n",
       " 'P35_40nm_s2_v5',\n",
       " 'P35_40nm_s3_v1',\n",
       " 'P35_40nm_s3_v2',\n",
       " 'P35_40nm_s3_v3',\n",
       " 'P35_40nm_s3_v4',\n",
       " 'P35_40nm_s3_v5']"
      ]
     },
     "execution_count": 3,
     "metadata": {},
     "output_type": "execute_result"
    }
   ],
   "source": [
    "file_list"
   ]
  },
  {
   "cell_type": "code",
   "execution_count": 4,
   "metadata": {},
   "outputs": [
    {
     "name": "stdout",
     "output_type": "stream",
     "text": [
      "8.25846094056375\n"
     ]
    }
   ],
   "source": [
    "# Assigning variables\n",
    "k = 1.3806503e-23 # m^2 kg s^-2 K\n",
    "#T = 310.15 # K\n",
    "T = 293.15 # K\n",
    "mu = 0.001 # kg m^-1 s^-1\n",
    "\n",
    "r_s = 26 # nm\n",
    "r_f = 0.3 # nm\n",
    "\n",
    "Do = k*T/(6*math.pi*mu*r_s*1e-9)*1e12 # um^2/s\n",
    "print(Do)"
   ]
  },
  {
   "cell_type": "code",
   "execution_count": null,
   "metadata": {},
   "outputs": [],
   "source": []
  },
  {
   "cell_type": "code",
   "execution_count": 42,
   "metadata": {},
   "outputs": [],
   "source": [
    "Deff_vals_P14 = pd.DataFrame()\n",
    "\n",
    "for file in file_list[0:15]:\n",
    "    temp = pd.read_csv(path+'{}_Deff.csv'.format(file))\n",
    "    Deff_vals_P14 = pd.concat([Deff_vals_P14, temp], ignore_index=True)\n",
    "\n",
    "Deff_vals_P14.rename(columns={'0': \"Deff [um^2/s]\"}, inplace=True)\n",
    "Deff_vals_P14['Pore size [nm]'] = 2*((r_s+r_f)/((-4/math.pi*(np.log((Deff_vals_P14['Deff [um^2/s]'])*10/Do)))**(1/2))-r_f)\n",
    "Deff_vals_P14 = Deff_vals_P14.dropna()\n",
    "Deff_vals_P14 = Deff_vals_P14.reset_index(drop=True)\n",
    "\n",
    "Deff_vals_P21 = pd.DataFrame()\n",
    "\n",
    "for file in file_list[15:30]:\n",
    "    temp = pd.read_csv(path+'{}_Deff.csv'.format(file))\n",
    "    Deff_vals_P21 = pd.concat([Deff_vals_P21, temp], ignore_index=True)\n",
    "\n",
    "Deff_vals_P21.rename(columns={'0': \"Deff [um^2/s]\"}, inplace=True)\n",
    "Deff_vals_P21['Pore size [nm]'] = 2*((r_s+r_f)/((-4/math.pi*(np.log((Deff_vals_P21['Deff [um^2/s]'])*10/Do)))**(1/2))-r_f)\n",
    "Deff_vals_P21 = Deff_vals_P21.dropna()\n",
    "Deff_vals_P21 = Deff_vals_P21.reset_index(drop=True)\n",
    "\n",
    "Deff_vals_P28 = pd.DataFrame()\n",
    "\n",
    "for file in file_list[30:45]:\n",
    "    temp = pd.read_csv(path+'{}_Deff.csv'.format(file))\n",
    "    Deff_vals_P28 = pd.concat([Deff_vals_P28, temp], ignore_index=True)\n",
    "\n",
    "Deff_vals_P28.rename(columns={'0': \"Deff [um^2/s]\"}, inplace=True)\n",
    "Deff_vals_P28['Pore size [nm]'] = 2*((r_s+r_f)/((-4/math.pi*(np.log((Deff_vals_P28['Deff [um^2/s]'])*10/Do)))**(1/2))-r_f)\n",
    "Deff_vals_P28 = Deff_vals_P28.dropna()\n",
    "Deff_vals_P28 = Deff_vals_P28.reset_index(drop=True)\n",
    "\n",
    "Deff_vals_P35 = pd.DataFrame()\n",
    "\n",
    "for file in file_list[45:60]:\n",
    "    temp = pd.read_csv(path+'{}_Deff.csv'.format(file))\n",
    "    Deff_vals_P35 = pd.concat([Deff_vals_P35, temp], ignore_index=True)\n",
    "\n",
    "Deff_vals_P35.rename(columns={'0': \"Deff [um^2/s]\"}, inplace=True)\n",
    "Deff_vals_P35['Pore size [nm]'] = 2*((r_s+r_f)/((-4/math.pi*(np.log((Deff_vals_P35['Deff [um^2/s]'])*10/Do)))**(1/2))-r_f)\n",
    "Deff_vals_P35 = Deff_vals_P35.dropna()\n",
    "Deff_vals_P35 = Deff_vals_P35.reset_index(drop=True)"
   ]
  },
  {
   "cell_type": "code",
   "execution_count": null,
   "metadata": {},
   "outputs": [],
   "source": []
  },
  {
   "cell_type": "code",
   "execution_count": 10,
   "metadata": {},
   "outputs": [
    {
     "data": {
      "image/png": "[encoded data removed]",
      "text/plain": [
       "<Figure size 720x504 with 4 Axes>"
      ]
     },
     "metadata": {
      "needs_background": "light"
     },
     "output_type": "display_data"
    }
   ],
   "source": [
    "fig = plt.figure(figsize = (10,7))\n",
    "ax = fig.add_subplot(2,2,1)\n",
    "ax = Deff_vals_P14[\"Pore size [nm]\"].plot.hist(weights = np.ones_like(Deff_vals_P14.index) / len(Deff_vals_P14.index)*100, bins=[0,6,11,16,21,26,31,36,41,46,51,56,61], color='grey')\n",
    "#ax.xaxis.set_ticks(np.arange(0, 41, 5))\n",
    "#ax.yaxis.set_ticks(np.arange(0, 76, 10))\n",
    "ax.set_ylabel('% of pores')\n",
    "ax.set_xlabel('pore size [nm]')\n",
    "ax.set_title('P14')\n",
    "ax2 = fig.add_subplot(2,2,2)\n",
    "ax2 = Deff_vals_P21[\"Pore size [nm]\"].plot.hist(weights = np.ones_like(Deff_vals_P21.index) / len(Deff_vals_P21.index)*100, bins=[0,6,11,16,21,26,31,36,41,46,51,56,61], color='goldenrod')\n",
    "#ax2.xaxis.set_ticks(np.arange(0, 41, 5))\n",
    "#ax2.yaxis.set_ticks(np.arange(0, 76, 10))\n",
    "ax2.set_ylabel('% of pores')\n",
    "ax2.set_xlabel('pore size [nm]')\n",
    "ax2.set_title('P21')\n",
    "ax3 = fig.add_subplot(2,2,3)\n",
    "ax3 = Deff_vals_P28[\"Pore size [nm]\"].plot.hist(weights = np.ones_like(Deff_vals_P28.index) / len(Deff_vals_P28.index)*100, bins=[0,6,11,16,21,26,31,36,41,46,51,56,61], color='royalblue')\n",
    "#ax3.xaxis.set_ticks(np.arange(0, 41, 5))\n",
    "#ax3.yaxis.set_ticks(np.arange(0, 76, 10))\n",
    "ax3.set_ylabel('% of pores')\n",
    "ax3.set_xlabel('pore size [nm]')\n",
    "ax3.set_title('P28')\n",
    "ax4 = fig.add_subplot(2,2,4)\n",
    "ax4 = Deff_vals_P35[\"Pore size [nm]\"].plot.hist(weights = np.ones_like(Deff_vals_P35.index) / len(Deff_vals_P35.index)*100, bins=[0,6,11,16,21,26,31,36,41,46,51,56,61], color='purple')\n",
    "#ax4.xaxis.set_ticks(np.arange(0, 41, 5))\n",
    "#ax4.yaxis.set_ticks(np.arange(0, 76, 10))\n",
    "ax4.set_ylabel('% of pores')\n",
    "ax4.set_xlabel('pore size [nm]')\n",
    "ax4.set_title('P35')\n",
    "plt.tight_layout()"
   ]
  },
  {
   "cell_type": "code",
   "execution_count": 16,
   "metadata": {},
   "outputs": [
    {
     "name": "stdout",
     "output_type": "stream",
     "text": [
      "56.78000211957867 ,  25.07496940061418\n",
      "57.49652044280216 ,  22.791144086598635\n",
      "40.9641347256327 ,  21.90945835070198\n",
      "39.14085285484682 ,  20.814689590741608\n"
     ]
    }
   ],
   "source": [
    "print(max(Deff_vals_P14[\"Pore size [nm]\"]),', ',Deff_vals_P14[\"Pore size [nm]\"].mean())\n",
    "print(max(Deff_vals_P21[\"Pore size [nm]\"]),', ',Deff_vals_P21[\"Pore size [nm]\"].mean())\n",
    "print(max(Deff_vals_P28[\"Pore size [nm]\"]),', ',Deff_vals_P28[\"Pore size [nm]\"].mean())\n",
    "print(max(Deff_vals_P35[\"Pore size [nm]\"]),', ',Deff_vals_P35[\"Pore size [nm]\"].mean())"
   ]
  },
  {
   "cell_type": "code",
   "execution_count": 43,
   "metadata": {},
   "outputs": [
    {
     "data": {
      "image/png": "[encoded data removed]",
      "text/plain": [
       "<Figure size 720x504 with 4 Axes>"
      ]
     },
     "metadata": {
      "needs_background": "light"
     },
     "output_type": "display_data"
    }
   ],
   "source": [
    "fig = plt.figure(figsize = (10,7))\n",
    "ax = fig.add_subplot(2,2,1)\n",
    "ax = Deff_vals_P14[\"Pore size [nm]\"].plot.hist(weights = np.ones_like(Deff_vals_P14.index) / len(Deff_vals_P14.index)*100, bins=[0,6,11,16,21,26,31,36,41,46,51,56,61,66,71,76,81,86,91,96,101,106,111,116,121,126,151,176,201,226],color='grey')\n",
    "#ax.xaxis.set_ticks(np.arange(0, 101, 5))\n",
    "#ax.yaxis.set_ticks(np.arange(0, 61, 10))\n",
    "ax.set_ylabel('% of pores')\n",
    "ax.set_xlabel('pore size [nm]')\n",
    "ax.set_title('P14')\n",
    "ax2 = fig.add_subplot(2,2,2)\n",
    "ax2 = Deff_vals_P21[\"Pore size [nm]\"].plot.hist(weights = np.ones_like(Deff_vals_P21.index) / len(Deff_vals_P21.index)*100, bins=[0,6,11,16,21,26,31,36,41,46,51,56,61,66,71,76,81,86,91,96,101,106,111,116,121,126,151,176,201,226], color='goldenrod')\n",
    "#ax2.xaxis.set_ticks(np.arange(0, 101, 5))\n",
    "#ax2.yaxis.set_ticks(np.arange(0, 61, 10))\n",
    "ax2.set_ylabel('% of pores')\n",
    "ax2.set_xlabel('pore size [nm]')\n",
    "ax2.set_title('P21')\n",
    "ax3 = fig.add_subplot(2,2,3)\n",
    "ax3 = Deff_vals_P28[\"Pore size [nm]\"].plot.hist(weights = np.ones_like(Deff_vals_P28.index) / len(Deff_vals_P28.index)*100, bins=[0,6,11,16,21,26,31,36,41,46,51,56,61,66,71,76,81,86,91,96,101,106,111,116,121,126,151,176,201,226], color='royalblue')\n",
    "#ax3.xaxis.set_ticks(np.arange(0, 41, 5))\n",
    "#ax3.yaxis.set_ticks(np.arange(0, 101, 10))\n",
    "ax3.set_ylabel('% of pores')\n",
    "ax3.set_xlabel('pore size [nm]')\n",
    "ax3.set_title('P28')\n",
    "ax4 = fig.add_subplot(2,2,4)\n",
    "ax4 = Deff_vals_P35[\"Pore size [nm]\"].plot.hist(weights = np.ones_like(Deff_vals_P35.index) / len(Deff_vals_P35.index)*100, bins=[0,6,11,16,21,26,31,36,41,46,51,56,61,66,71,76,81,86,91,96,101,106,111,116,121,126,151,176,201,226], color='purple')\n",
    "#ax4.xaxis.set_ticks(np.arange(0, 41, 5))\n",
    "#ax4.yaxis.set_ticks(np.arange(0, 101, 10))\n",
    "ax4.set_ylabel('% of pores')\n",
    "ax4.set_xlabel('pore size [nm]')\n",
    "ax4.set_title('P35')\n",
    "plt.tight_layout()"
   ]
  },
  {
   "cell_type": "code",
   "execution_count": 44,
   "metadata": {},
   "outputs": [
    {
     "name": "stdout",
     "output_type": "stream",
     "text": [
      "15.624180075591136 , 2417.8156225338716 , 52.882381758122776\n",
      "13.383660510964516 , 5853.287253178988 , 40.28336886908672\n",
      "13.987433242327414 , 1915.3512346109671 , 36.87221680339161\n",
      "12.574157983165293 , 1149.5452145477193 , 31.695757388852698\n"
     ]
    }
   ],
   "source": [
    "print(min(Deff_vals_P14[\"Pore size [nm]\"]),',', max(Deff_vals_P14[\"Pore size [nm]\"]),',',Deff_vals_P14[\"Pore size [nm]\"].mean())\n",
    "print(min(Deff_vals_P21[\"Pore size [nm]\"]),',', max(Deff_vals_P21[\"Pore size [nm]\"]),',',Deff_vals_P21[\"Pore size [nm]\"].mean())\n",
    "print(min(Deff_vals_P28[\"Pore size [nm]\"]),',', max(Deff_vals_P28[\"Pore size [nm]\"]),',',Deff_vals_P28[\"Pore size [nm]\"].mean())\n",
    "print(min(Deff_vals_P35[\"Pore size [nm]\"]),',', max(Deff_vals_P35[\"Pore size [nm]\"]),',',Deff_vals_P35[\"Pore size [nm]\"].mean())"
   ]
  },
  {
   "cell_type": "code",
   "execution_count": null,
   "metadata": {},
   "outputs": [],
   "source": []
  },
  {
   "cell_type": "code",
   "execution_count": 60,
   "metadata": {},
   "outputs": [],
   "source": [
    "pro_50 = 0\n",
    "pro_100 = 0\n",
    "pro_200 = 0\n",
    "total = len(Deff_vals_P35)\n",
    "\n",
    "for traj in range(0,total):\n",
    "    if Deff_vals_P35['Pore size [nm]'][traj] >= 50:\n",
    "        pro_50 += 1\n",
    "        if Deff_vals_P35['Pore size [nm]'][traj] >= 100:\n",
    "            pro_100 += 1\n",
    "            if Deff_vals_P35['Pore size [nm]'][traj] >= 200:\n",
    "                pro_200 += 1\n",
    "\n",
    "                \n",
    "percent_50 = pro_50/total*100\n",
    "percent_100 = pro_100/total*100\n",
    "percent_200 = pro_200/total*100"
   ]
  },
  {
   "cell_type": "code",
   "execution_count": 61,
   "metadata": {},
   "outputs": [
    {
     "name": "stdout",
     "output_type": "stream",
     "text": [
      "4.856957087126138\n",
      "0.5201560468140443\n",
      "0.10403120936280884\n"
     ]
    }
   ],
   "source": [
    "print(percent_50)\n",
    "print(percent_100)\n",
    "print(percent_200)"
   ]
  },
  {
   "cell_type": "code",
   "execution_count": null,
   "metadata": {},
   "outputs": [],
   "source": []
  },
  {
   "cell_type": "code",
   "execution_count": null,
   "metadata": {},
   "outputs": [],
   "source": []
  },
  {
   "cell_type": "code",
   "execution_count": null,
   "metadata": {},
   "outputs": [],
   "source": []
  }
 ],
 "metadata": {
  "kernelspec": {
   "display_name": "Python 3",
   "language": "python",
   "name": "python3"
  },
  "language_info": {
   "codemirror_mode": {
    "name": "ipython",
    "version": 3
   },
   "file_extension": ".py",
   "mimetype": "text/x-python",
   "name": "python",
   "nbconvert_exporter": "python",
   "pygments_lexer": "ipython3",
   "version": "3.7.4"
  }
 },
 "nbformat": 4,
 "nbformat_minor": 2
}
