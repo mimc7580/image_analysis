{
 "cells": [
  {
   "cell_type": "code",
   "execution_count": 2,
   "metadata": {},
   "outputs": [],
   "source": [
    "import os\n",
    "import os.path as op\n",
    "import numpy as np\n",
    "import math\n",
    "import pandas as pd\n",
    "import matplotlib.pyplot as plt\n",
    "import numpy.ma as ma\n",
    "from scipy import stats"
   ]
  },
  {
   "cell_type": "code",
   "execution_count": 3,
   "metadata": {},
   "outputs": [],
   "source": [
    "file_list = [] # This is going to be the list of all filenames that will be included in the analysis\n",
    "\n",
    "path = './OSM_Data/' # The folder where the Deff csv files are located\n",
    "\n",
    "ages = ['P14', 'P21', 'P28', 'P35']\n",
    "slices = 3\n",
    "vids = 5\n",
    "\n",
    "for age in ages:\n",
    "    for slic in range(1, slices+1):\n",
    "        for vid in range(1, vids+1):\n",
    "            file_list.append('{}_40nm_s{}_v{}'.format(age, slic, vid))"
   ]
  },
  {
   "cell_type": "code",
   "execution_count": 4,
   "metadata": {},
   "outputs": [
    {
     "data": {
      "text/plain": [
       "['P14_40nm_s1_v1',\n",
       " 'P14_40nm_s1_v2',\n",
       " 'P14_40nm_s1_v3',\n",
       " 'P14_40nm_s1_v4',\n",
       " 'P14_40nm_s1_v5',\n",
       " 'P14_40nm_s2_v1',\n",
       " 'P14_40nm_s2_v2',\n",
       " 'P14_40nm_s2_v3',\n",
       " 'P14_40nm_s2_v4',\n",
       " 'P14_40nm_s2_v5',\n",
       " 'P14_40nm_s3_v1',\n",
       " 'P14_40nm_s3_v2',\n",
       " 'P14_40nm_s3_v3',\n",
       " 'P14_40nm_s3_v4',\n",
       " 'P14_40nm_s3_v5',\n",
       " 'P21_40nm_s1_v1',\n",
       " 'P21_40nm_s1_v2',\n",
       " 'P21_40nm_s1_v3',\n",
       " 'P21_40nm_s1_v4',\n",
       " 'P21_40nm_s1_v5',\n",
       " 'P21_40nm_s2_v1',\n",
       " 'P21_40nm_s2_v2',\n",
       " 'P21_40nm_s2_v3',\n",
       " 'P21_40nm_s2_v4',\n",
       " 'P21_40nm_s2_v5',\n",
       " 'P21_40nm_s3_v1',\n",
       " 'P21_40nm_s3_v2',\n",
       " 'P21_40nm_s3_v3',\n",
       " 'P21_40nm_s3_v4',\n",
       " 'P21_40nm_s3_v5',\n",
       " 'P28_40nm_s1_v1',\n",
       " 'P28_40nm_s1_v2',\n",
       " 'P28_40nm_s1_v3',\n",
       " 'P28_40nm_s1_v4',\n",
       " 'P28_40nm_s1_v5',\n",
       " 'P28_40nm_s2_v1',\n",
       " 'P28_40nm_s2_v2',\n",
       " 'P28_40nm_s2_v3',\n",
       " 'P28_40nm_s2_v4',\n",
       " 'P28_40nm_s2_v5',\n",
       " 'P28_40nm_s3_v1',\n",
       " 'P28_40nm_s3_v2',\n",
       " 'P28_40nm_s3_v3',\n",
       " 'P28_40nm_s3_v4',\n",
       " 'P28_40nm_s3_v5',\n",
       " 'P35_40nm_s1_v1',\n",
       " 'P35_40nm_s1_v2',\n",
       " 'P35_40nm_s1_v3',\n",
       " 'P35_40nm_s1_v4',\n",
       " 'P35_40nm_s1_v5',\n",
       " 'P35_40nm_s2_v1',\n",
       " 'P35_40nm_s2_v2',\n",
       " 'P35_40nm_s2_v3',\n",
       " 'P35_40nm_s2_v4',\n",
       " 'P35_40nm_s2_v5',\n",
       " 'P35_40nm_s3_v1',\n",
       " 'P35_40nm_s3_v2',\n",
       " 'P35_40nm_s3_v3',\n",
       " 'P35_40nm_s3_v4',\n",
       " 'P35_40nm_s3_v5']"
      ]
     },
     "execution_count": 4,
     "metadata": {},
     "output_type": "execute_result"
    }
   ],
   "source": [
    "file_list"
   ]
  },
  {
   "cell_type": "code",
   "execution_count": 53,
   "metadata": {},
   "outputs": [
    {
     "name": "stdout",
     "output_type": "stream",
     "text": [
      "8.25846094056375\n"
     ]
    }
   ],
   "source": [
    "# Assigning variables\n",
    "k = 1.3806503e-23 # m^2 kg s^-2 K\n",
    "#T = 310.15 # K\n",
    "T = 293.15 # K\n",
    "mu = 0.001 # kg m^-1 s^-1\n",
    "\n",
    "r_s = 26 # nm\n",
    "r_f = 0.3 # nm\n",
    "\n",
    "Do = k*T/(6*math.pi*mu*r_s*1e-9)*1e12 # um^2/s\n",
    "print(Do)"
   ]
  },
  {
   "cell_type": "markdown",
   "metadata": {},
   "source": [
    "## Eventually consolidate the following cells"
   ]
  },
  {
   "cell_type": "code",
   "execution_count": 54,
   "metadata": {},
   "outputs": [
    {
     "data": {
      "text/html": [
       "<div>\n",
       "<style scoped>\n",
       "    .dataframe tbody tr th:only-of-type {\n",
       "        vertical-align: middle;\n",
       "    }\n",
       "\n",
       "    .dataframe tbody tr th {\n",
       "        vertical-align: top;\n",
       "    }\n",
       "\n",
       "    .dataframe thead th {\n",
       "        text-align: right;\n",
       "    }\n",
       "</style>\n",
       "<table border=\"1\" class=\"dataframe\">\n",
       "  <thead>\n",
       "    <tr style=\"text-align: right;\">\n",
       "      <th></th>\n",
       "      <th>Deff [um^2/s]</th>\n",
       "    </tr>\n",
       "  </thead>\n",
       "  <tbody>\n",
       "    <tr>\n",
       "      <td>0</td>\n",
       "      <td>0.221772</td>\n",
       "    </tr>\n",
       "    <tr>\n",
       "      <td>1</td>\n",
       "      <td>1.566248</td>\n",
       "    </tr>\n",
       "    <tr>\n",
       "      <td>2</td>\n",
       "      <td>1.181238</td>\n",
       "    </tr>\n",
       "    <tr>\n",
       "      <td>3</td>\n",
       "      <td>0.077783</td>\n",
       "    </tr>\n",
       "    <tr>\n",
       "      <td>4</td>\n",
       "      <td>0.139892</td>\n",
       "    </tr>\n",
       "  </tbody>\n",
       "</table>\n",
       "</div>"
      ],
      "text/plain": [
       "   Deff [um^2/s]\n",
       "0       0.221772\n",
       "1       1.566248\n",
       "2       1.181238\n",
       "3       0.077783\n",
       "4       0.139892"
      ]
     },
     "execution_count": 54,
     "metadata": {},
     "output_type": "execute_result"
    }
   ],
   "source": [
    "Deff_vals = pd.read_csv(path+'{}_Deff.csv'.format(file_list[1]))\n",
    "Deff_vals = Deff_vals.rename(columns={'0': 'Deff [um^2/s]'})\n",
    "Deff_vals[0:5]"
   ]
  },
  {
   "cell_type": "code",
   "execution_count": 59,
   "metadata": {},
   "outputs": [
    {
     "data": {
      "image/png": "[encoded data removed]",
      "text/plain": [
       "<Figure size 432x288 with 1 Axes>"
      ]
     },
     "metadata": {
      "needs_background": "light"
     },
     "output_type": "display_data"
    }
   ],
   "source": [
    "Deff_vals['Pore size [nm]'] = (r_s+r_f)/((-4/math.pi*(np.log(Deff_vals['Deff [um^2/s]']/Do)))**(1/2))-r_f\n",
    "hist = Deff_vals.hist(column='Pore size [nm]', bins=15)"
   ]
  },
  {
   "cell_type": "code",
   "execution_count": null,
   "metadata": {},
   "outputs": [],
   "source": []
  },
  {
   "cell_type": "code",
   "execution_count": null,
   "metadata": {},
   "outputs": [],
   "source": []
  },
  {
   "cell_type": "code",
   "execution_count": null,
   "metadata": {},
   "outputs": [],
   "source": []
  },
  {
   "cell_type": "code",
   "execution_count": null,
   "metadata": {},
   "outputs": [],
   "source": []
  },
  {
   "cell_type": "code",
   "execution_count": null,
   "metadata": {},
   "outputs": [],
   "source": []
  },
  {
   "cell_type": "code",
   "execution_count": null,
   "metadata": {},
   "outputs": [],
   "source": []
  },
  {
   "cell_type": "code",
   "execution_count": null,
   "metadata": {},
   "outputs": [],
   "source": []
  },
  {
   "cell_type": "code",
   "execution_count": null,
   "metadata": {},
   "outputs": [],
   "source": []
  }
 ],
 "metadata": {
  "kernelspec": {
   "display_name": "Python 3",
   "language": "python",
   "name": "python3"
  },
  "language_info": {
   "codemirror_mode": {
    "name": "ipython",
    "version": 3
   },
   "file_extension": ".py",
   "mimetype": "text/x-python",
   "name": "python",
   "nbconvert_exporter": "python",
   "pygments_lexer": "ipython3",
   "version": "3.7.4"
  }
 },
 "nbformat": 4,
 "nbformat_minor": 2
}
