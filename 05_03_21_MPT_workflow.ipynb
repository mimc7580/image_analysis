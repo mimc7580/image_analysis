{
 "cells": [
  {
   "cell_type": "code",
   "execution_count": 14,
   "metadata": {},
   "outputs": [],
   "source": [
    "import os\n",
    "import sys\n",
    "import subprocess\n",
    "import tempfile\n",
    "import random\n",
    "from itertools import compress\n",
    "import os.path as op\n",
    "import numpy as np\n",
    "import skimage.io as sio\n",
    "\n",
    "from sklearn import linear_model\n",
    "from sklearn import svm"
   ]
  },
  {
   "cell_type": "code",
   "execution_count": 15,
   "metadata": {},
   "outputs": [],
   "source": [
    "tiffname = \"P10_1DIV_40nm_cortex_slice_1_vid_2.tif\""
   ]
  },
  {
   "cell_type": "code",
   "execution_count": 16,
   "metadata": {},
   "outputs": [],
   "source": [
    "test = sio.imread(tiffname)"
   ]
  },
  {
   "cell_type": "code",
   "execution_count": 17,
   "metadata": {},
   "outputs": [],
   "source": [
    "oshape = test.shape"
   ]
  },
  {
   "cell_type": "code",
   "execution_count": 18,
   "metadata": {},
   "outputs": [
    {
     "data": {
      "text/plain": [
       "(651, 2044, 2048)"
      ]
     },
     "execution_count": 18,
     "metadata": {},
     "output_type": "execute_result"
    }
   ],
   "source": [
    "oshape"
   ]
  },
  {
   "cell_type": "code",
   "execution_count": 19,
   "metadata": {},
   "outputs": [
    {
     "name": "stderr",
     "output_type": "stream",
     "text": [
      "/Users/mikemckenna/anaconda3/envs/image_analysis/lib/python3.7/site-packages/skimage/io/_io.py:141: UserWarning: P10_1DIV_40nm_cortex_slice_1_vid_2_0_0.tif is a low contrast image\n",
      "  warn('%s is a low contrast image' % fname)\n",
      "/Users/mikemckenna/anaconda3/envs/image_analysis/lib/python3.7/site-packages/skimage/io/_io.py:141: UserWarning: P10_1DIV_40nm_cortex_slice_1_vid_2_0_1.tif is a low contrast image\n",
      "  warn('%s is a low contrast image' % fname)\n",
      "/Users/mikemckenna/anaconda3/envs/image_analysis/lib/python3.7/site-packages/skimage/io/_io.py:141: UserWarning: P10_1DIV_40nm_cortex_slice_1_vid_2_0_2.tif is a low contrast image\n",
      "  warn('%s is a low contrast image' % fname)\n",
      "/Users/mikemckenna/anaconda3/envs/image_analysis/lib/python3.7/site-packages/skimage/io/_io.py:141: UserWarning: P10_1DIV_40nm_cortex_slice_1_vid_2_0_3.tif is a low contrast image\n",
      "  warn('%s is a low contrast image' % fname)\n",
      "/Users/mikemckenna/anaconda3/envs/image_analysis/lib/python3.7/site-packages/skimage/io/_io.py:141: UserWarning: P10_1DIV_40nm_cortex_slice_1_vid_2_0_4.tif is a low contrast image\n",
      "  warn('%s is a low contrast image' % fname)\n",
      "/Users/mikemckenna/anaconda3/envs/image_analysis/lib/python3.7/site-packages/skimage/io/_io.py:141: UserWarning: P10_1DIV_40nm_cortex_slice_1_vid_2_0_5.tif is a low contrast image\n",
      "  warn('%s is a low contrast image' % fname)\n",
      "/Users/mikemckenna/anaconda3/envs/image_analysis/lib/python3.7/site-packages/skimage/io/_io.py:141: UserWarning: P10_1DIV_40nm_cortex_slice_1_vid_2_0_6.tif is a low contrast image\n",
      "  warn('%s is a low contrast image' % fname)\n",
      "/Users/mikemckenna/anaconda3/envs/image_analysis/lib/python3.7/site-packages/skimage/io/_io.py:141: UserWarning: P10_1DIV_40nm_cortex_slice_1_vid_2_0_7.tif is a low contrast image\n",
      "  warn('%s is a low contrast image' % fname)\n",
      "/Users/mikemckenna/anaconda3/envs/image_analysis/lib/python3.7/site-packages/skimage/io/_io.py:141: UserWarning: P10_1DIV_40nm_cortex_slice_1_vid_2_1_0.tif is a low contrast image\n",
      "  warn('%s is a low contrast image' % fname)\n",
      "/Users/mikemckenna/anaconda3/envs/image_analysis/lib/python3.7/site-packages/skimage/io/_io.py:141: UserWarning: P10_1DIV_40nm_cortex_slice_1_vid_2_1_1.tif is a low contrast image\n",
      "  warn('%s is a low contrast image' % fname)\n",
      "/Users/mikemckenna/anaconda3/envs/image_analysis/lib/python3.7/site-packages/skimage/io/_io.py:141: UserWarning: P10_1DIV_40nm_cortex_slice_1_vid_2_1_2.tif is a low contrast image\n",
      "  warn('%s is a low contrast image' % fname)\n",
      "/Users/mikemckenna/anaconda3/envs/image_analysis/lib/python3.7/site-packages/skimage/io/_io.py:141: UserWarning: P10_1DIV_40nm_cortex_slice_1_vid_2_1_3.tif is a low contrast image\n",
      "  warn('%s is a low contrast image' % fname)\n",
      "/Users/mikemckenna/anaconda3/envs/image_analysis/lib/python3.7/site-packages/skimage/io/_io.py:141: UserWarning: P10_1DIV_40nm_cortex_slice_1_vid_2_1_4.tif is a low contrast image\n",
      "  warn('%s is a low contrast image' % fname)\n",
      "/Users/mikemckenna/anaconda3/envs/image_analysis/lib/python3.7/site-packages/skimage/io/_io.py:141: UserWarning: P10_1DIV_40nm_cortex_slice_1_vid_2_1_5.tif is a low contrast image\n",
      "  warn('%s is a low contrast image' % fname)\n",
      "/Users/mikemckenna/anaconda3/envs/image_analysis/lib/python3.7/site-packages/skimage/io/_io.py:141: UserWarning: P10_1DIV_40nm_cortex_slice_1_vid_2_1_6.tif is a low contrast image\n",
      "  warn('%s is a low contrast image' % fname)\n",
      "/Users/mikemckenna/anaconda3/envs/image_analysis/lib/python3.7/site-packages/skimage/io/_io.py:141: UserWarning: P10_1DIV_40nm_cortex_slice_1_vid_2_1_7.tif is a low contrast image\n",
      "  warn('%s is a low contrast image' % fname)\n",
      "/Users/mikemckenna/anaconda3/envs/image_analysis/lib/python3.7/site-packages/skimage/io/_io.py:141: UserWarning: P10_1DIV_40nm_cortex_slice_1_vid_2_2_0.tif is a low contrast image\n",
      "  warn('%s is a low contrast image' % fname)\n",
      "/Users/mikemckenna/anaconda3/envs/image_analysis/lib/python3.7/site-packages/skimage/io/_io.py:141: UserWarning: P10_1DIV_40nm_cortex_slice_1_vid_2_2_1.tif is a low contrast image\n",
      "  warn('%s is a low contrast image' % fname)\n",
      "/Users/mikemckenna/anaconda3/envs/image_analysis/lib/python3.7/site-packages/skimage/io/_io.py:141: UserWarning: P10_1DIV_40nm_cortex_slice_1_vid_2_2_2.tif is a low contrast image\n",
      "  warn('%s is a low contrast image' % fname)\n",
      "/Users/mikemckenna/anaconda3/envs/image_analysis/lib/python3.7/site-packages/skimage/io/_io.py:141: UserWarning: P10_1DIV_40nm_cortex_slice_1_vid_2_2_3.tif is a low contrast image\n",
      "  warn('%s is a low contrast image' % fname)\n",
      "/Users/mikemckenna/anaconda3/envs/image_analysis/lib/python3.7/site-packages/skimage/io/_io.py:141: UserWarning: P10_1DIV_40nm_cortex_slice_1_vid_2_2_4.tif is a low contrast image\n",
      "  warn('%s is a low contrast image' % fname)\n",
      "/Users/mikemckenna/anaconda3/envs/image_analysis/lib/python3.7/site-packages/skimage/io/_io.py:141: UserWarning: P10_1DIV_40nm_cortex_slice_1_vid_2_2_5.tif is a low contrast image\n",
      "  warn('%s is a low contrast image' % fname)\n",
      "/Users/mikemckenna/anaconda3/envs/image_analysis/lib/python3.7/site-packages/skimage/io/_io.py:141: UserWarning: P10_1DIV_40nm_cortex_slice_1_vid_2_2_6.tif is a low contrast image\n",
      "  warn('%s is a low contrast image' % fname)\n",
      "/Users/mikemckenna/anaconda3/envs/image_analysis/lib/python3.7/site-packages/skimage/io/_io.py:141: UserWarning: P10_1DIV_40nm_cortex_slice_1_vid_2_2_7.tif is a low contrast image\n",
      "  warn('%s is a low contrast image' % fname)\n",
      "/Users/mikemckenna/anaconda3/envs/image_analysis/lib/python3.7/site-packages/skimage/io/_io.py:141: UserWarning: P10_1DIV_40nm_cortex_slice_1_vid_2_3_0.tif is a low contrast image\n",
      "  warn('%s is a low contrast image' % fname)\n",
      "/Users/mikemckenna/anaconda3/envs/image_analysis/lib/python3.7/site-packages/skimage/io/_io.py:141: UserWarning: P10_1DIV_40nm_cortex_slice_1_vid_2_3_1.tif is a low contrast image\n",
      "  warn('%s is a low contrast image' % fname)\n",
      "/Users/mikemckenna/anaconda3/envs/image_analysis/lib/python3.7/site-packages/skimage/io/_io.py:141: UserWarning: P10_1DIV_40nm_cortex_slice_1_vid_2_3_2.tif is a low contrast image\n",
      "  warn('%s is a low contrast image' % fname)\n",
      "/Users/mikemckenna/anaconda3/envs/image_analysis/lib/python3.7/site-packages/skimage/io/_io.py:141: UserWarning: P10_1DIV_40nm_cortex_slice_1_vid_2_3_3.tif is a low contrast image\n",
      "  warn('%s is a low contrast image' % fname)\n",
      "/Users/mikemckenna/anaconda3/envs/image_analysis/lib/python3.7/site-packages/skimage/io/_io.py:141: UserWarning: P10_1DIV_40nm_cortex_slice_1_vid_2_3_4.tif is a low contrast image\n",
      "  warn('%s is a low contrast image' % fname)\n",
      "/Users/mikemckenna/anaconda3/envs/image_analysis/lib/python3.7/site-packages/skimage/io/_io.py:141: UserWarning: P10_1DIV_40nm_cortex_slice_1_vid_2_3_5.tif is a low contrast image\n",
      "  warn('%s is a low contrast image' % fname)\n",
      "/Users/mikemckenna/anaconda3/envs/image_analysis/lib/python3.7/site-packages/skimage/io/_io.py:141: UserWarning: P10_1DIV_40nm_cortex_slice_1_vid_2_3_6.tif is a low contrast image\n",
      "  warn('%s is a low contrast image' % fname)\n",
      "/Users/mikemckenna/anaconda3/envs/image_analysis/lib/python3.7/site-packages/skimage/io/_io.py:141: UserWarning: P10_1DIV_40nm_cortex_slice_1_vid_2_3_7.tif is a low contrast image\n",
      "  warn('%s is a low contrast image' % fname)\n",
      "/Users/mikemckenna/anaconda3/envs/image_analysis/lib/python3.7/site-packages/skimage/io/_io.py:141: UserWarning: P10_1DIV_40nm_cortex_slice_1_vid_2_4_0.tif is a low contrast image\n",
      "  warn('%s is a low contrast image' % fname)\n",
      "/Users/mikemckenna/anaconda3/envs/image_analysis/lib/python3.7/site-packages/skimage/io/_io.py:141: UserWarning: P10_1DIV_40nm_cortex_slice_1_vid_2_4_1.tif is a low contrast image\n",
      "  warn('%s is a low contrast image' % fname)\n",
      "/Users/mikemckenna/anaconda3/envs/image_analysis/lib/python3.7/site-packages/skimage/io/_io.py:141: UserWarning: P10_1DIV_40nm_cortex_slice_1_vid_2_4_2.tif is a low contrast image\n",
      "  warn('%s is a low contrast image' % fname)\n",
      "/Users/mikemckenna/anaconda3/envs/image_analysis/lib/python3.7/site-packages/skimage/io/_io.py:141: UserWarning: P10_1DIV_40nm_cortex_slice_1_vid_2_4_3.tif is a low contrast image\n",
      "  warn('%s is a low contrast image' % fname)\n",
      "/Users/mikemckenna/anaconda3/envs/image_analysis/lib/python3.7/site-packages/skimage/io/_io.py:141: UserWarning: P10_1DIV_40nm_cortex_slice_1_vid_2_4_4.tif is a low contrast image\n",
      "  warn('%s is a low contrast image' % fname)\n"
     ]
    },
    {
     "name": "stderr",
     "output_type": "stream",
     "text": [
      "/Users/mikemckenna/anaconda3/envs/image_analysis/lib/python3.7/site-packages/skimage/io/_io.py:141: UserWarning: P10_1DIV_40nm_cortex_slice_1_vid_2_4_5.tif is a low contrast image\n",
      "  warn('%s is a low contrast image' % fname)\n",
      "/Users/mikemckenna/anaconda3/envs/image_analysis/lib/python3.7/site-packages/skimage/io/_io.py:141: UserWarning: P10_1DIV_40nm_cortex_slice_1_vid_2_4_6.tif is a low contrast image\n",
      "  warn('%s is a low contrast image' % fname)\n",
      "/Users/mikemckenna/anaconda3/envs/image_analysis/lib/python3.7/site-packages/skimage/io/_io.py:141: UserWarning: P10_1DIV_40nm_cortex_slice_1_vid_2_4_7.tif is a low contrast image\n",
      "  warn('%s is a low contrast image' % fname)\n",
      "/Users/mikemckenna/anaconda3/envs/image_analysis/lib/python3.7/site-packages/skimage/io/_io.py:141: UserWarning: P10_1DIV_40nm_cortex_slice_1_vid_2_5_0.tif is a low contrast image\n",
      "  warn('%s is a low contrast image' % fname)\n",
      "/Users/mikemckenna/anaconda3/envs/image_analysis/lib/python3.7/site-packages/skimage/io/_io.py:141: UserWarning: P10_1DIV_40nm_cortex_slice_1_vid_2_5_1.tif is a low contrast image\n",
      "  warn('%s is a low contrast image' % fname)\n",
      "/Users/mikemckenna/anaconda3/envs/image_analysis/lib/python3.7/site-packages/skimage/io/_io.py:141: UserWarning: P10_1DIV_40nm_cortex_slice_1_vid_2_5_2.tif is a low contrast image\n",
      "  warn('%s is a low contrast image' % fname)\n",
      "/Users/mikemckenna/anaconda3/envs/image_analysis/lib/python3.7/site-packages/skimage/io/_io.py:141: UserWarning: P10_1DIV_40nm_cortex_slice_1_vid_2_5_3.tif is a low contrast image\n",
      "  warn('%s is a low contrast image' % fname)\n",
      "/Users/mikemckenna/anaconda3/envs/image_analysis/lib/python3.7/site-packages/skimage/io/_io.py:141: UserWarning: P10_1DIV_40nm_cortex_slice_1_vid_2_5_4.tif is a low contrast image\n",
      "  warn('%s is a low contrast image' % fname)\n",
      "/Users/mikemckenna/anaconda3/envs/image_analysis/lib/python3.7/site-packages/skimage/io/_io.py:141: UserWarning: P10_1DIV_40nm_cortex_slice_1_vid_2_5_5.tif is a low contrast image\n",
      "  warn('%s is a low contrast image' % fname)\n",
      "/Users/mikemckenna/anaconda3/envs/image_analysis/lib/python3.7/site-packages/skimage/io/_io.py:141: UserWarning: P10_1DIV_40nm_cortex_slice_1_vid_2_5_6.tif is a low contrast image\n",
      "  warn('%s is a low contrast image' % fname)\n",
      "/Users/mikemckenna/anaconda3/envs/image_analysis/lib/python3.7/site-packages/skimage/io/_io.py:141: UserWarning: P10_1DIV_40nm_cortex_slice_1_vid_2_5_7.tif is a low contrast image\n",
      "  warn('%s is a low contrast image' % fname)\n",
      "/Users/mikemckenna/anaconda3/envs/image_analysis/lib/python3.7/site-packages/skimage/io/_io.py:141: UserWarning: P10_1DIV_40nm_cortex_slice_1_vid_2_6_0.tif is a low contrast image\n",
      "  warn('%s is a low contrast image' % fname)\n",
      "/Users/mikemckenna/anaconda3/envs/image_analysis/lib/python3.7/site-packages/skimage/io/_io.py:141: UserWarning: P10_1DIV_40nm_cortex_slice_1_vid_2_6_1.tif is a low contrast image\n",
      "  warn('%s is a low contrast image' % fname)\n",
      "/Users/mikemckenna/anaconda3/envs/image_analysis/lib/python3.7/site-packages/skimage/io/_io.py:141: UserWarning: P10_1DIV_40nm_cortex_slice_1_vid_2_6_2.tif is a low contrast image\n",
      "  warn('%s is a low contrast image' % fname)\n",
      "/Users/mikemckenna/anaconda3/envs/image_analysis/lib/python3.7/site-packages/skimage/io/_io.py:141: UserWarning: P10_1DIV_40nm_cortex_slice_1_vid_2_6_3.tif is a low contrast image\n",
      "  warn('%s is a low contrast image' % fname)\n",
      "/Users/mikemckenna/anaconda3/envs/image_analysis/lib/python3.7/site-packages/skimage/io/_io.py:141: UserWarning: P10_1DIV_40nm_cortex_slice_1_vid_2_6_4.tif is a low contrast image\n",
      "  warn('%s is a low contrast image' % fname)\n",
      "/Users/mikemckenna/anaconda3/envs/image_analysis/lib/python3.7/site-packages/skimage/io/_io.py:141: UserWarning: P10_1DIV_40nm_cortex_slice_1_vid_2_6_5.tif is a low contrast image\n",
      "  warn('%s is a low contrast image' % fname)\n",
      "/Users/mikemckenna/anaconda3/envs/image_analysis/lib/python3.7/site-packages/skimage/io/_io.py:141: UserWarning: P10_1DIV_40nm_cortex_slice_1_vid_2_6_6.tif is a low contrast image\n",
      "  warn('%s is a low contrast image' % fname)\n",
      "/Users/mikemckenna/anaconda3/envs/image_analysis/lib/python3.7/site-packages/skimage/io/_io.py:141: UserWarning: P10_1DIV_40nm_cortex_slice_1_vid_2_6_7.tif is a low contrast image\n",
      "  warn('%s is a low contrast image' % fname)\n",
      "/Users/mikemckenna/anaconda3/envs/image_analysis/lib/python3.7/site-packages/skimage/io/_io.py:141: UserWarning: P10_1DIV_40nm_cortex_slice_1_vid_2_7_0.tif is a low contrast image\n",
      "  warn('%s is a low contrast image' % fname)\n",
      "/Users/mikemckenna/anaconda3/envs/image_analysis/lib/python3.7/site-packages/skimage/io/_io.py:141: UserWarning: P10_1DIV_40nm_cortex_slice_1_vid_2_7_1.tif is a low contrast image\n",
      "  warn('%s is a low contrast image' % fname)\n",
      "/Users/mikemckenna/anaconda3/envs/image_analysis/lib/python3.7/site-packages/skimage/io/_io.py:141: UserWarning: P10_1DIV_40nm_cortex_slice_1_vid_2_7_2.tif is a low contrast image\n",
      "  warn('%s is a low contrast image' % fname)\n",
      "/Users/mikemckenna/anaconda3/envs/image_analysis/lib/python3.7/site-packages/skimage/io/_io.py:141: UserWarning: P10_1DIV_40nm_cortex_slice_1_vid_2_7_3.tif is a low contrast image\n",
      "  warn('%s is a low contrast image' % fname)\n",
      "/Users/mikemckenna/anaconda3/envs/image_analysis/lib/python3.7/site-packages/skimage/io/_io.py:141: UserWarning: P10_1DIV_40nm_cortex_slice_1_vid_2_7_4.tif is a low contrast image\n",
      "  warn('%s is a low contrast image' % fname)\n",
      "/Users/mikemckenna/anaconda3/envs/image_analysis/lib/python3.7/site-packages/skimage/io/_io.py:141: UserWarning: P10_1DIV_40nm_cortex_slice_1_vid_2_7_5.tif is a low contrast image\n",
      "  warn('%s is a low contrast image' % fname)\n",
      "/Users/mikemckenna/anaconda3/envs/image_analysis/lib/python3.7/site-packages/skimage/io/_io.py:141: UserWarning: P10_1DIV_40nm_cortex_slice_1_vid_2_7_6.tif is a low contrast image\n",
      "  warn('%s is a low contrast image' % fname)\n",
      "/Users/mikemckenna/anaconda3/envs/image_analysis/lib/python3.7/site-packages/skimage/io/_io.py:141: UserWarning: P10_1DIV_40nm_cortex_slice_1_vid_2_7_7.tif is a low contrast image\n",
      "  warn('%s is a low contrast image' % fname)\n"
     ]
    }
   ],
   "source": [
    "test2 = np.zeros((oshape[0], 2048, 2048), dtype=test.dtype)\n",
    "test2[0:oshape[0], 0:oshape[1], :] = test\n",
    "\n",
    "new_image = np.zeros((oshape[0], 256, 256), dtype=test.dtype)\n",
    "names = []\n",
    "\n",
    "for row in range(8):\n",
    "    for col in range(8):\n",
    "        new_image = test2[:, row*256:(row+1)*256, col*256:(col+1)*256]\n",
    "        current = tiffname.split('.tif')[0] + '_%s_%s.tif' % (row, col)\n",
    "        sio.imsave(current, new_image)\n",
    "        names.append(current)"
   ]
  },
  {
   "cell_type": "code",
   "execution_count": null,
   "metadata": {},
   "outputs": [],
   "source": []
  },
  {
   "cell_type": "code",
   "execution_count": null,
   "metadata": {},
   "outputs": [],
   "source": []
  },
  {
   "cell_type": "code",
   "execution_count": null,
   "metadata": {},
   "outputs": [],
   "source": []
  },
  {
   "cell_type": "code",
   "execution_count": null,
   "metadata": {},
   "outputs": [],
   "source": []
  },
  {
   "cell_type": "code",
   "execution_count": null,
   "metadata": {},
   "outputs": [],
   "source": []
  },
  {
   "cell_type": "code",
   "execution_count": null,
   "metadata": {},
   "outputs": [],
   "source": []
  }
 ],
 "metadata": {
  "kernelspec": {
   "display_name": "Python 3",
   "language": "python",
   "name": "python3"
  },
  "language_info": {
   "codemirror_mode": {
    "name": "ipython",
    "version": 3
   },
   "file_extension": ".py",
   "mimetype": "text/x-python",
   "name": "python",
   "nbconvert_exporter": "python",
   "pygments_lexer": "ipython3",
   "version": "3.7.4"
  }
 },
 "nbformat": 4,
 "nbformat_minor": 2
}
