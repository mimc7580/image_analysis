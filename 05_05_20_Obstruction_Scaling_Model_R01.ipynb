{
 "cells": [
  {
   "cell_type": "code",
   "execution_count": 1,
   "metadata": {},
   "outputs": [],
   "source": [
    "import os\n",
    "import os.path as op\n",
    "import numpy as np\n",
    "import math\n",
    "import pandas as pd\n",
    "import matplotlib.pyplot as plt\n",
    "import numpy.ma as ma\n",
    "from scipy import stats"
   ]
  },
  {
   "cell_type": "markdown",
   "metadata": {},
   "source": [
    "## R01 Data"
   ]
  },
  {
   "cell_type": "code",
   "execution_count": 25,
   "metadata": {},
   "outputs": [],
   "source": [
    "file_list = [] # This is going to be the list of all filenames that will be included in the analysis\n",
    "\n",
    "path = '~/Desktop/temp_storage/R01_MPT_Data/csvs/' # The folder where the Deff csv files are located\n",
    "\n",
    "treatments = ['NT', 'OGD', 'OGD_AZ']\n",
    "regions = ['ganglia', 'hippocampus', 'thalamus']\n",
    "slices = 2\n",
    "vids = 3\n",
    "\n",
    "for treat in treatments:\n",
    "    for slic in range(1, slices+1):\n",
    "        for reg in regions:\n",
    "            for vid in range(1, vids+1):\n",
    "                file_list.append('{}_slice_{}_{}_vid_{}'.format(treat, slic, reg, vid))"
   ]
  },
  {
   "cell_type": "code",
   "execution_count": 26,
   "metadata": {},
   "outputs": [
    {
     "data": {
      "text/plain": [
       "['NT_slice_1_ganglia_vid_1',\n",
       " 'NT_slice_1_ganglia_vid_2',\n",
       " 'NT_slice_1_ganglia_vid_3',\n",
       " 'NT_slice_1_hippocampus_vid_1',\n",
       " 'NT_slice_1_hippocampus_vid_2',\n",
       " 'NT_slice_1_hippocampus_vid_3',\n",
       " 'NT_slice_1_thalamus_vid_1',\n",
       " 'NT_slice_1_thalamus_vid_2',\n",
       " 'NT_slice_1_thalamus_vid_3',\n",
       " 'NT_slice_2_ganglia_vid_1',\n",
       " 'NT_slice_2_ganglia_vid_2',\n",
       " 'NT_slice_2_ganglia_vid_3',\n",
       " 'NT_slice_2_hippocampus_vid_1',\n",
       " 'NT_slice_2_hippocampus_vid_2',\n",
       " 'NT_slice_2_hippocampus_vid_3',\n",
       " 'NT_slice_2_thalamus_vid_1',\n",
       " 'NT_slice_2_thalamus_vid_2',\n",
       " 'NT_slice_2_thalamus_vid_3',\n",
       " 'OGD_slice_1_ganglia_vid_1',\n",
       " 'OGD_slice_1_ganglia_vid_2',\n",
       " 'OGD_slice_1_ganglia_vid_3',\n",
       " 'OGD_slice_1_hippocampus_vid_1',\n",
       " 'OGD_slice_1_hippocampus_vid_2',\n",
       " 'OGD_slice_1_hippocampus_vid_3',\n",
       " 'OGD_slice_1_thalamus_vid_1',\n",
       " 'OGD_slice_1_thalamus_vid_2',\n",
       " 'OGD_slice_1_thalamus_vid_3',\n",
       " 'OGD_slice_2_ganglia_vid_1',\n",
       " 'OGD_slice_2_ganglia_vid_2',\n",
       " 'OGD_slice_2_ganglia_vid_3',\n",
       " 'OGD_slice_2_hippocampus_vid_1',\n",
       " 'OGD_slice_2_hippocampus_vid_2',\n",
       " 'OGD_slice_2_hippocampus_vid_3',\n",
       " 'OGD_slice_2_thalamus_vid_1',\n",
       " 'OGD_slice_2_thalamus_vid_2',\n",
       " 'OGD_slice_2_thalamus_vid_3',\n",
       " 'OGD_AZ_slice_1_ganglia_vid_1',\n",
       " 'OGD_AZ_slice_1_ganglia_vid_2',\n",
       " 'OGD_AZ_slice_1_ganglia_vid_3',\n",
       " 'OGD_AZ_slice_1_hippocampus_vid_1',\n",
       " 'OGD_AZ_slice_1_hippocampus_vid_2',\n",
       " 'OGD_AZ_slice_1_hippocampus_vid_3',\n",
       " 'OGD_AZ_slice_1_thalamus_vid_1',\n",
       " 'OGD_AZ_slice_1_thalamus_vid_2',\n",
       " 'OGD_AZ_slice_1_thalamus_vid_3',\n",
       " 'OGD_AZ_slice_2_ganglia_vid_1',\n",
       " 'OGD_AZ_slice_2_ganglia_vid_2',\n",
       " 'OGD_AZ_slice_2_ganglia_vid_3',\n",
       " 'OGD_AZ_slice_2_hippocampus_vid_1',\n",
       " 'OGD_AZ_slice_2_hippocampus_vid_2',\n",
       " 'OGD_AZ_slice_2_hippocampus_vid_3',\n",
       " 'OGD_AZ_slice_2_thalamus_vid_1',\n",
       " 'OGD_AZ_slice_2_thalamus_vid_2',\n",
       " 'OGD_AZ_slice_2_thalamus_vid_3']"
      ]
     },
     "execution_count": 26,
     "metadata": {},
     "output_type": "execute_result"
    }
   ],
   "source": [
    "file_list"
   ]
  },
  {
   "cell_type": "code",
   "execution_count": 27,
   "metadata": {},
   "outputs": [
    {
     "name": "stdout",
     "output_type": "stream",
     "text": [
      "8.25846094056375\n"
     ]
    }
   ],
   "source": [
    "# Assigning variables\n",
    "k = 1.3806503e-23 # m^2 kg s^-2 K\n",
    "#T = 310.15 # K\n",
    "T = 293.15 # K\n",
    "mu = 0.001 # kg m^-1 s^-1\n",
    "\n",
    "r_s = 26 # nm\n",
    "r_f = 0.3 # nm\n",
    "\n",
    "Do = k*T/(6*math.pi*mu*r_s*1e-9)*1e12 # um^2/s\n",
    "print(Do)"
   ]
  },
  {
   "cell_type": "code",
   "execution_count": 5,
   "metadata": {},
   "outputs": [],
   "source": [
    "NT_ganglia_track = file_list[0:3] + file_list[9:12]\n",
    "NT_hippocampus_track = file_list[3:6]+file_list[12:15]\n",
    "NT_thalamus_track = file_list[6:9]+file_list[15:18]\n",
    "NT_track = NT_ganglia_track+NT_hippocampus_track+NT_thalamus_track\n",
    "OGD_ganglia_track = file_list[18:21] + file_list[27:30]\n",
    "OGD_hippocampus_track = file_list[21:24]+file_list[30:33]\n",
    "OGD_thalamus_track = file_list[24:27]+file_list[33:36]\n",
    "OGD_track = OGD_AZ_ganglia_track+OGD_AZ_hippocampus_track+OGD_AZ_thalamus_track\n",
    "OGD_AZ_ganglia_track = file_list[36:39] + file_list[45:48]\n",
    "OGD_AZ_hippocampus_track = file_list[39:42]+file_list[48:51]\n",
    "OGD_AZ_thalamus_track = file_list[42:45]+file_list[51:54]\n",
    "OGD_track = OGD_ganglia_track+OGD_hippocampus_track+OGD_thalamus_track"
   ]
  },
  {
   "cell_type": "code",
   "execution_count": 28,
   "metadata": {},
   "outputs": [
    {
     "data": {
      "text/plain": [
       "['OGD_slice_1_ganglia_vid_1',\n",
       " 'OGD_slice_1_ganglia_vid_2',\n",
       " 'OGD_slice_1_ganglia_vid_3',\n",
       " 'OGD_slice_2_ganglia_vid_1',\n",
       " 'OGD_slice_2_ganglia_vid_2',\n",
       " 'OGD_slice_2_ganglia_vid_3',\n",
       " 'OGD_slice_1_hippocampus_vid_1',\n",
       " 'OGD_slice_1_hippocampus_vid_2',\n",
       " 'OGD_slice_1_hippocampus_vid_3',\n",
       " 'OGD_slice_2_hippocampus_vid_1',\n",
       " 'OGD_slice_2_hippocampus_vid_2',\n",
       " 'OGD_slice_2_hippocampus_vid_3',\n",
       " 'OGD_slice_1_thalamus_vid_1',\n",
       " 'OGD_slice_1_thalamus_vid_2',\n",
       " 'OGD_slice_1_thalamus_vid_3',\n",
       " 'OGD_slice_2_thalamus_vid_1',\n",
       " 'OGD_slice_2_thalamus_vid_2',\n",
       " 'OGD_slice_2_thalamus_vid_3']"
      ]
     },
     "execution_count": 28,
     "metadata": {},
     "output_type": "execute_result"
    }
   ],
   "source": [
    "OGD_AZ_track"
   ]
  },
  {
   "cell_type": "code",
   "execution_count": 6,
   "metadata": {},
   "outputs": [],
   "source": [
    "Deff_vals_NT_ganglia = pd.DataFrame()\n",
    "\n",
    "for file in NT_ganglia_track:\n",
    "    temp = pd.read_csv(path+'{}_stats.csv'.format(file))\n",
    "    Deff_vals_NT_ganglia = pd.concat([Deff_vals_NT_ganglia, temp], ignore_index=True)\n",
    "\n",
    "Deff_vals_NT_ganglia.rename(columns={'0': \"Deff [um^2/s]\"}, inplace=True)\n",
    "Deff_vals_NT_ganglia['Pore size [nm]'] = 2*((r_s+r_f)/((-4/math.pi*(np.log((Deff_vals_NT_ganglia['Deff [um^2/s]'])/Do)))**(1/2))-r_f)\n",
    "Deff_vals_NT_ganglia = Deff_vals_NT_ganglia.dropna()\n",
    "Deff_vals_NT_ganglia = Deff_vals_NT_ganglia.reset_index(drop=True)\n",
    "\n",
    "Deff_vals_NT_hippocampus = pd.DataFrame()\n",
    "\n",
    "for file in NT_hippocampus_track:\n",
    "    temp = pd.read_csv(path+'{}_stats.csv'.format(file))\n",
    "    Deff_vals_NT_hippocampus = pd.concat([Deff_vals_NT_hippocampus, temp], ignore_index=True)\n",
    "\n",
    "Deff_vals_NT_hippocampus.rename(columns={'0': \"Deff [um^2/s]\"}, inplace=True)\n",
    "Deff_vals_NT_hippocampus['Pore size [nm]'] = 2*((r_s+r_f)/((-4/math.pi*(np.log((Deff_vals_NT_hippocampus['Deff [um^2/s]'])/Do)))**(1/2))-r_f)\n",
    "Deff_vals_NT_hippocampus = Deff_vals_NT_hippocampus.dropna()\n",
    "Deff_vals_NT_hippocampus = Deff_vals_NT_hippocampus.reset_index(drop=True)\n",
    "\n",
    "Deff_vals_NT_thalamus = pd.DataFrame()\n",
    "\n",
    "for file in NT_thalamus_track:\n",
    "    temp = pd.read_csv(path+'{}_stats.csv'.format(file))\n",
    "    Deff_vals_NT_thalamus = pd.concat([Deff_vals_NT_thalamus, temp], ignore_index=True)\n",
    "\n",
    "Deff_vals_NT_thalamus.rename(columns={'0': \"Deff [um^2/s]\"}, inplace=True)\n",
    "Deff_vals_NT_thalamus['Pore size [nm]'] = 2*((r_s+r_f)/((-4/math.pi*(np.log((Deff_vals_NT_thalamus['Deff [um^2/s]'])/Do)))**(1/2))-r_f)\n",
    "Deff_vals_NT_thalamus = Deff_vals_NT_thalamus.dropna()\n",
    "Deff_vals_NT_thalamus = Deff_vals_NT_thalamus.reset_index(drop=True)"
   ]
  },
  {
   "cell_type": "code",
   "execution_count": 7,
   "metadata": {},
   "outputs": [],
   "source": [
    "Deff_vals_OGD_ganglia = pd.DataFrame()\n",
    "\n",
    "for file in OGD_ganglia_track:\n",
    "    temp = pd.read_csv(path+'{}_stats.csv'.format(file))\n",
    "    Deff_vals_OGD_ganglia = pd.concat([Deff_vals_OGD_ganglia, temp], ignore_index=True)\n",
    "\n",
    "Deff_vals_OGD_ganglia.rename(columns={'0': \"Deff [um^2/s]\"}, inplace=True)\n",
    "Deff_vals_OGD_ganglia['Pore size [nm]'] = 2*((r_s+r_f)/((-4/math.pi*(np.log((Deff_vals_OGD_ganglia['Deff [um^2/s]'])/Do)))**(1/2))-r_f)\n",
    "Deff_vals_OGD_ganglia = Deff_vals_OGD_ganglia.dropna()\n",
    "Deff_vals_OGD_ganglia = Deff_vals_OGD_ganglia.reset_index(drop=True)\n",
    "\n",
    "Deff_vals_OGD_hippocampus = pd.DataFrame()\n",
    "\n",
    "for file in OGD_hippocampus_track:\n",
    "    temp = pd.read_csv(path+'{}_stats.csv'.format(file))\n",
    "    Deff_vals_OGD_hippocampus = pd.concat([Deff_vals_OGD_hippocampus, temp], ignore_index=True)\n",
    "\n",
    "Deff_vals_OGD_hippocampus.rename(columns={'0': \"Deff [um^2/s]\"}, inplace=True)\n",
    "Deff_vals_OGD_hippocampus['Pore size [nm]'] = 2*((r_s+r_f)/((-4/math.pi*(np.log((Deff_vals_OGD_hippocampus['Deff [um^2/s]'])/Do)))**(1/2))-r_f)\n",
    "Deff_vals_OGD_hippocampus = Deff_vals_OGD_hippocampus.dropna()\n",
    "Deff_vals_OGD_hippocampus = Deff_vals_OGD_hippocampus.reset_index(drop=True)\n",
    "\n",
    "Deff_vals_OGD_thalamus = pd.DataFrame()\n",
    "\n",
    "for file in OGD_thalamus_track:\n",
    "    temp = pd.read_csv(path+'{}_stats.csv'.format(file))\n",
    "    Deff_vals_OGD_thalamus = pd.concat([Deff_vals_OGD_thalamus, temp], ignore_index=True)\n",
    "\n",
    "Deff_vals_OGD_thalamus.rename(columns={'0': \"Deff [um^2/s]\"}, inplace=True)\n",
    "Deff_vals_OGD_thalamus['Pore size [nm]'] = 2*((r_s+r_f)/((-4/math.pi*(np.log((Deff_vals_OGD_thalamus['Deff [um^2/s]'])/Do)))**(1/2))-r_f)\n",
    "Deff_vals_OGD_thalamus = Deff_vals_OGD_thalamus.dropna()\n",
    "Deff_vals_OGD_thalamus = Deff_vals_OGD_thalamus.reset_index(drop=True)"
   ]
  },
  {
   "cell_type": "code",
   "execution_count": 8,
   "metadata": {},
   "outputs": [],
   "source": [
    "Deff_vals_OGD_AZ_ganglia = pd.DataFrame()\n",
    "\n",
    "for file in OGD_AZ_ganglia_track:\n",
    "    temp = pd.read_csv(path+'{}_stats.csv'.format(file))\n",
    "    Deff_vals_OGD_AZ_ganglia = pd.concat([Deff_vals_OGD_AZ_ganglia, temp], ignore_index=True)\n",
    "\n",
    "Deff_vals_OGD_AZ_ganglia.rename(columns={'0': \"Deff [um^2/s]\"}, inplace=True)\n",
    "Deff_vals_OGD_AZ_ganglia['Pore size [nm]'] = 2*((r_s+r_f)/((-4/math.pi*(np.log((Deff_vals_OGD_AZ_ganglia['Deff [um^2/s]'])/Do)))**(1/2))-r_f)\n",
    "Deff_vals_OGD_AZ_ganglia = Deff_vals_OGD_AZ_ganglia.dropna()\n",
    "Deff_vals_OGD_AZ_ganglia = Deff_vals_OGD_AZ_ganglia.reset_index(drop=True)\n",
    "\n",
    "Deff_vals_OGD_AZ_hippocampus = pd.DataFrame()\n",
    "\n",
    "for file in OGD_AZ_hippocampus_track:\n",
    "    temp = pd.read_csv(path+'{}_stats.csv'.format(file))\n",
    "    Deff_vals_OGD_AZ_hippocampus = pd.concat([Deff_vals_OGD_AZ_hippocampus, temp], ignore_index=True)\n",
    "\n",
    "Deff_vals_OGD_AZ_hippocampus.rename(columns={'0': \"Deff [um^2/s]\"}, inplace=True)\n",
    "Deff_vals_OGD_AZ_hippocampus['Pore size [nm]'] = 2*((r_s+r_f)/((-4/math.pi*(np.log((Deff_vals_OGD_AZ_hippocampus['Deff [um^2/s]'])/Do)))**(1/2))-r_f)\n",
    "Deff_vals_OGD_AZ_hippocampus = Deff_vals_OGD_AZ_hippocampus.dropna()\n",
    "Deff_vals_OGD_AZ_hippocampus = Deff_vals_OGD_AZ_hippocampus.reset_index(drop=True)\n",
    "\n",
    "Deff_vals_OGD_AZ_thalamus = pd.DataFrame()\n",
    "\n",
    "for file in OGD_AZ_thalamus_track:\n",
    "    temp = pd.read_csv(path+'{}_stats.csv'.format(file))\n",
    "    Deff_vals_OGD_AZ_thalamus = pd.concat([Deff_vals_OGD_AZ_thalamus, temp], ignore_index=True)\n",
    "\n",
    "Deff_vals_OGD_AZ_thalamus.rename(columns={'0': \"Deff [um^2/s]\"}, inplace=True)\n",
    "Deff_vals_OGD_AZ_thalamus['Pore size [nm]'] = 2*((r_s+r_f)/((-4/math.pi*(np.log((Deff_vals_OGD_AZ_thalamus['Deff [um^2/s]'])/Do)))**(1/2))-r_f)\n",
    "Deff_vals_OGD_AZ_thalamus = Deff_vals_OGD_AZ_thalamus.dropna()\n",
    "Deff_vals_OGD_AZ_thalamus = Deff_vals_OGD_AZ_thalamus.reset_index(drop=True)"
   ]
  },
  {
   "cell_type": "code",
   "execution_count": null,
   "metadata": {},
   "outputs": [],
   "source": []
  },
  {
   "cell_type": "code",
   "execution_count": 20,
   "metadata": {},
   "outputs": [
    {
     "data": {
      "image/png": "[encoded data removed]",
      "text/plain": [
       "<Figure size 432x864 with 3 Axes>"
      ]
     },
     "metadata": {
      "needs_background": "light"
     },
     "output_type": "display_data"
    }
   ],
   "source": [
    "fig = plt.figure(figsize = (6,12))\n",
    "ax = fig.add_subplot(3,1,1)\n",
    "ax = Deff_vals_NT_ganglia[\"Pore size [nm]\"].plot.hist(weights = np.ones_like(Deff_vals_NT_ganglia.index) / len(Deff_vals_NT_ganglia.index)*100, bins=[0,6,11,16,21,26,31,36,41,46,51,56,61,66,71,76,81,86,91,96,101,106,111,116,121,126,131,136,141,146,151,156,161,166,171,176,181],color='grey')\n",
    "#ax.xaxis.set_ticks(np.arange(0, 101, 5))\n",
    "ax.yaxis.set_ticks(np.arange(0, 51, 10))\n",
    "ax.set_ylabel('% of pores')\n",
    "ax.set_xlabel('pore size [nm]')\n",
    "ax.set_title('Normal control')\n",
    "ax2 = fig.add_subplot(3,1,2)\n",
    "ax2 = Deff_vals_OGD_ganglia[\"Pore size [nm]\"].plot.hist(weights = np.ones_like(Deff_vals_OGD_ganglia.index) / len(Deff_vals_OGD_ganglia.index)*100, bins=[0,6,11,16,21,26,31,36,41,46,51,56,61,66,71,76,81,86,91,96,101,106,111,116,121,126,131,136,141,146,151,156,161,166,171,176,181], color='goldenrod')\n",
    "#ax2.xaxis.set_ticks(np.arange(0, 101, 5))\n",
    "ax2.yaxis.set_ticks(np.arange(0, 51, 10))\n",
    "ax2.set_ylabel('% of pores')\n",
    "ax2.set_xlabel('pore size [nm]')\n",
    "ax2.set_title('OGD')\n",
    "ax3 = fig.add_subplot(3,1,3)\n",
    "ax3 = Deff_vals_OGD_AZ_ganglia[\"Pore size [nm]\"].plot.hist(weights = np.ones_like(Deff_vals_OGD_AZ_ganglia.index) / len(Deff_vals_OGD_AZ_ganglia.index)*100, bins=[0,6,11,16,21,26,31,36,41,46,51,56,61,66,71,76,81,86,91,96,101,106,111,116,121,126,131,136,141,146,151,156,161,166,171,176,181], color='royalblue')\n",
    "#ax3.xaxis.set_ticks(np.arange(0, 41, 5))\n",
    "ax3.yaxis.set_ticks(np.arange(0, 51, 10))\n",
    "ax3.set_ylabel('% of pores')\n",
    "ax3.set_xlabel('pore size [nm]')\n",
    "ax3.set_title('OGD + AZ')\n",
    "plt.tight_layout()"
   ]
  },
  {
   "cell_type": "code",
   "execution_count": 15,
   "metadata": {},
   "outputs": [
    {
     "name": "stdout",
     "output_type": "stream",
     "text": [
      "13.146505989129738 , 489.0783943805913 , 30.682737308134293\n",
      "12.204084108870704 , 580.9612246994645 , 22.821388406823736\n",
      "12.32192365936138 , 386.85430598253225 , 32.54366520207565\n"
     ]
    }
   ],
   "source": [
    "print(min(Deff_vals_NT_ganglia[\"Pore size [nm]\"]),',', max(Deff_vals_NT_ganglia[\"Pore size [nm]\"]),',',Deff_vals_NT_ganglia[\"Pore size [nm]\"].mean())\n",
    "print(min(Deff_vals_OGD_ganglia[\"Pore size [nm]\"]),',', max(Deff_vals_OGD_ganglia[\"Pore size [nm]\"]),',',Deff_vals_OGD_ganglia[\"Pore size [nm]\"].mean())\n",
    "print(min(Deff_vals_OGD_AZ_ganglia[\"Pore size [nm]\"]),',', max(Deff_vals_OGD_AZ_ganglia[\"Pore size [nm]\"]),',',Deff_vals_OGD_AZ_ganglia[\"Pore size [nm]\"].mean())\n"
   ]
  },
  {
   "cell_type": "code",
   "execution_count": null,
   "metadata": {},
   "outputs": [],
   "source": []
  },
  {
   "cell_type": "code",
   "execution_count": 26,
   "metadata": {},
   "outputs": [],
   "source": [
    "pro_50 = 0\n",
    "pro_100 = 0\n",
    "pro_200 = 0\n",
    "total = len(Deff_vals_P14)\n",
    "\n",
    "for traj in range(0,total):\n",
    "    if Deff_vals_P14['Pore size [nm]'][traj] >= 50:\n",
    "        pro_50 += 1\n",
    "        if Deff_vals_P14['Pore size [nm]'][traj] >= 100:\n",
    "            pro_100 += 1\n",
    "            if Deff_vals_P14['Pore size [nm]'][traj] >= 200:\n",
    "                pro_200 += 1\n",
    "\n",
    "                \n",
    "percent_50 = pro_50/total*100\n",
    "percent_100 = pro_100/total*100\n",
    "percent_200 = pro_200/total*100"
   ]
  },
  {
   "cell_type": "code",
   "execution_count": 27,
   "metadata": {},
   "outputs": [
    {
     "name": "stdout",
     "output_type": "stream",
     "text": [
      "31.3204146011717\n",
      "6.399278954484002\n",
      "1.1942316358720144\n"
     ]
    }
   ],
   "source": [
    "print(percent_50)\n",
    "print(percent_100)\n",
    "print(percent_200)"
   ]
  },
  {
   "cell_type": "code",
   "execution_count": null,
   "metadata": {},
   "outputs": [],
   "source": []
  },
  {
   "cell_type": "code",
   "execution_count": 19,
   "metadata": {},
   "outputs": [
    {
     "data": {
      "image/png": "[encoded data removed]",
      "text/plain": [
       "<Figure size 432x864 with 3 Axes>"
      ]
     },
     "metadata": {
      "needs_background": "light"
     },
     "output_type": "display_data"
    }
   ],
   "source": [
    "fig = plt.figure(figsize = (6,12))\n",
    "ax = fig.add_subplot(3,1,1)\n",
    "ax = Deff_vals_NT_hippocampus[\"Pore size [nm]\"].plot.hist(weights = np.ones_like(Deff_vals_NT_hippocampus.index) / len(Deff_vals_NT_hippocampus.index)*100, bins=[0,6,11,16,21,26,31,36,41,46,51,56,61,66,71,76,81,86,91,96,101,106,111,116,121,126,131,136,141,146,151,156,161,166,171,176,181],color='grey')\n",
    "#ax.xaxis.set_ticks(np.arange(0, 101, 5))\n",
    "ax.yaxis.set_ticks(np.arange(0, 26, 5))\n",
    "ax.set_ylabel('% of pores')\n",
    "ax.set_xlabel('pore size [nm]')\n",
    "ax.set_title('Normal control')\n",
    "ax2 = fig.add_subplot(3,1,2)\n",
    "ax2 = Deff_vals_OGD_hippocampus[\"Pore size [nm]\"].plot.hist(weights = np.ones_like(Deff_vals_OGD_hippocampus.index) / len(Deff_vals_OGD_hippocampus.index)*100, bins=[0,6,11,16,21,26,31,36,41,46,51,56,61,66,71,76,81,86,91,96,101,106,111,116,121,126,131,136,141,146,151,156,161,166,171,176,181], color='goldenrod')\n",
    "#ax2.xaxis.set_ticks(np.arange(0, 101, 5))\n",
    "ax2.yaxis.set_ticks(np.arange(0, 26, 5))\n",
    "ax2.set_ylabel('% of pores')\n",
    "ax2.set_xlabel('pore size [nm]')\n",
    "ax2.set_title('OGD')\n",
    "ax3 = fig.add_subplot(3,1,3)\n",
    "ax3 = Deff_vals_OGD_AZ_hippocampus[\"Pore size [nm]\"].plot.hist(weights = np.ones_like(Deff_vals_OGD_AZ_hippocampus.index) / len(Deff_vals_OGD_AZ_hippocampus.index)*100, bins=[0,6,11,16,21,26,31,36,41,46,51,56,61,66,71,76,81,86,91,96,101,106,111,116,121,126,131,136,141,146,151,156,161,166,171,176,181], color='royalblue')\n",
    "#ax3.xaxis.set_ticks(np.arange(0, 41, 5))\n",
    "ax3.yaxis.set_ticks(np.arange(0, 26, 5))\n",
    "ax3.set_ylabel('% of pores')\n",
    "ax3.set_xlabel('pore size [nm]')\n",
    "ax3.set_title('OGD + AZ')\n",
    "plt.tight_layout()"
   ]
  },
  {
   "cell_type": "code",
   "execution_count": 18,
   "metadata": {},
   "outputs": [
    {
     "name": "stdout",
     "output_type": "stream",
     "text": [
      "13.970192595059363 , 1414.7971029730475 , 38.691119399751464\n",
      "11.178652565113072 , 508.4902062344761 , 29.56189187372852\n",
      "13.104589900168298 , 2820.796040035786 , 44.80388055724878\n"
     ]
    }
   ],
   "source": [
    "print(min(Deff_vals_NT_hippocampus[\"Pore size [nm]\"]),',', max(Deff_vals_NT_hippocampus[\"Pore size [nm]\"]),',',Deff_vals_NT_hippocampus[\"Pore size [nm]\"].mean())\n",
    "print(min(Deff_vals_OGD_hippocampus[\"Pore size [nm]\"]),',', max(Deff_vals_OGD_hippocampus[\"Pore size [nm]\"]),',',Deff_vals_OGD_hippocampus[\"Pore size [nm]\"].mean())\n",
    "print(min(Deff_vals_OGD_AZ_hippocampus[\"Pore size [nm]\"]),',', max(Deff_vals_OGD_AZ_hippocampus[\"Pore size [nm]\"]),',',Deff_vals_OGD_AZ_hippocampus[\"Pore size [nm]\"].mean())"
   ]
  },
  {
   "cell_type": "code",
   "execution_count": null,
   "metadata": {},
   "outputs": [],
   "source": []
  },
  {
   "cell_type": "code",
   "execution_count": null,
   "metadata": {},
   "outputs": [],
   "source": []
  },
  {
   "cell_type": "code",
   "execution_count": null,
   "metadata": {},
   "outputs": [],
   "source": []
  },
  {
   "cell_type": "code",
   "execution_count": 24,
   "metadata": {},
   "outputs": [
    {
     "data": {
      "image/png": "[encoded data removed]",
      "text/plain": [
       "<Figure size 432x864 with 3 Axes>"
      ]
     },
     "metadata": {
      "needs_background": "light"
     },
     "output_type": "display_data"
    }
   ],
   "source": [
    "fig = plt.figure(figsize = (6,12))\n",
    "ax = fig.add_subplot(3,1,1)\n",
    "ax = Deff_vals_NT_thalamus[\"Pore size [nm]\"].plot.hist(weights = np.ones_like(Deff_vals_NT_thalamus.index) / len(Deff_vals_NT_thalamus.index)*100, bins=[0,6,11,16,21,26,31,36,41,46,51,56,61,66,71,76,81,86,91,96,101,106,111,116,121,126,131,136,141,146,151,156,161,166,171,176,181],color='grey')\n",
    "#ax.xaxis.set_ticks(np.arange(0, 101, 5))\n",
    "ax.yaxis.set_ticks(np.arange(0, 36, 5))\n",
    "ax.set_ylabel('% of pores')\n",
    "ax.set_xlabel('pore size [nm]')\n",
    "ax.set_title('Normal control')\n",
    "ax2 = fig.add_subplot(3,1,2)\n",
    "ax2 = Deff_vals_OGD_thalamus[\"Pore size [nm]\"].plot.hist(weights = np.ones_like(Deff_vals_OGD_thalamus.index) / len(Deff_vals_OGD_thalamus.index)*100, bins=[0,6,11,16,21,26,31,36,41,46,51,56,61,66,71,76,81,86,91,96,101,106,111,116,121,126,131,136,141,146,151,156,161,166,171,176,181], color='goldenrod')\n",
    "#ax2.xaxis.set_ticks(np.arange(0, 101, 5))\n",
    "ax2.yaxis.set_ticks(np.arange(0, 36, 5))\n",
    "ax2.set_ylabel('% of pores')\n",
    "ax2.set_xlabel('pore size [nm]')\n",
    "ax2.set_title('OGD')\n",
    "ax3 = fig.add_subplot(3,1,3)\n",
    "ax3 = Deff_vals_OGD_AZ_thalamus[\"Pore size [nm]\"].plot.hist(weights = np.ones_like(Deff_vals_OGD_AZ_thalamus.index) / len(Deff_vals_OGD_AZ_thalamus.index)*100, bins=[0,6,11,16,21,26,31,36,41,46,51,56,61,66,71,76,81,86,91,96,101,106,111,116,121,126,131,136,141,146,151,156,161,166,171,176,181], color='royalblue')\n",
    "#ax3.xaxis.set_ticks(np.arange(0, 41, 5))\n",
    "ax3.yaxis.set_ticks(np.arange(0, 36, 5))\n",
    "ax3.set_ylabel('% of pores')\n",
    "ax3.set_xlabel('pore size [nm]')\n",
    "ax3.set_title('OGD + AZ')\n",
    "plt.tight_layout()"
   ]
  },
  {
   "cell_type": "code",
   "execution_count": 42,
   "metadata": {},
   "outputs": [
    {
     "name": "stdout",
     "output_type": "stream",
     "text": [
      "13.707832632679652 , 1327.912612001916 , 37.92981646466656\n",
      "12.898561498705368 , 1173.960292896994 , 31.801559527261833\n",
      "13.511180540075094 , 581.4270402510138 , 25.159675295425803\n"
     ]
    }
   ],
   "source": [
    "print(min(Deff_vals_NT_thalamus[\"Pore size [nm]\"]),',', max(Deff_vals_NT_thalamus[\"Pore size [nm]\"]),',',Deff_vals_NT_thalamus[\"Pore size [nm]\"].mean())\n",
    "print(min(Deff_vals_OGD_thalamus[\"Pore size [nm]\"]),',', max(Deff_vals_OGD_thalamus[\"Pore size [nm]\"]),',',Deff_vals_OGD_thalamus[\"Pore size [nm]\"].mean())\n",
    "print(min(Deff_vals_OGD_AZ_thalamus[\"Pore size [nm]\"]),',', max(Deff_vals_OGD_AZ_thalamus[\"Pore size [nm]\"]),',',Deff_vals_OGD_AZ_thalamus[\"Pore size [nm]\"].mean())"
   ]
  },
  {
   "cell_type": "code",
   "execution_count": null,
   "metadata": {},
   "outputs": [],
   "source": []
  },
  {
   "cell_type": "code",
   "execution_count": null,
   "metadata": {},
   "outputs": [],
   "source": []
  }
 ],
 "metadata": {
  "kernelspec": {
   "display_name": "Python 3",
   "language": "python",
   "name": "python3"
  },
  "language_info": {
   "codemirror_mode": {
    "name": "ipython",
    "version": 3
   },
   "file_extension": ".py",
   "mimetype": "text/x-python",
   "name": "python",
   "nbconvert_exporter": "python",
   "pygments_lexer": "ipython3",
   "version": "3.7.4"
  }
 },
 "nbformat": 4,
 "nbformat_minor": 2
}
