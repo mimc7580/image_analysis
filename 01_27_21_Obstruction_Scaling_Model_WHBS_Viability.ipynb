{
 "cells": [
  {
   "cell_type": "code",
   "execution_count": 1,
   "metadata": {},
   "outputs": [],
   "source": [
    "import os\n",
    "import os.path as op\n",
    "import numpy as np\n",
    "import math\n",
    "import pandas as pd\n",
    "import matplotlib.pyplot as plt\n",
    "import numpy.ma as ma\n",
    "from scipy import stats"
   ]
  },
  {
   "cell_type": "markdown",
   "metadata": {},
   "source": [
    "## WHBS Viability Data"
   ]
  },
  {
   "cell_type": "code",
   "execution_count": 2,
   "metadata": {},
   "outputs": [],
   "source": [
    "file_list = [] # This is going to be the list of all filenames that will be included in the analysis\n",
    "\n",
    "path = '~/Desktop/MPT_Data/WHBS_MPT/Deff_csvs/' # The folder where the Deff csv files are located\n",
    "\n",
    "ages = ['P10', 'P17']\n",
    "treatments = ['acute', '1DIV', '4DIV', '7DIV', '11DIV', '14DIV']\n",
    "regions = ['cortex', 'striatum']\n",
    "\n",
    "file_list = ['P10_acute_40nm_cortex_slice_2_vid_1_Deff_a_sorted',\n",
    "            'P10_acute_40nm_striatum_slice_2_vid_2_Deff_a_sorted',\n",
    "            'P10_1DIV_40nm_striatum_slice_2_vid_4_Deff_a_sorted',\n",
    "            'P10_1DIV_40nm_cortex_slice_1_vid_2_Deff_a_sorted',\n",
    "            'P10_4DIV_40nm_striatum_slice_1_vid_5_Deff_a_sorted',\n",
    "            'P10_4DIV_40nm_cortex_slice_1_vid_3_Deff_a_sorted',\n",
    "            'P10_NT_3d_40nm_slice_1_striatum_vid_1_Deff_a_sorted',\n",
    "            'P10_NT_3d_40nm_slice_1_cortex_vid_1_Deff_a_sorted',\n",
    "            'P10_11DIV_40nm_striatum_slice_1_vid_2_Deff_a_sorted',\n",
    "            'P10_11DIV_40nm_cortex_slice_1_vid_1_Deff_a_sorted',\n",
    "            'P10_14DIV_40nm_striatum_slice_1_vid_5_Deff_a_sorted',\n",
    "            'P10_14DIV_40nm_cortex_slice_1_vid_2_Deff_a_sorted',\n",
    "            'P17_acute_40nm_striatum_slice_2_vid_5_Deff_a_sorted',\n",
    "            'P17_acute_40nm_cortex_slice_2_vid_4_Deff_a_sorted',\n",
    "            'P17_1DIV_40nm_striatum_slice_1_vid_5_Deff_a_sorted',\n",
    "            'P17_1DIV_40nm_cortex_slice_1_vid_3_Deff_a_sorted',\n",
    "            'P17_4DIV_40nm_striatum_slice_1_vid_3_Deff_a_sorted',\n",
    "            'P17_4DIV_40nm_cortex_slice_1_vid_3_Deff_a_sorted',\n",
    "            'P17_7DIV_40nm_striatum_slice_1_vid_1_Deff_a_sorted',\n",
    "            'P17_7DIV_40nm_cortex_slice_1_vid_3_Deff_a_sorted',\n",
    "            'P17_11DIV_40nm_striatum_slice_1_vid_2_Deff_a_sorted',\n",
    "            'P17_11DIV_40nm_cortex_slice_1_vid_1_Deff_a_sorted',\n",
    "            'P17_14DIV_40nm_striatum_slice_1_vid_2_Deff_a_sorted',\n",
    "            'P17_14DIV_40nm_cortex_slice_1_vid_3_Deff_a_sorted']"
   ]
  },
  {
   "cell_type": "code",
   "execution_count": 3,
   "metadata": {},
   "outputs": [
    {
     "data": {
      "text/plain": [
       "['P10_acute_40nm_cortex_slice_2_vid_1_Deff_a_sorted',\n",
       " 'P10_acute_40nm_striatum_slice_2_vid_2_Deff_a_sorted',\n",
       " 'P10_1DIV_40nm_striatum_slice_2_vid_4_Deff_a_sorted',\n",
       " 'P10_1DIV_40nm_cortex_slice_1_vid_2_Deff_a_sorted',\n",
       " 'P10_4DIV_40nm_striatum_slice_1_vid_5_Deff_a_sorted',\n",
       " 'P10_4DIV_40nm_cortex_slice_1_vid_3_Deff_a_sorted',\n",
       " 'P10_NT_3d_40nm_slice_1_striatum_vid_1_Deff_a_sorted',\n",
       " 'P10_NT_3d_40nm_slice_1_cortex_vid_1_Deff_a_sorted',\n",
       " 'P10_11DIV_40nm_striatum_slice_1_vid_2_Deff_a_sorted',\n",
       " 'P10_11DIV_40nm_cortex_slice_1_vid_1_Deff_a_sorted',\n",
       " 'P10_14DIV_40nm_striatum_slice_1_vid_5_Deff_a_sorted',\n",
       " 'P10_14DIV_40nm_cortex_slice_1_vid_2_Deff_a_sorted',\n",
       " 'P17_acute_40nm_striatum_slice_2_vid_5_Deff_a_sorted',\n",
       " 'P17_acute_40nm_cortex_slice_2_vid_4_Deff_a_sorted',\n",
       " 'P17_1DIV_40nm_striatum_slice_1_vid_5_Deff_a_sorted',\n",
       " 'P17_1DIV_40nm_cortex_slice_1_vid_3_Deff_a_sorted',\n",
       " 'P17_4DIV_40nm_striatum_slice_1_vid_3_Deff_a_sorted',\n",
       " 'P17_4DIV_40nm_cortex_slice_1_vid_3_Deff_a_sorted',\n",
       " 'P17_7DIV_40nm_striatum_slice_1_vid_1_Deff_a_sorted',\n",
       " 'P17_7DIV_40nm_cortex_slice_1_vid_3_Deff_a_sorted',\n",
       " 'P17_11DIV_40nm_striatum_slice_1_vid_2_Deff_a_sorted',\n",
       " 'P17_11DIV_40nm_cortex_slice_1_vid_1_Deff_a_sorted',\n",
       " 'P17_14DIV_40nm_striatum_slice_1_vid_2_Deff_a_sorted',\n",
       " 'P17_14DIV_40nm_cortex_slice_1_vid_3_Deff_a_sorted']"
      ]
     },
     "execution_count": 3,
     "metadata": {},
     "output_type": "execute_result"
    }
   ],
   "source": [
    "file_list"
   ]
  },
  {
   "cell_type": "code",
   "execution_count": 4,
   "metadata": {},
   "outputs": [
    {
     "data": {
      "text/plain": [
       "24"
      ]
     },
     "execution_count": 4,
     "metadata": {},
     "output_type": "execute_result"
    }
   ],
   "source": [
    "len(file_list)"
   ]
  },
  {
   "cell_type": "code",
   "execution_count": 5,
   "metadata": {},
   "outputs": [
    {
     "name": "stdout",
     "output_type": "stream",
     "text": [
      "9.032674589151027\n"
     ]
    }
   ],
   "source": [
    "# Assigning variables\n",
    "k = 1.3806503e-23 # m^2 kg s^-2 K\n",
    "T = 310.15 # K\n",
    "#T = 293.15 # K\n",
    "mu = 0.001 # kg m^-1 s^-1\n",
    "\n",
    "r_s = 25.15 # nm\n",
    "r_f = 0.3 # nm\n",
    "\n",
    "Do = k*T/(6*math.pi*mu*r_s*1e-9)*1e12 # um^2/s\n",
    "print(Do)"
   ]
  },
  {
   "cell_type": "code",
   "execution_count": null,
   "metadata": {},
   "outputs": [],
   "source": [
    "os.getcwd()"
   ]
  },
  {
   "cell_type": "code",
   "execution_count": 7,
   "metadata": {},
   "outputs": [],
   "source": [
    "path = '/Users/mikemckenna/Desktop/MPT_data/WHBS_MPT/Deff_csvs/'\n",
    "os.chdir(path)\n",
    "\n",
    "for file in file_list:\n",
    "    temp = pd.read_csv(file+'.csv')\n",
    "    temp.rename(columns={'0': \"Deff [um^2/s]\"}, inplace=True)\n",
    "    temp['Pore size [nm]'] = 2*((r_s+r_f)/((-4/math.pi*(np.log((temp['Deff [um^2/s]'])/Do)))**(1/2))-r_f)\n",
    "    temp = temp.dropna()\n",
    "    temp = temp.reset_index(drop=True)\n",
    "    temp.to_csv(file+'_pores.csv', encoding='utf-8', index=False)"
   ]
  },
  {
   "cell_type": "code",
   "execution_count": 11,
   "metadata": {},
   "outputs": [],
   "source": [
    "P10_acute_cortex = pd.read_csv(file_list[0]+'_pores.csv')\n",
    "P10_1DIV_cortex = pd.read_csv(file_list[3]+'_pores.csv')\n",
    "P10_4DIV_cortex = pd.read_csv(file_list[5]+'_pores.csv')\n",
    "P10_7DIV_cortex = pd.read_csv(file_list[7]+'_pores.csv')\n",
    "P10_11DIV_cortex = pd.read_csv(file_list[9]+'_pores.csv')\n",
    "P10_14DIV_cortex = pd.read_csv(file_list[11]+'_pores.csv')"
   ]
  },
  {
   "cell_type": "code",
   "execution_count": 14,
   "metadata": {},
   "outputs": [
    {
     "ename": "AttributeError",
     "evalue": "'numpy.ndarray' object has no attribute 'index'",
     "output_type": "error",
     "traceback": [
      "\u001b[0;31m---------------------------------------------------------------------------\u001b[0m",
      "\u001b[0;31mAttributeError\u001b[0m                            Traceback (most recent call last)",
      "\u001b[0;32m<ipython-input-14-75fdfd66032f>\u001b[0m in \u001b[0;36m<module>\u001b[0;34m\u001b[0m\n\u001b[0;32m----> 1\u001b[0;31m \u001b[0max\u001b[0m \u001b[0;34m=\u001b[0m \u001b[0mP10_acute_cortex\u001b[0m\u001b[0;34m[\u001b[0m\u001b[0;34m\"Pore size [nm]\"\u001b[0m\u001b[0;34m]\u001b[0m\u001b[0;34m.\u001b[0m\u001b[0mplot\u001b[0m\u001b[0;34m.\u001b[0m\u001b[0mhist\u001b[0m\u001b[0;34m(\u001b[0m\u001b[0mweights\u001b[0m \u001b[0;34m=\u001b[0m \u001b[0mnp\u001b[0m\u001b[0;34m.\u001b[0m\u001b[0mones_like\u001b[0m\u001b[0;34m(\u001b[0m\u001b[0mP10_acute_cortex\u001b[0m\u001b[0;34m)\u001b[0m\u001b[0;34m.\u001b[0m\u001b[0mindex\u001b[0m\u001b[0;34m)\u001b[0m\u001b[0;34m/\u001b[0m\u001b[0mlen\u001b[0m\u001b[0;34m(\u001b[0m\u001b[0mP10_acute_cortex\u001b[0m\u001b[0;34m.\u001b[0m\u001b[0mindex\u001b[0m\u001b[0;34m)\u001b[0m\u001b[0;34m*\u001b[0m\u001b[0;36m100\u001b[0m\u001b[0;34m\u001b[0m\u001b[0;34m\u001b[0m\u001b[0m\n\u001b[0m",
      "\u001b[0;31mAttributeError\u001b[0m: 'numpy.ndarray' object has no attribute 'index'"
     ]
    }
   ],
   "source": [
    "ax = P10_acute_cortex[\"Pore size [nm]\"].plot.hist(weights = np.ones_like(P10_acute_cortex).index)/len(P10_acute_cortex.index)*100"
   ]
  },
  {
   "cell_type": "code",
   "execution_count": 12,
   "metadata": {},
   "outputs": [
    {
     "ename": "SyntaxError",
     "evalue": "invalid syntax (<ipython-input-12-ad1576a7bbda>, line 3)",
     "output_type": "error",
     "traceback": [
      "\u001b[0;36m  File \u001b[0;32m\"<ipython-input-12-ad1576a7bbda>\"\u001b[0;36m, line \u001b[0;32m3\u001b[0m\n\u001b[0;31m    ax = P10_acute_cortex[\"Pore size [nm]\"].plot.hist(weights = np.ones_like(P10_acute_cortex).index) / len(P10_acute_cortex.index)*100, bins=[0,6,11,16,21,26,31,36,41,46,51,56,61,66,71], color='black')\u001b[0m\n\u001b[0m                                                                                                                                                                                                         ^\u001b[0m\n\u001b[0;31mSyntaxError\u001b[0m\u001b[0;31m:\u001b[0m invalid syntax\n"
     ]
    }
   ],
   "source": [
    "plt.figure(1, dpi=300).tight_layout()\n",
    "ax = plt.gca()\n",
    "ax = P10_acute_cortex[\"Pore size [nm]\"].plot.hist(weights = np.ones_like(P10_acute_cortex).index) / len(P10_acute_cortex.index)*100, bins=[0,6,11,16,21,26,31,36,41,46,51,56,61,66,71], color='black')\n",
    "#ax.xaxis.set_ticks(np.arange(0, 71, 5))\n",
    "ax.yaxis.set_ticks(np.arange(0, 51, 10))\n",
    "ax.set_ylabel('% of pores', fontsize=20, weight='bold')\n",
    "ax.set_xlabel('pore size [nm]', fontsize=20, weight='bold')\n",
    "#ax.set_title('NC')\n",
    "ax.tick_params(labelsize=18, length=8, width=2)\n",
    "#ax.tick_params(which = 'minor', length=5, width=1)\n",
    "for axis in ['top','bottom','left','right']:\n",
    "    ax.spines[axis].set_linewidth(2)\n",
    "\n",
    "    \n",
    "plt.figure(2, dpi=300).tight_layout()\n",
    "ax2 = plt.gca()    \n",
    "ax2 = P10_1DIV_cortex[\"Pore size [nm]\"].plot.hist(weights = np.ones_like(P10_1DIV_cortex.index) / len(P10_1DIV_cortex.index)*100, bins=[0,6,11,16,21,26,31,36,41,46,51,56,61,66,71], color='grey')\n",
    "#ax2.xaxis.set_ticks(np.arange(0, 71, 5))\n",
    "ax2.yaxis.set_ticks(np.arange(0, 51, 10))\n",
    "ax2.set_ylabel('% of pores', fontsize=20, weight='bold')\n",
    "ax2.set_xlabel('pore size [nm]', fontsize=20, weight='bold')\n",
    "#ax2.set_title('OGD 0.5h')\n",
    "ax2.tick_params(labelsize=18, length=8, width=2)\n",
    "#ax2.tick_params(which = 'minor', length=5, width=1)\n",
    "for axis in ['top','bottom','left','right']:\n",
    "    ax2.spines[axis].set_linewidth(2)\n",
    "\n",
    "\n",
    "plt.figure(3, dpi=300).tight_layout()\n",
    "ax3 = plt.gca()  \n",
    "ax3 = P10_4DIV_cortex[\"Pore size [nm]\"].plot.hist(weights = np.ones_like(P10_4DIV_cortex.index) / len(P10_4DIV_cortex.index)*100, bins=[0,6,11,16,21,26,31,36,41,46,51,56,61,66,71], color='royalblue')\n",
    "#ax3.xaxis.set_ticks(np.arange(0, 71, 5))\n",
    "ax3.yaxis.set_ticks(np.arange(0, 51, 10))\n",
    "ax3.set_ylabel('% of pores', fontsize=20, weight='bold')\n",
    "ax3.set_xlabel('pore size [nm]', fontsize=20, weight='bold')\n",
    "#ax3.set_title('OGD 1.5h')\n",
    "ax3.tick_params(labelsize=18, length=8, width=2)\n",
    "#ax3.tick_params(which = 'minor', length=5, width=1)\n",
    "for axis in ['top','bottom','left','right']:\n",
    "    ax3.spines[axis].set_linewidth(2)\n",
    "\n",
    "\n",
    "plt.figure(4, dpi=300).tight_layout()\n",
    "ax4 = plt.gca()\n",
    "ax4 = P10_7DIV_cortex[\"Pore size [nm]\"].plot.hist(weights = np.ones_like(P10_7DIV_cortex.index) / len(P10_7DIV_cortex.index)*100, bins=[0,6,11,16,21,26,31,36,41,46,51,56,61,66,71], color='goldenrod')\n",
    "#ax4.xaxis.set_ticks(np.arange(0, 71, 5))\n",
    "ax4.yaxis.set_ticks(np.arange(0, 51, 10))\n",
    "ax4.set_ylabel('% of pores', fontsize=20, weight='bold')\n",
    "ax4.set_xlabel('pore size [nm]', fontsize=20, weight='bold')\n",
    "#ax4.set_title('OGD 0.5h')\n",
    "ax4.tick_params(labelsize=18, length=8, width=2)\n",
    "#ax4.tick_params(which = 'minor', length=5, width=1)\n",
    "for axis in ['top','bottom','left','right']:\n",
    "    ax4.spines[axis].set_linewidth(2)"
   ]
  },
  {
   "cell_type": "code",
   "execution_count": null,
   "metadata": {},
   "outputs": [],
   "source": [
    "print(min(Deff_vals_NT_cortex[\"Pore size [nm]\"]),',', max(Deff_vals_NT_cortex[\"Pore size [nm]\"]),',',Deff_vals_NT_cortex[\"Pore size [nm]\"].mean(),',',Deff_vals_NT_cortex[\"Pore size [nm]\"].median())\n",
    "print(min(Deff_vals_OGD_0_5h_cortex[\"Pore size [nm]\"]),',', max(Deff_vals_OGD_0_5h_cortex[\"Pore size [nm]\"]),',',Deff_vals_OGD_0_5h_cortex[\"Pore size [nm]\"].mean(),',',Deff_vals_OGD_0_5h_cortex[\"Pore size [nm]\"].median())\n",
    "print(min(Deff_vals_OGD_1_5h_cortex[\"Pore size [nm]\"]),',', max(Deff_vals_OGD_1_5h_cortex[\"Pore size [nm]\"]),',',Deff_vals_OGD_1_5h_cortex[\"Pore size [nm]\"].mean(),',',Deff_vals_OGD_1_5h_cortex[\"Pore size [nm]\"].median())\n",
    "print(min(Deff_vals_OGD_3h_cortex[\"Pore size [nm]\"]),',', max(Deff_vals_OGD_3h_cortex[\"Pore size [nm]\"]),',',Deff_vals_OGD_3h_cortex[\"Pore size [nm]\"].mean(),',',Deff_vals_OGD_3h_cortex[\"Pore size [nm]\"].median())"
   ]
  },
  {
   "cell_type": "code",
   "execution_count": null,
   "metadata": {},
   "outputs": [],
   "source": []
  },
  {
   "cell_type": "code",
   "execution_count": null,
   "metadata": {},
   "outputs": [],
   "source": [
    "pro_30 = 0\n",
    "pro_40 = 0\n",
    "pro_50 = 0\n",
    "pro_60 = 0\n",
    "pro_75 = 0\n",
    "pro_80 = 0\n",
    "pro_90 = 0\n",
    "pro_100 = 0\n",
    "total = len(Deff_vals_NT_cortex)\n",
    "\n",
    "for traj in range(0,total):\n",
    "    if Deff_vals_NT_cortex['Pore size [nm]'][traj] >= 30:\n",
    "        pro_30 += 1\n",
    "        if Deff_vals_NT_cortex['Pore size [nm]'][traj] >= 40:\n",
    "            pro_40 += 1\n",
    "            if Deff_vals_NT_cortex['Pore size [nm]'][traj] >= 50:\n",
    "                pro_50 += 1\n",
    "                if Deff_vals_NT_cortex['Pore size [nm]'][traj] >= 60:\n",
    "                    pro_60 += 1\n",
    "                    if Deff_vals_NT_cortex['Pore size [nm]'][traj] >= 75:\n",
    "                        pro_75 += 1\n",
    "                        if Deff_vals_NT_cortex['Pore size [nm]'][traj] >= 80:\n",
    "                            pro_80 += 1\n",
    "                            if Deff_vals_NT_cortex['Pore size [nm]'][traj] >= 90:\n",
    "                                pro_90 += 1\n",
    "                                if Deff_vals_NT_cortex['Pore size [nm]'][traj] >= 100:\n",
    "                                    pro_100 += 1\n",
    "\n",
    "                \n",
    "percent_30 = pro_30/total*100\n",
    "percent_40 = pro_40/total*100\n",
    "percent_50 = pro_50/total*100"
   ]
  },
  {
   "cell_type": "code",
   "execution_count": null,
   "metadata": {},
   "outputs": [],
   "source": [
    "print(percent_30, pro_30)\n",
    "print(percent_40, pro_40)\n",
    "print(percent_50)\n",
    "print(pro_50)\n",
    "print(pro_75)\n",
    "print(pro_100)"
   ]
  },
  {
   "cell_type": "code",
   "execution_count": null,
   "metadata": {},
   "outputs": [],
   "source": [
    "plt.figure(1, dpi=300).tight_layout()\n",
    "ax = plt.gca()\n",
    "ax = Deff_vals_NT_striatum[\"Pore size [nm]\"].plot.hist(weights = np.ones_like(Deff_vals_NT_striatum.index) / len(Deff_vals_NT_striatum.index)*100, bins=[0,6,11,16,21,26,31,36,41,46,51,56,61,66,71],color='black')\n",
    "#ax.xaxis.set_ticks(np.arange(0, 101, 5))\n",
    "ax.yaxis.set_ticks(np.arange(0, 51, 10))\n",
    "ax.set_ylabel('% of pores', fontsize=20, weight='bold')\n",
    "ax.set_xlabel('pore size [nm]', fontsize=20, weight='bold')\n",
    "#ax.set_title('NC')\n",
    "ax.tick_params(labelsize=18, length=8, width=2)\n",
    "#ax.tick_params(which = 'minor', length=5, width=1)\n",
    "for axis in ['top','bottom','left','right']:\n",
    "    ax.spines[axis].set_linewidth(2)\n",
    "\n",
    "    \n",
    "plt.figure(2, dpi=300).tight_layout()\n",
    "ax2 = plt.gca()    \n",
    "ax2 = Deff_vals_OGD_0_5h_striatum[\"Pore size [nm]\"].plot.hist(weights = np.ones_like(Deff_vals_OGD_0_5h_striatum.index) / len(Deff_vals_OGD_0_5h_striatum.index)*100, bins=[0,6,11,16,21,26,31,36,41,46,51,56,61,66,71], color='grey')\n",
    "#ax2.xaxis.set_ticks(np.arange(0, 101, 5))\n",
    "ax2.yaxis.set_ticks(np.arange(0, 51, 10))\n",
    "ax2.set_ylabel('% of pores', fontsize=20, weight='bold')\n",
    "ax2.set_xlabel('pore size [nm]', fontsize=20, weight='bold')\n",
    "#ax2.set_title('OGD 0.5h')\n",
    "ax2.tick_params(labelsize=18, length=8, width=2)\n",
    "#ax2.tick_params(which = 'minor', length=5, width=1)\n",
    "for axis in ['top','bottom','left','right']:\n",
    "    ax2.spines[axis].set_linewidth(2)\n",
    "\n",
    "\n",
    "plt.figure(3, dpi=300).tight_layout()\n",
    "ax3 = plt.gca()  \n",
    "ax3 = Deff_vals_OGD_1_5h_striatum[\"Pore size [nm]\"].plot.hist(weights = np.ones_like(Deff_vals_OGD_1_5h_striatum.index) / len(Deff_vals_OGD_1_5h_striatum.index)*100, bins=[0,6,11,16,21,26,31,36,41,46,51,56,61,66,71], color='royalblue')\n",
    "#ax3.xaxis.set_ticks(np.arange(0, 101, 5))\n",
    "ax3.yaxis.set_ticks(np.arange(0, 51, 10))\n",
    "ax3.set_ylabel('% of pores', fontsize=20, weight='bold')\n",
    "ax3.set_xlabel('pore size [nm]', fontsize=20, weight='bold')\n",
    "#ax3.set_title('OGD 1.5h')\n",
    "ax3.tick_params(labelsize=18, length=8, width=2)\n",
    "#ax3.tick_params(which = 'minor', length=5, width=1)\n",
    "for axis in ['top','bottom','left','right']:\n",
    "    ax3.spines[axis].set_linewidth(2)\n",
    "\n",
    "\n",
    "plt.figure(4, dpi=300).tight_layout()\n",
    "ax4 = plt.gca()\n",
    "ax4 = Deff_vals_OGD_3h_striatum[\"Pore size [nm]\"].plot.hist(weights = np.ones_like(Deff_vals_OGD_3h_striatum.index) / len(Deff_vals_OGD_3h_striatum.index)*100, bins=[0,6,11,16,21,26,31,36,41,46,51,56,61,66,71], color='goldenrod')\n",
    "#ax4.xaxis.set_ticks(np.arange(0, 101, 5))\n",
    "ax4.yaxis.set_ticks(np.arange(0, 51, 10))\n",
    "ax4.set_ylabel('% of pores', fontsize=20, weight='bold')\n",
    "ax4.set_xlabel('pore size [nm]', fontsize=20, weight='bold')\n",
    "#ax4.set_title('OGD 0.5h')\n",
    "ax4.tick_params(labelsize=18, length=8, width=2)\n",
    "#ax4.tick_params(which = 'minor', length=5, width=1)\n",
    "for axis in ['top','bottom','left','right']:\n",
    "    ax4.spines[axis].set_linewidth(2)"
   ]
  },
  {
   "cell_type": "code",
   "execution_count": null,
   "metadata": {},
   "outputs": [],
   "source": [
    "print(min(Deff_vals_NT_striatum[\"Pore size [nm]\"]),',', max(Deff_vals_NT_striatum[\"Pore size [nm]\"]),',',Deff_vals_NT_striatum[\"Pore size [nm]\"].mean(),',',Deff_vals_NT_striatum[\"Pore size [nm]\"].median())\n",
    "print(min(Deff_vals_OGD_0_5h_striatum[\"Pore size [nm]\"]),',', max(Deff_vals_OGD_0_5h_striatum[\"Pore size [nm]\"]),',',Deff_vals_OGD_0_5h_striatum[\"Pore size [nm]\"].mean(),',',Deff_vals_OGD_0_5h_striatum[\"Pore size [nm]\"].median())\n",
    "print(min(Deff_vals_OGD_1_5h_striatum[\"Pore size [nm]\"]),',', max(Deff_vals_OGD_1_5h_striatum[\"Pore size [nm]\"]),',',Deff_vals_OGD_1_5h_striatum[\"Pore size [nm]\"].mean(),',',Deff_vals_OGD_1_5h_striatum[\"Pore size [nm]\"].median())\n",
    "print(min(Deff_vals_OGD_3h_striatum[\"Pore size [nm]\"]),',', max(Deff_vals_OGD_3h_striatum[\"Pore size [nm]\"]),',',Deff_vals_OGD_3h_striatum[\"Pore size [nm]\"].mean(),',',Deff_vals_OGD_3h_striatum[\"Pore size [nm]\"].median())"
   ]
  },
  {
   "cell_type": "code",
   "execution_count": null,
   "metadata": {},
   "outputs": [],
   "source": [
    "pro_30 = 0\n",
    "pro_40 = 0\n",
    "pro_50 = 0\n",
    "pro_60 = 0\n",
    "pro_75 = 0\n",
    "pro_80 = 0\n",
    "pro_90 = 0\n",
    "pro_100 = 0\n",
    "total = len(Deff_vals_OGD_3h_striatum)\n",
    "\n",
    "for traj in range(0,total):\n",
    "    if Deff_vals_OGD_3h_striatum['Pore size [nm]'][traj] >= 30:\n",
    "        pro_30 += 1\n",
    "        if Deff_vals_OGD_3h_striatum['Pore size [nm]'][traj] >= 40:\n",
    "            pro_40 += 1\n",
    "            if Deff_vals_OGD_3h_striatum['Pore size [nm]'][traj] >= 50:\n",
    "                pro_50 += 1\n",
    "                if Deff_vals_OGD_3h_striatum['Pore size [nm]'][traj] >= 60:\n",
    "                    pro_60 += 1\n",
    "                    if Deff_vals_OGD_3h_striatum['Pore size [nm]'][traj] >= 75:\n",
    "                        pro_75 += 1\n",
    "                        if Deff_vals_OGD_3h_striatum['Pore size [nm]'][traj] >= 80:\n",
    "                            pro_80 += 1\n",
    "                            if Deff_vals_OGD_3h_striatum['Pore size [nm]'][traj] >= 90:\n",
    "                                pro_90 += 1\n",
    "                                if Deff_vals_OGD_3h_striatum['Pore size [nm]'][traj] >= 100:\n",
    "                                    pro_100 += 1\n",
    "\n",
    "                \n",
    "percent_30 = pro_30/total*100\n",
    "percent_40 = pro_40/total*100\n",
    "percent_50 = pro_50/total*100"
   ]
  },
  {
   "cell_type": "code",
   "execution_count": null,
   "metadata": {},
   "outputs": [],
   "source": [
    "print(percent_30, pro_30)\n",
    "print(percent_40, pro_40)\n",
    "print(percent_50)\n",
    "print(pro_50)\n",
    "print(pro_75)\n",
    "print(pro_100)"
   ]
  },
  {
   "cell_type": "code",
   "execution_count": null,
   "metadata": {},
   "outputs": [],
   "source": []
  },
  {
   "cell_type": "code",
   "execution_count": null,
   "metadata": {},
   "outputs": [],
   "source": [
    "plt.figure(1, dpi=300).tight_layout()\n",
    "ax = plt.gca()\n",
    "ax = Deff_vals_NT[\"Pore size [nm]\"].plot.hist(weights = np.ones_like(Deff_vals_NT.index) / len(Deff_vals_NT.index)*100, bins=[0,6,11,16,21,26,31,36,41,46,51,56,61,66,71],color='black')\n",
    "#ax.xaxis.set_ticks(np.arange(0, 101, 5))\n",
    "ax.yaxis.set_ticks(np.arange(0, 41, 10))\n",
    "ax.set_ylabel('% of pores', fontsize=20, weight='bold')\n",
    "ax.set_xlabel('pore size [nm]', fontsize=20, weight='bold')\n",
    "#ax.set_title('NC')\n",
    "ax.tick_params(labelsize=18, length=8, width=2)\n",
    "#ax.tick_params(which = 'minor', length=5, width=1)\n",
    "for axis in ['top','bottom','left','right']:\n",
    "    ax.spines[axis].set_linewidth(2)\n",
    "\n",
    "    \n",
    "plt.figure(2, dpi=300).tight_layout()\n",
    "ax2 = plt.gca()    \n",
    "ax2 = Deff_vals_OGD_0_5h[\"Pore size [nm]\"].plot.hist(weights = np.ones_like(Deff_vals_OGD_0_5h.index) / len(Deff_vals_OGD_0_5h.index)*100, bins=[0,6,11,16,21,26,31,36,41,46,51,56,61,66,71], color='grey')\n",
    "#ax2.xaxis.set_ticks(np.arange(0, 101, 5))\n",
    "ax2.yaxis.set_ticks(np.arange(0, 41, 10))\n",
    "ax2.set_ylabel('% of pores', fontsize=20, weight='bold')\n",
    "ax2.set_xlabel('pore size [nm]', fontsize=20, weight='bold')\n",
    "#ax2.set_title('OGD 0.5h')\n",
    "ax2.tick_params(labelsize=18, length=8, width=2)\n",
    "#ax2.tick_params(which = 'minor', length=5, width=1)\n",
    "for axis in ['top','bottom','left','right']:\n",
    "    ax2.spines[axis].set_linewidth(2)\n",
    "\n",
    "\n",
    "plt.figure(3, dpi=300).tight_layout()\n",
    "ax3 = plt.gca()  \n",
    "ax3 = Deff_vals_OGD_1_5h[\"Pore size [nm]\"].plot.hist(weights = np.ones_like(Deff_vals_OGD_1_5h.index) / len(Deff_vals_OGD_1_5h.index)*100, bins=[0,6,11,16,21,26,31,36,41,46,51,56,61,66,71], color='royalblue')\n",
    "#ax3.xaxis.set_ticks(np.arange(0, 101, 5))\n",
    "ax3.yaxis.set_ticks(np.arange(0, 41, 10))\n",
    "ax3.set_ylabel('% of pores', fontsize=20, weight='bold')\n",
    "ax3.set_xlabel('pore size [nm]', fontsize=20, weight='bold')\n",
    "#ax3.set_title('OGD 1.5h')\n",
    "ax3.tick_params(labelsize=18, length=8, width=2)\n",
    "#ax3.tick_params(which = 'minor', length=5, width=1)\n",
    "for axis in ['top','bottom','left','right']:\n",
    "    ax3.spines[axis].set_linewidth(2)\n",
    "\n",
    "\n",
    "plt.figure(4, dpi=300).tight_layout()\n",
    "ax4 = plt.gca()\n",
    "ax4 = Deff_vals_OGD_3h[\"Pore size [nm]\"].plot.hist(weights = np.ones_like(Deff_vals_OGD_3h.index) / len(Deff_vals_OGD_3h.index)*100, bins=[0,6,11,16,21,26,31,36,41,46,51,56,61,66,71], color='goldenrod')\n",
    "#ax4.xaxis.set_ticks(np.arange(0, 101, 5))\n",
    "ax4.yaxis.set_ticks(np.arange(0, 41, 10))\n",
    "ax4.set_ylabel('% of pores', fontsize=20, weight='bold')\n",
    "ax4.set_xlabel('pore size [nm]', fontsize=20, weight='bold')\n",
    "#ax4.set_title('OGD 0.5h')\n",
    "ax4.tick_params(labelsize=18, length=8, width=2)\n",
    "#ax4.tick_params(which = 'minor', length=5, width=1)\n",
    "for axis in ['top','bottom','left','right']:\n",
    "    ax4.spines[axis].set_linewidth(2)"
   ]
  },
  {
   "cell_type": "code",
   "execution_count": null,
   "metadata": {},
   "outputs": [],
   "source": [
    "print(min(Deff_vals_NT[\"Pore size [nm]\"]),',', max(Deff_vals_NT[\"Pore size [nm]\"]),',',Deff_vals_NT[\"Pore size [nm]\"].mean(),',',Deff_vals_NT[\"Pore size [nm]\"].median())\n",
    "print(min(Deff_vals_OGD_0_5h[\"Pore size [nm]\"]),',', max(Deff_vals_OGD_0_5h[\"Pore size [nm]\"]),',',Deff_vals_OGD_0_5h[\"Pore size [nm]\"].mean(),',',Deff_vals_OGD_0_5h[\"Pore size [nm]\"].median())\n",
    "print(min(Deff_vals_OGD_1_5h[\"Pore size [nm]\"]),',', max(Deff_vals_OGD_1_5h[\"Pore size [nm]\"]),',',Deff_vals_OGD_1_5h[\"Pore size [nm]\"].mean(),',',Deff_vals_OGD_1_5h[\"Pore size [nm]\"].median())\n",
    "print(min(Deff_vals_OGD_3h[\"Pore size [nm]\"]),',', max(Deff_vals_OGD_3h[\"Pore size [nm]\"]),',',Deff_vals_OGD_3h[\"Pore size [nm]\"].mean(),',',Deff_vals_OGD_3h[\"Pore size [nm]\"].median())"
   ]
  },
  {
   "cell_type": "code",
   "execution_count": null,
   "metadata": {},
   "outputs": [],
   "source": [
    "pro_30 = 0\n",
    "pro_40 = 0\n",
    "pro_50 = 0\n",
    "pro_60 = 0\n",
    "pro_75 = 0\n",
    "pro_80 = 0\n",
    "pro_90 = 0\n",
    "pro_100 = 0\n",
    "total = len(Deff_vals_NT)\n",
    "\n",
    "for traj in range(0,total):\n",
    "    if Deff_vals_NT['Pore size [nm]'][traj] >= 30:\n",
    "        pro_30 += 1\n",
    "        if Deff_vals_NT['Pore size [nm]'][traj] >= 40:\n",
    "            pro_40 += 1\n",
    "            if Deff_vals_NT['Pore size [nm]'][traj] >= 50:\n",
    "                pro_50 += 1\n",
    "                if Deff_vals_NT['Pore size [nm]'][traj] >= 60:\n",
    "                    pro_60 += 1\n",
    "                    if Deff_vals_NT['Pore size [nm]'][traj] >= 75:\n",
    "                        pro_75 += 1\n",
    "                        if Deff_vals_NT['Pore size [nm]'][traj] >= 80:\n",
    "                            pro_80 += 1\n",
    "                            if Deff_vals_NT['Pore size [nm]'][traj] >= 90:\n",
    "                                pro_90 += 1\n",
    "                                if Deff_vals_NT['Pore size [nm]'][traj] >= 100:\n",
    "                                    pro_100 += 1\n",
    "\n",
    "                \n",
    "percent_30 = pro_30/total*100\n",
    "percent_40 = pro_40/total*100\n",
    "percent_50 = pro_50/total*100"
   ]
  },
  {
   "cell_type": "code",
   "execution_count": null,
   "metadata": {},
   "outputs": [],
   "source": [
    "print(percent_30, pro_30)\n",
    "print(percent_40, pro_40)\n",
    "print(percent_50)\n",
    "print(pro_50)\n",
    "print(pro_75)\n",
    "print(pro_100)"
   ]
  },
  {
   "cell_type": "code",
   "execution_count": null,
   "metadata": {},
   "outputs": [],
   "source": []
  },
  {
   "cell_type": "code",
   "execution_count": null,
   "metadata": {},
   "outputs": [],
   "source": [
    "test_bins = np.linspace(1, 71, 15)\n",
    "\n",
    "#NT_hist, NT_bins = np.histogram(Deff_vals_NT['Pore size [nm]'], density=1, bins=test_bins)\n",
    "#OGD_3h_hist, OGD_3h_bins = np.histogram(Deff_vals_OGD_3h['Pore size [nm]'], density=1, bins=test_bins)\n",
    "\n",
    "#NT_plot = Deff_vals_NT[\"Pore size [nm]\"].plot.hist(weights = np.ones_like(Deff_vals_NT.index) / len(Deff_vals_NT.index)*100, bins=[0,6,11,16,21,26,31,36,41,46,51,56,61,66,71],color='black')\n",
    "#OGD_plot = Deff_vals_OGD_3h[\"Pore size [nm]\"].plot.hist(weights = np.ones_like(Deff_vals_OGD_3h.index) / len(Deff_vals_OGD_3h.index)*100, bins=[0,6,11,16,21,26,31,36,41,46,51,56,61,66,71], color='goldenrod')\n",
    "\n",
    "plt.rc('axes', linewidth=2)\n",
    "#NT_plot, OGD_3h_plot = NT_hist, OGD_3h_hist\n",
    "bins = test_bins\n",
    "width = 0.7 * (bins[1] - bins[0])\n",
    "center = (bins[:-1] + bins[1:])/2\n",
    "\n",
    "plt.figure(1, dpi=300).tight_layout()\n",
    "#plt.bar(center, NT_plot, color='black', align='center', width=width, alpha=0.8, label='NT')\n",
    "NT_plot = Deff_vals_NT[\"Pore size [nm]\"].plot.hist(weights = np.ones_like(Deff_vals_NT.index) / len(Deff_vals_NT.index)*100, bins=[0,6,11,16,21,26,31,36,41,46,51,56,61,66,71],color='black',label='NT')\n",
    "plt.ylim(0, 41)\n",
    "plt.yticks(np.arange(0, 41, 10))\n",
    "plt.ylabel('% of pores', fontsize=20, weight='bold')\n",
    "plt.xlabel('pore size [nm]', fontsize=20, weight='bold')\n",
    "plt.tick_params(labelsize=18, length=8, width=2)\n",
    "\n",
    "plt.figure(1, dpi=300).tight_layout()\n",
    "#plt.bar(center, OGD_3h_plot, color='goldenrod', align='center', width=width, alpha=1, label='OGD 3h')\n",
    "OGD_plot = Deff_vals_OGD_3h[\"Pore size [nm]\"].plot.hist(weights = np.ones_like(Deff_vals_OGD_3h.index) / len(Deff_vals_OGD_3h.index)*100, bins=[0,6,11,16,21,26,31,36,41,46,51,56,61,66,71], alpha = 0.8, color='goldenrod', label='OGD 3h')\n",
    "plt.ylim(0, 41)\n",
    "plt.yticks(np.arange(0, 41, 10))\n",
    "plt.ylabel('% of pores', fontsize=20, weight='bold')\n",
    "plt.xlabel('pore size [nm]', fontsize=20, weight='bold')\n",
    "plt.tick_params(labelsize=18, length=8, width=2)\n",
    "for axis in ['top','bottom','left','right']:\n",
    "    ax4.spines[axis].set_linewidth(2)\n",
    "\n",
    "#plt.legend(fontsize='x-large', loc=1)\n",
    "plt.show()"
   ]
  },
  {
   "cell_type": "markdown",
   "metadata": {},
   "source": [
    "## Playing around for comarison to E's paper"
   ]
  },
  {
   "cell_type": "code",
   "execution_count": null,
   "metadata": {},
   "outputs": [],
   "source": [
    "Deff_vals_NT"
   ]
  },
  {
   "cell_type": "code",
   "execution_count": null,
   "metadata": {},
   "outputs": [],
   "source": [
    "Do/(Deff_vals_NT[\"Deff [um^2/s]\"].mean())"
   ]
  },
  {
   "cell_type": "code",
   "execution_count": null,
   "metadata": {},
   "outputs": [],
   "source": [
    "test_bins"
   ]
  }
 ],
 "metadata": {
  "kernelspec": {
   "display_name": "Python 3",
   "language": "python",
   "name": "python3"
  },
  "language_info": {
   "codemirror_mode": {
    "name": "ipython",
    "version": 3
   },
   "file_extension": ".py",
   "mimetype": "text/x-python",
   "name": "python",
   "nbconvert_exporter": "python",
   "pygments_lexer": "ipython3",
   "version": "3.7.4"
  }
 },
 "nbformat": 4,
 "nbformat_minor": 2
}
